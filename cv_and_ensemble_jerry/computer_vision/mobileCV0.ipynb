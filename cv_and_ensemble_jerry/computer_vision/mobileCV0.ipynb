{
 "cells": [
  {
   "cell_type": "code",
   "execution_count": 6,
   "metadata": {
    "scrolled": true
   },
   "outputs": [],
   "source": [
    "import pandas as pd\n",
    "import numpy as np\n",
    "import glob\n",
    "import gc\n",
    "import os\n",
    "import math\n",
    "import keras\n",
    "from keras.layers import CuDNNLSTM, Dense, TimeDistributed, Dropout, MaxPooling2D, Conv2D, Input\n",
    "from keras.layers import Flatten, BatchNormalization, Activation, Reshape, concatenate\n",
    "from keras.callbacks import LambdaCallback\n",
    "from keras.models import Model\n",
    "from keras import regularizers\n",
    "import random\n",
    "from sklearn.model_selection import KFold\n",
    "import keras.backend as K\n",
    "from sklearn.utils import class_weight\n",
    "import matplotlib.pyplot as plt\n",
    "import cv2\n",
    "from tqdm import tqdm\n",
    "\n",
    "from keras.applications.resnet50 import ResNet50\n",
    "from keras.applications.vgg16 import VGG16\n",
    "from keras.applications.inception_resnet_v2 import InceptionResNetV2\n",
    "from keras.applications.xception import Xception\n",
    "from keras.applications.densenet import DenseNet201\n",
    "from keras.applications.nasnet import NASNetLarge\n",
    "from keras.applications.mobilenet_v2 import MobileNetV2\n",
    "\n",
    "gc.enable()"
   ]
  },
  {
   "cell_type": "code",
   "execution_count": 7,
   "metadata": {},
   "outputs": [],
   "source": [
    "os.environ[\"CUDA_VISIBLE_DEVICES\"]=\"1\""
   ]
  },
  {
   "cell_type": "code",
   "execution_count": 8,
   "metadata": {},
   "outputs": [],
   "source": [
    "from modules import clr, LRFinder\n",
    "from modules.utils import DataGenerator"
   ]
  },
  {
   "cell_type": "code",
   "execution_count": 9,
   "metadata": {},
   "outputs": [],
   "source": [
    "import tensorflow as tf\n",
    "import random\n",
    "\n",
    "def seed_everything(seed=2019):\n",
    "    random.seed(seed)\n",
    "    os.environ['PYTHONHASHSEED'] = str(seed)\n",
    "    np.random.seed(seed)\n",
    "    session_conf = tf.ConfigProto(intra_op_parallelism_threads=1,\n",
    "                                  inter_op_parallelism_threads=1)\n",
    "    tf.set_random_seed(seed)\n",
    "\n",
    "    sess = tf.Session(graph=tf.get_default_graph(), config=session_conf)\n",
    "    K.set_session(sess)\n",
    "    \n",
    "seed_everything()\n"
   ]
  },
  {
   "cell_type": "code",
   "execution_count": 10,
   "metadata": {},
   "outputs": [],
   "source": [
    "train = pd.read_csv('data/train.csv')"
   ]
  },
  {
   "cell_type": "markdown",
   "metadata": {},
   "source": [
    "# load data"
   ]
  },
  {
   "cell_type": "code",
   "execution_count": 11,
   "metadata": {
    "scrolled": false
   },
   "outputs": [
    {
     "name": "stdout",
     "output_type": "stream",
     "text": [
      "    itemid                                              title  Category  \\\n",
      "0   307504               nyx sex bomb pallete natural palette         0   \n",
      "1   461203  etude house precious mineral any cushion pearl...         1   \n",
      "2  3592295                           milani rose powder blush         2   \n",
      "3  4460167                etude house baby sweet sugar powder         3   \n",
      "4  5853995       bedak revlon color stay aqua mineral make up         3   \n",
      "\n",
      "                                          image_path  \n",
      "0  beauty_image/6b2e9cbb279ac95703348368aa65da09.jpg  \n",
      "1  beauty_image/20450222d857c9571ba8fa23bdedc8c9.jpg  \n",
      "2  beauty_image/6a5962bed605a3dd6604ca3a4278a4f9.jpg  \n",
      "3  beauty_image/56987ae186e8a8e71fcc5a261ca485da.jpg  \n",
      "4  beauty_image/9c6968066ebab57588c2f757a240d8b9.jpg  \n"
     ]
    }
   ],
   "source": [
    "print(train.head())"
   ]
  },
  {
   "cell_type": "code",
   "execution_count": 12,
   "metadata": {},
   "outputs": [],
   "source": [
    "mobile_class = np.arange(31, 58)"
   ]
  },
  {
   "cell_type": "code",
   "execution_count": 13,
   "metadata": {},
   "outputs": [],
   "source": [
    "batchsize = 32\n",
    "height = 299\n",
    "width = 299\n",
    "seed = 2019\n",
    "path = \"\""
   ]
  },
  {
   "cell_type": "code",
   "execution_count": 14,
   "metadata": {},
   "outputs": [],
   "source": [
    "indexes = np.load('np_array/trn_index_m_fold.npy')\n",
    "val_index = indexes[0]\n",
    "trn_index = indexes[1]\n",
    "for i in [3,2,4]:\n",
    "    trn_index = np.append(trn_index, indexes[i])"
   ]
  },
  {
   "cell_type": "code",
   "execution_count": 15,
   "metadata": {},
   "outputs": [],
   "source": [
    "def simple_FC_layer(cv_input, classes):\n",
    "    cv_input_dense = Flatten()(cv_input.output)\n",
    "    main_ = Dropout(0.5)(cv_input_dense)\n",
    "    main_ = Dense(300)(main_)\n",
    "    output = Dense(len(classes), activation='softmax')(main_)\n",
    "    model = Model(inputs=cv_input.input, outputs=output)\n",
    "    return model"
   ]
  },
  {
   "cell_type": "code",
   "execution_count": 16,
   "metadata": {},
   "outputs": [],
   "source": [
    "img_paths_trn = list(train.iloc[trn_index, 3])\n",
    "labels_trn = train.iloc[trn_index, 2]\n",
    "labels_trn = np.array(labels_trn) - mobile_class[0]\n",
    "labels_trn = keras.utils.to_categorical(labels_trn, num_classes=len(mobile_class))\n",
    "\n",
    "img_paths_val = list(train.iloc[val_index, 3])\n",
    "labels_val = train.iloc[val_index, 2]\n",
    "labels_val = np.array(labels_val) - mobile_class[0]\n",
    "labels_val = keras.utils.to_categorical(labels_val, num_classes=len(mobile_class))\n",
    "\n",
    "params = {'dim': (299, 299),\n",
    "          'batch_size': 32,\n",
    "          'n_channels': 3,\n",
    "          'shuffle': True,\n",
    "          \"path\": path\n",
    "         }\n",
    "\n",
    "training_generator = DataGenerator(img_paths_trn, labels_trn, mobile_class, **params)\n",
    "testing_generator = DataGenerator(img_paths_val, labels_val, mobile_class, **params)"
   ]
  },
  {
   "cell_type": "code",
   "execution_count": 17,
   "metadata": {
    "scrolled": true
   },
   "outputs": [],
   "source": [
    "input_tensor=Input(shape=(height, width, 3))\n",
    "backbone_model = InceptionResNetV2(weights='imagenet', include_top=False, input_tensor=input_tensor)\n",
    "model = simple_FC_layer(backbone_model, mobile_class)"
   ]
  },
  {
   "cell_type": "code",
   "execution_count": 18,
   "metadata": {},
   "outputs": [],
   "source": [
    "model.load_weights('weights/mobile_0')"
   ]
  },
  {
   "cell_type": "code",
   "execution_count": 19,
   "metadata": {},
   "outputs": [],
   "source": [
    "class TestGenerator(keras.utils.Sequence):\n",
    "    'Generates data for Keras'\n",
    "    def __init__(self, image_paths, batch_size=1, dim=(299, 299), n_channels=3,\n",
    "                 shuffle=True, path=''):\n",
    "        'Initialization'\n",
    "        self.path = path\n",
    "        self.dim = dim\n",
    "        self.batch_size = batch_size\n",
    "        self.image_paths = image_paths\n",
    "        self.n_channels = n_channels\n",
    "        self.shuffle = shuffle\n",
    "        self.on_epoch_end()\n",
    "\n",
    "    def __len__(self):\n",
    "        'Denotes the number of batches per epoch'\n",
    "        return int(np.floor(len(self.image_paths) / self.batch_size))\n",
    "\n",
    "    def __getitem__(self, index):\n",
    "        'Generate one batch of data'\n",
    "        # Generate indexes of the batch\n",
    "        indexes = self.indexes[index*self.batch_size:(index+1)*self.batch_size]\n",
    "\n",
    "        # Generate data\n",
    "        X = self.__data_generation(indexes)\n",
    "\n",
    "        return X\n",
    "\n",
    "    def on_epoch_end(self):\n",
    "        'Updates indexes after each epoch'\n",
    "        self.indexes = np.arange(len(self.image_paths))\n",
    "        if self.shuffle == True:\n",
    "            np.random.shuffle(self.indexes)\n",
    "\n",
    "    def __data_generation(self, indexes):\n",
    "        'Generates data containing batch_size samples' # X : (n_samples, *dim, n_channels)\n",
    "        # Initialization\n",
    "        X = np.empty((self.batch_size, *self.dim, self.n_channels))\n",
    "\n",
    "        # Generate data\n",
    "        for i, idx in enumerate(indexes):\n",
    "            # Store sample\n",
    "            # X[i,] = np.load('data/' + ID + '.npy')\n",
    "            path_ = self.image_paths[idx]\n",
    "            image = cv2.imread(self.path+path_)\n",
    "            if image.size != (299, 299, 3):\n",
    "                image = cv2.resize(image, (299, 299))\n",
    "            X[i,] = image/255\n",
    "        \n",
    "        return X"
   ]
  },
  {
   "cell_type": "code",
   "execution_count": 20,
   "metadata": {},
   "outputs": [
    {
     "name": "stdout",
     "output_type": "stream",
     "text": [
      "1002/1002 [==============================] - 143s 143ms/step\n",
      "1196/1196 [==============================] - 296s 248ms/step\n",
      "1/1 [==============================] - 0s 320ms/step\n",
      "1002/1002 [==============================] - 140s 140ms/step\n",
      "1196/1196 [==============================] - 295s 247ms/step\n",
      "1/1 [==============================] - 0s 38ms/step\n"
     ]
    }
   ],
   "source": [
    "output = model.predict_generator(testing_generator, verbose=1)\n",
    "np.save('cv_predictions/cv_mobile_0.npy', output)\n",
    "test = pd.read_csv('data/test.csv')\n",
    "img_paths = np.array(test.iloc[:76545, 2])\n",
    "test_generator = TestGenerator(img_paths, shuffle=False, batch_size=64)\n",
    "output = model.predict_generator(test_generator, verbose=True)\n",
    "new_img_paths = img_paths[img_paths.shape[0]-img_paths.shape[0]%64:, ]\n",
    "new_test_generator = TestGenerator(new_img_paths, shuffle=False, batch_size=1)\n",
    "output_temp = model.predict_generator(new_test_generator, verbose=True)\n",
    "output = np.append(output, output_temp, axis=0)\n",
    "np.save('cv_predictions/cv_mobile_0_test.npy', output)\n",
    "model_embed = Model(inputs = model.input, outputs=model.layers[-2].output)\n",
    "output = model_embed.predict_generator(testing_generator, verbose=True)\n",
    "np.save('cv_predictions/cv_mobile_0_embed.npy', output)\n",
    "output = model_embed.predict_generator(test_generator, verbose=True)\n",
    "output_temp = model_embed.predict_generator(new_test_generator, verbose=True)\n",
    "output = np.append(output, output_temp, axis=0)\n",
    "np.save('cv_predictions/cv_mobile_0_test_embed.npy', output)"
   ]
  },
  {
   "cell_type": "code",
   "execution_count": null,
   "metadata": {},
   "outputs": [],
   "source": []
  }
 ],
 "metadata": {
  "kernelspec": {
   "display_name": "Python 3",
   "language": "python",
   "name": "python3"
  },
  "language_info": {
   "codemirror_mode": {
    "name": "ipython",
    "version": 3
   },
   "file_extension": ".py",
   "mimetype": "text/x-python",
   "name": "python",
   "nbconvert_exporter": "python",
   "pygments_lexer": "ipython3",
   "version": "3.6.7"
  }
 },
 "nbformat": 4,
 "nbformat_minor": 2
}
