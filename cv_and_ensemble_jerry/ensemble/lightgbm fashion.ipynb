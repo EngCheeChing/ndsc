{
 "cells": [
  {
   "cell_type": "code",
   "execution_count": 1,
   "metadata": {},
   "outputs": [],
   "source": [
    "import lightgbm as lgb\n",
    "import glob\n",
    "import numpy as np\n",
    "import pandas as pd"
   ]
  },
  {
   "cell_type": "code",
   "execution_count": 2,
   "metadata": {},
   "outputs": [],
   "source": [
    "train = pd.read_csv('data/train.csv')"
   ]
  },
  {
   "cell_type": "code",
   "execution_count": 3,
   "metadata": {},
   "outputs": [],
   "source": [
    "def calcualte_acc(x, y):\n",
    "    count = 0\n",
    "    for i, j in enumerate(x):\n",
    "        if j == y[i]:\n",
    "            count += 1\n",
    "    print(count/len(x))"
   ]
  },
  {
   "cell_type": "markdown",
   "metadata": {},
   "source": [
    "# beauty"
   ]
  },
  {
   "cell_type": "code",
   "execution_count": 4,
   "metadata": {},
   "outputs": [],
   "source": [
    "fashion_paths = glob.glob('predictions/fashion/*')"
   ]
  },
  {
   "cell_type": "code",
   "execution_count": 5,
   "metadata": {},
   "outputs": [],
   "source": [
    "embed_paths = glob.glob('predictions/fashion_embed/*')"
   ]
  },
  {
   "cell_type": "code",
   "execution_count": 6,
   "metadata": {},
   "outputs": [],
   "source": [
    "fashion_paths += embed_paths"
   ]
  },
  {
   "cell_type": "code",
   "execution_count": 7,
   "metadata": {},
   "outputs": [
    {
     "data": {
      "text/plain": [
       "['predictions/fashion/gru',\n",
       " 'predictions/fashion/conv1d_1',\n",
       " 'predictions/fashion/lstm',\n",
       " 'predictions/fashion/conv1d_2',\n",
       " 'predictions/fashion/conv1d_3',\n",
       " 'predictions/fashion/conv1d_2layers']"
      ]
     },
     "execution_count": 7,
     "metadata": {},
     "output_type": "execute_result"
    }
   ],
   "source": [
    "fashion_paths"
   ]
  },
  {
   "cell_type": "code",
   "execution_count": 8,
   "metadata": {},
   "outputs": [],
   "source": [
    "test_paths = glob.glob('predictions/test/*')"
   ]
  },
  {
   "cell_type": "code",
   "execution_count": 13,
   "metadata": {},
   "outputs": [],
   "source": [
    "test_paths = ['predictions/test/gru.npy',\n",
    " 'predictions/test/conv1d_1.npy',\n",
    " 'predictions/test/lstm.npy',\n",
    " 'predictions/test/conv1d_2.npy',\n",
    " 'predictions/test/conv1d_3.npy',\n",
    " 'predictions/test/con1d_2layers.npy']"
   ]
  },
  {
   "cell_type": "code",
   "execution_count": 14,
   "metadata": {},
   "outputs": [
    {
     "name": "stdout",
     "output_type": "stream",
     "text": [
      "(172402, 14)\n"
     ]
    }
   ],
   "source": [
    "test_set = np.load(test_paths[0])[:, 17:31]\n",
    "print(test_set.shape)\n",
    "for i in test_paths[1:]:\n",
    "    test_set = np.append(test_set, np.load(i)[:, 17:31], axis=1)"
   ]
  },
  {
   "cell_type": "code",
   "execution_count": 15,
   "metadata": {},
   "outputs": [],
   "source": [
    "test_set = test_set[76545:131985, :]"
   ]
  },
  {
   "cell_type": "code",
   "execution_count": null,
   "metadata": {},
   "outputs": [],
   "source": []
  },
  {
   "cell_type": "code",
   "execution_count": 16,
   "metadata": {},
   "outputs": [],
   "source": [
    "num_classes = 14"
   ]
  },
  {
   "cell_type": "code",
   "execution_count": 17,
   "metadata": {},
   "outputs": [],
   "source": [
    "params={\n",
    "        \"objective\" : \"multiclass\",\n",
    "        \"num_class\" : num_classes,\n",
    "        \"num_leaves\" : 63,\n",
    "        \"max_depth\": -1,\n",
    "        \"learning_rate\" : 0.01,\n",
    "        \"bagging_fraction\" : 0.9,  # subsample\n",
    "        \"feature_fraction\" : 0.9,  # colsample_bytree\n",
    "        \"bagging_freq\" : 5,        # subsample_freq\n",
    "        \"bagging_seed\" : 2019,\n",
    "        'max_bin': 63,\n",
    "        #'device': 'gpu',\n",
    "        'metric': 'multi_logloss',\n",
    "        'multi_logloss': 'gbdt'\n",
    "}"
   ]
  },
  {
   "cell_type": "code",
   "execution_count": 18,
   "metadata": {},
   "outputs": [
    {
     "name": "stdout",
     "output_type": "stream",
     "text": [
      "(43941,)\n",
      "(43941,)\n",
      "(43940,)\n",
      "(43940,)\n",
      "(43940,)\n"
     ]
    }
   ],
   "source": [
    "indexes = np.load('np_array/trn_index_f_fold.npy')\n",
    "for i in indexes:\n",
    "    print(i.shape)"
   ]
  },
  {
   "cell_type": "code",
   "execution_count": 19,
   "metadata": {},
   "outputs": [
    {
     "name": "stdout",
     "output_type": "stream",
     "text": [
      "predictions/fashion/gru/fashion_predictions_3.npy\n",
      "(43940, 14)\n",
      "predictions/fashion/gru/fashion_predictions_1.npy\n",
      "(43941, 14)\n",
      "predictions/fashion/gru/fashion_predictions_0.npy\n",
      "(43941, 14)\n",
      "predictions/fashion/gru/fashion_predictions_4.npy\n",
      "(43940, 14)\n",
      "predictions/fashion/gru/fashion_predictions_2.npy\n",
      "(43940, 14)\n"
     ]
    }
   ],
   "source": [
    "for i in range(5):\n",
    "    print(glob.glob(fashion_paths[0]+'/*')[i])\n",
    "    print(np.load(glob.glob(fashion_paths[0]+'/*')[i]).shape)"
   ]
  },
  {
   "cell_type": "code",
   "execution_count": 20,
   "metadata": {
    "scrolled": true
   },
   "outputs": [
    {
     "name": "stdout",
     "output_type": "stream",
     "text": [
      "fold_0\n",
      "3\n",
      "(175762, 84)\n",
      "(43940, 84)\n",
      "Training until validation scores don't improve for 100 rounds.\n",
      "[100]\ttraining's multi_logloss: 1.32262\tvalid_1's multi_logloss: 1.37975\n",
      "[200]\ttraining's multi_logloss: 1.0869\tvalid_1's multi_logloss: 1.17557\n",
      "[300]\ttraining's multi_logloss: 0.983217\tvalid_1's multi_logloss: 1.10094\n",
      "[400]\ttraining's multi_logloss: 0.92455\tvalid_1's multi_logloss: 1.0702\n",
      "[500]\ttraining's multi_logloss: 0.884141\tvalid_1's multi_logloss: 1.05631\n",
      "[600]\ttraining's multi_logloss: 0.85274\tvalid_1's multi_logloss: 1.04972\n",
      "[700]\ttraining's multi_logloss: 0.826359\tvalid_1's multi_logloss: 1.0465\n",
      "[800]\ttraining's multi_logloss: 0.803476\tvalid_1's multi_logloss: 1.0452\n",
      "[900]\ttraining's multi_logloss: 0.78312\tvalid_1's multi_logloss: 1.04461\n",
      "[1000]\ttraining's multi_logloss: 0.764746\tvalid_1's multi_logloss: 1.04454\n",
      "[1100]\ttraining's multi_logloss: 0.747651\tvalid_1's multi_logloss: 1.04472\n",
      "Early stopping, best iteration is:\n",
      "[1000]\ttraining's multi_logloss: 0.764746\tvalid_1's multi_logloss: 1.04454\n",
      "fold_1\n",
      "1\n",
      "(175761, 84)\n",
      "(43941, 84)\n",
      "Training until validation scores don't improve for 100 rounds.\n",
      "[100]\ttraining's multi_logloss: 1.32334\tvalid_1's multi_logloss: 1.37567\n",
      "[200]\ttraining's multi_logloss: 1.08753\tvalid_1's multi_logloss: 1.17155\n",
      "[300]\ttraining's multi_logloss: 0.983638\tvalid_1's multi_logloss: 1.09771\n",
      "[400]\ttraining's multi_logloss: 0.924754\tvalid_1's multi_logloss: 1.06803\n",
      "[500]\ttraining's multi_logloss: 0.884413\tvalid_1's multi_logloss: 1.05501\n",
      "[600]\ttraining's multi_logloss: 0.853037\tvalid_1's multi_logloss: 1.04896\n",
      "[700]\ttraining's multi_logloss: 0.826419\tvalid_1's multi_logloss: 1.04612\n",
      "[800]\ttraining's multi_logloss: 0.80334\tvalid_1's multi_logloss: 1.04489\n",
      "[900]\ttraining's multi_logloss: 0.782875\tvalid_1's multi_logloss: 1.04439\n",
      "[1000]\ttraining's multi_logloss: 0.764303\tvalid_1's multi_logloss: 1.04446\n",
      "Early stopping, best iteration is:\n",
      "[954]\ttraining's multi_logloss: 0.77257\tvalid_1's multi_logloss: 1.04435\n",
      "fold_2\n",
      "0\n",
      "(175761, 84)\n",
      "(43941, 84)\n",
      "Training until validation scores don't improve for 100 rounds.\n",
      "[100]\ttraining's multi_logloss: 1.32267\tvalid_1's multi_logloss: 1.38111\n",
      "[200]\ttraining's multi_logloss: 1.08697\tvalid_1's multi_logloss: 1.17662\n",
      "[300]\ttraining's multi_logloss: 0.98325\tvalid_1's multi_logloss: 1.10176\n",
      "[400]\ttraining's multi_logloss: 0.924695\tvalid_1's multi_logloss: 1.07096\n",
      "[500]\ttraining's multi_logloss: 0.884085\tvalid_1's multi_logloss: 1.05687\n",
      "[600]\ttraining's multi_logloss: 0.852775\tvalid_1's multi_logloss: 1.05001\n",
      "[700]\ttraining's multi_logloss: 0.826353\tvalid_1's multi_logloss: 1.04676\n",
      "[800]\ttraining's multi_logloss: 0.803226\tvalid_1's multi_logloss: 1.04526\n",
      "[900]\ttraining's multi_logloss: 0.782737\tvalid_1's multi_logloss: 1.04479\n",
      "[1000]\ttraining's multi_logloss: 0.764329\tvalid_1's multi_logloss: 1.0447\n",
      "Early stopping, best iteration is:\n",
      "[973]\ttraining's multi_logloss: 0.768981\tvalid_1's multi_logloss: 1.04467\n",
      "fold_3\n",
      "4\n",
      "(175762, 84)\n",
      "(43940, 84)\n",
      "Training until validation scores don't improve for 100 rounds.\n",
      "[100]\ttraining's multi_logloss: 1.32365\tvalid_1's multi_logloss: 1.37001\n",
      "[200]\ttraining's multi_logloss: 1.08773\tvalid_1's multi_logloss: 1.1672\n",
      "[300]\ttraining's multi_logloss: 0.983654\tvalid_1's multi_logloss: 1.09545\n",
      "[400]\ttraining's multi_logloss: 0.924785\tvalid_1's multi_logloss: 1.06718\n",
      "[500]\ttraining's multi_logloss: 0.884478\tvalid_1's multi_logloss: 1.05485\n",
      "[600]\ttraining's multi_logloss: 0.853012\tvalid_1's multi_logloss: 1.04933\n",
      "[700]\ttraining's multi_logloss: 0.826437\tvalid_1's multi_logloss: 1.04687\n",
      "[800]\ttraining's multi_logloss: 0.803407\tvalid_1's multi_logloss: 1.04602\n",
      "[900]\ttraining's multi_logloss: 0.783127\tvalid_1's multi_logloss: 1.04602\n",
      "Early stopping, best iteration is:\n",
      "[832]\ttraining's multi_logloss: 0.796638\tvalid_1's multi_logloss: 1.04598\n",
      "fold_4\n",
      "2\n",
      "(175762, 84)\n",
      "(43940, 84)\n",
      "Training until validation scores don't improve for 100 rounds.\n",
      "[100]\ttraining's multi_logloss: 1.32508\tvalid_1's multi_logloss: 1.37032\n",
      "[200]\ttraining's multi_logloss: 1.08957\tvalid_1's multi_logloss: 1.16526\n",
      "[300]\ttraining's multi_logloss: 0.986108\tvalid_1's multi_logloss: 1.09094\n",
      "[400]\ttraining's multi_logloss: 0.927273\tvalid_1's multi_logloss: 1.06044\n",
      "[500]\ttraining's multi_logloss: 0.886989\tvalid_1's multi_logloss: 1.04665\n",
      "[600]\ttraining's multi_logloss: 0.855558\tvalid_1's multi_logloss: 1.0399\n",
      "[700]\ttraining's multi_logloss: 0.829175\tvalid_1's multi_logloss: 1.03653\n",
      "[800]\ttraining's multi_logloss: 0.806222\tvalid_1's multi_logloss: 1.03497\n",
      "[900]\ttraining's multi_logloss: 0.785695\tvalid_1's multi_logloss: 1.03422\n",
      "[1000]\ttraining's multi_logloss: 0.76707\tvalid_1's multi_logloss: 1.03405\n",
      "[1100]\ttraining's multi_logloss: 0.750078\tvalid_1's multi_logloss: 1.03437\n",
      "Early stopping, best iteration is:\n",
      "[1010]\ttraining's multi_logloss: 0.765311\tvalid_1's multi_logloss: 1.03405\n"
     ]
    }
   ],
   "source": [
    "test_output = np.zeros((test_set.shape[0], 14))\n",
    "for i in range(5):\n",
    "    print('fold_{}'.format(i))\n",
    "    lst = [0,1,2,3,4]\n",
    "    lst.remove(i)\n",
    "\n",
    "    trn_set = np.load(glob.glob(fashion_paths[0]+'/*')[lst[0]])\n",
    "    val_set = np.load(glob.glob(fashion_paths[0]+'/*')[i])\n",
    "    \n",
    "    for j in fashion_paths[1:]:\n",
    "        trn_set = np.append(trn_set, np.load(glob.glob(j+'/*')[lst[0]]), axis=1)\n",
    "        val_set = np.append(val_set, np.load(glob.glob(j+'/*')[i]), axis=1)\n",
    "    #trn_set = trn_set.reshape(trn_set.shape[0], 1)\n",
    "        \n",
    "    for x in lst[1:]:\n",
    "        one_row = np.load(glob.glob(fashion_paths[0]+'/*')[x])\n",
    "        for j in fashion_paths[1:]:\n",
    "            one_row = np.append(one_row, np.load(glob.glob(j+'/*')[x]), axis=1)\n",
    "        trn_set = np.append(trn_set, one_row, axis=0)\n",
    "    \n",
    "    indexes = np.load('np_array/trn_index_f_fold.npy')\n",
    "    index = int(glob.glob(fashion_paths[0] + '/*')[i][-5])\n",
    "    print(index)\n",
    "    val_index = indexes[index]\n",
    "    other_lst = [0,1,2,3,4]\n",
    "    other_lst.remove(index)\n",
    "    trn_index = indexes[other_lst[0]]\n",
    "    other_lst.remove(other_lst[0])\n",
    "    for num in other_lst:\n",
    "        trn_index = np.append(trn_index, indexes[num])\n",
    "        \n",
    "    labels_trn = train.iloc[trn_index, 2]\n",
    "    labels_trn = np.array(labels_trn) - 17\n",
    "\n",
    "    labels_val = train.iloc[val_index, 2]\n",
    "    labels_val = np.array(labels_val) - 17\n",
    "    \n",
    "    print(trn_set.shape)\n",
    "    print(val_set.shape)\n",
    "    lgtrain, lgval = lgb.Dataset(trn_set, labels_trn), lgb.Dataset(val_set, labels_val)\n",
    "    lgbmodel = lgb.train(params, lgtrain, 2000, valid_sets=[lgtrain, lgval], early_stopping_rounds=100, verbose_eval=100)\n",
    "    pred = lgbmodel.predict(val_set)\n",
    "    np.save('first_layer/five_nlp_{}'.format(index), pred)\n",
    "    pred = lgbmodel.predict(test_set)\n",
    "    test_output += pred/5"
   ]
  },
  {
   "cell_type": "code",
   "execution_count": 21,
   "metadata": {},
   "outputs": [],
   "source": [
    "np.save('fashion_five_test', test_output)"
   ]
  },
  {
   "cell_type": "code",
   "execution_count": null,
   "metadata": {},
   "outputs": [],
   "source": []
  },
  {
   "cell_type": "code",
   "execution_count": 40,
   "metadata": {},
   "outputs": [],
   "source": [
    "predictions = []\n",
    "for i in pred:\n",
    "    predictions.append(list(i).index(i.max()))"
   ]
  },
  {
   "cell_type": "code",
   "execution_count": 41,
   "metadata": {},
   "outputs": [
    {
     "data": {
      "text/plain": [
       "(43940,)"
      ]
     },
     "execution_count": 41,
     "metadata": {},
     "output_type": "execute_result"
    }
   ],
   "source": [
    "labels_val.shape"
   ]
  },
  {
   "cell_type": "code",
   "execution_count": 42,
   "metadata": {},
   "outputs": [
    {
     "data": {
      "text/plain": [
       "43940"
      ]
     },
     "execution_count": 42,
     "metadata": {},
     "output_type": "execute_result"
    }
   ],
   "source": [
    "len(predictions)"
   ]
  },
  {
   "cell_type": "code",
   "execution_count": 43,
   "metadata": {},
   "outputs": [
    {
     "name": "stdout",
     "output_type": "stream",
     "text": [
      "0.6520937642239417\n"
     ]
    }
   ],
   "source": [
    "calcualte_acc(predictions, labels_val)"
   ]
  },
  {
   "cell_type": "code",
   "execution_count": null,
   "metadata": {},
   "outputs": [],
   "source": []
  }
 ],
 "metadata": {
  "kernelspec": {
   "display_name": "Python 3",
   "language": "python",
   "name": "python3"
  },
  "language_info": {
   "codemirror_mode": {
    "name": "ipython",
    "version": 3
   },
   "file_extension": ".py",
   "mimetype": "text/x-python",
   "name": "python",
   "nbconvert_exporter": "python",
   "pygments_lexer": "ipython3",
   "version": "3.6.8"
  }
 },
 "nbformat": 4,
 "nbformat_minor": 2
}
