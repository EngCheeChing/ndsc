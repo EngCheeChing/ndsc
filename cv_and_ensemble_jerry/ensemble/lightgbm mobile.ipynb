{
 "cells": [
  {
   "cell_type": "code",
   "execution_count": 1,
   "metadata": {},
   "outputs": [],
   "source": [
    "import lightgbm as lgb\n",
    "import glob\n",
    "import numpy as np\n",
    "import pandas as pd"
   ]
  },
  {
   "cell_type": "code",
   "execution_count": 2,
   "metadata": {},
   "outputs": [],
   "source": [
    "train = pd.read_csv('data/train.csv')"
   ]
  },
  {
   "cell_type": "code",
   "execution_count": 3,
   "metadata": {},
   "outputs": [],
   "source": [
    "def calcualte_acc(x, y):\n",
    "    count = 0\n",
    "    for i, j in enumerate(x):\n",
    "        if j == y[i]:\n",
    "            count += 1\n",
    "    print(count/len(x))"
   ]
  },
  {
   "cell_type": "code",
   "execution_count": 4,
   "metadata": {},
   "outputs": [],
   "source": [
    "mobile_paths = glob.glob('predictions/mobile/*')"
   ]
  },
  {
   "cell_type": "code",
   "execution_count": 5,
   "metadata": {},
   "outputs": [
    {
     "data": {
      "text/plain": [
       "['predictions/mobile\\\\conv1d_1',\n",
       " 'predictions/mobile\\\\conv1d_2layers',\n",
       " 'predictions/mobile\\\\conv1d_3',\n",
       " 'predictions/mobile\\\\gru',\n",
       " 'predictions/mobile\\\\lstm']"
      ]
     },
     "execution_count": 5,
     "metadata": {},
     "output_type": "execute_result"
    }
   ],
   "source": [
    "mobile_paths"
   ]
  },
  {
   "cell_type": "code",
   "execution_count": 9,
   "metadata": {},
   "outputs": [],
   "source": [
    "test_paths = ['predictions/test/conv1d_1.npy',\n",
    "'predictions/test/conv1d_2layers.npy',\n",
    " 'predictions/test/conv1d_3.npy',\n",
    " 'predictions/test/gru.npy',\n",
    " 'predictions/test/lstm.npy']"
   ]
  },
  {
   "cell_type": "code",
   "execution_count": 10,
   "metadata": {},
   "outputs": [
    {
     "data": {
      "text/plain": [
       "['predictions/test/conv1d_1.npy',\n",
       " 'predictions/test/conv1d_2layers.npy',\n",
       " 'predictions/test/conv1d_3.npy',\n",
       " 'predictions/test/gru.npy',\n",
       " 'predictions/test/lstm.npy']"
      ]
     },
     "execution_count": 10,
     "metadata": {},
     "output_type": "execute_result"
    }
   ],
   "source": [
    "test_paths"
   ]
  },
  {
   "cell_type": "code",
   "execution_count": 11,
   "metadata": {},
   "outputs": [
    {
     "name": "stdout",
     "output_type": "stream",
     "text": [
      "(172402, 27)\n"
     ]
    }
   ],
   "source": [
    "test_set = np.load(test_paths[0])[:, 31:]\n",
    "print(test_set.shape)\n",
    "for i in test_paths[1:]:\n",
    "    test_set = np.append(test_set, np.load(i)[:, 31:], axis=1)"
   ]
  },
  {
   "cell_type": "code",
   "execution_count": 12,
   "metadata": {},
   "outputs": [],
   "source": [
    "test_set = test_set[131985:, :]"
   ]
  },
  {
   "cell_type": "code",
   "execution_count": 13,
   "metadata": {},
   "outputs": [],
   "source": [
    "num_classes = 27"
   ]
  },
  {
   "cell_type": "code",
   "execution_count": 14,
   "metadata": {},
   "outputs": [],
   "source": [
    "params={\n",
    "        \"objective\" : \"multiclass\",\n",
    "        \"num_class\" : num_classes,\n",
    "        \"num_leaves\" : 63,\n",
    "        \"max_depth\": -1,\n",
    "        \"learning_rate\" : 0.01,\n",
    "        \"bagging_fraction\" : 0.9,  # subsample\n",
    "        \"feature_fraction\" : 0.9,  # colsample_bytree\n",
    "        \"bagging_freq\" : 5,        # subsample_freq\n",
    "        \"bagging_seed\" : 2019,\n",
    "        'max_bin': 63,\n",
    "        #'device': 'gpu',\n",
    "        'metric': 'multi_logloss',\n",
    "}"
   ]
  },
  {
   "cell_type": "code",
   "execution_count": 18,
   "metadata": {
    "collapsed": true
   },
   "outputs": [
    {
     "name": "stdout",
     "output_type": "stream",
     "text": [
      "predictions/mobile\\conv1d_1\\mobile_predictions_0.npy\n",
      "(32066, 27)\n",
      "predictions/mobile\\conv1d_1\\mobile_predictions_1.npy\n",
      "(32066, 27)\n",
      "predictions/mobile\\conv1d_1\\mobile_predictions_2.npy\n",
      "(32066, 27)\n",
      "predictions/mobile\\conv1d_1\\mobile_predictions_3.npy\n",
      "(32066, 27)\n",
      "predictions/mobile\\conv1d_1\\mobile_predictions_4.npy\n",
      "(32066, 27)\n",
      "predictions/mobile\\conv1d_2layers\\mobile_predictions_0.npy\n",
      "(32066, 27)\n",
      "predictions/mobile\\conv1d_2layers\\mobile_predictions_1.npy\n",
      "(32066, 27)\n",
      "predictions/mobile\\conv1d_2layers\\mobile_predictions_2.npy\n",
      "(32066, 27)\n",
      "predictions/mobile\\conv1d_2layers\\mobile_predictions_3.npy\n",
      "(32066, 27)\n",
      "predictions/mobile\\conv1d_2layers\\mobile_predictions_4.npy\n",
      "(32066, 27)\n",
      "predictions/mobile\\conv1d_3\\mobile_predictions_0.npy\n",
      "(32066, 27)\n",
      "predictions/mobile\\conv1d_3\\mobile_predictions_1.npy\n",
      "(32066, 27)\n",
      "predictions/mobile\\conv1d_3\\mobile_predictions_2.npy\n",
      "(32066, 27)\n",
      "predictions/mobile\\conv1d_3\\mobile_predictions_3.npy\n",
      "(32066, 27)\n",
      "predictions/mobile\\conv1d_3\\mobile_predictions_4.npy\n",
      "(32066, 27)\n",
      "predictions/mobile\\gru\\mobile_predictions_0.npy\n",
      "(32066, 27)\n",
      "predictions/mobile\\gru\\mobile_predictions_1.npy\n",
      "(32066, 27)\n",
      "predictions/mobile\\gru\\mobile_predictions_2.npy\n",
      "(32066, 27)\n",
      "predictions/mobile\\gru\\mobile_predictions_3.npy\n",
      "(32066, 27)\n",
      "predictions/mobile\\gru\\mobile_predictions_4.npy\n",
      "(32066, 27)\n",
      "predictions/mobile\\lstm\\mobile_predictions_0.npy\n",
      "(32066, 27)\n",
      "predictions/mobile\\lstm\\mobile_predictions_1.npy\n",
      "(32066, 27)\n",
      "predictions/mobile\\lstm\\mobile_predictions_2.npy\n",
      "(32066, 27)\n",
      "predictions/mobile\\lstm\\mobile_predictions_3.npy\n",
      "(32066, 27)\n",
      "predictions/mobile\\lstm\\mobile_predictions_4.npy\n",
      "(32066, 27)\n"
     ]
    }
   ],
   "source": [
    "for j in range(len(mobile_paths)):\n",
    "    for i in range(5):\n",
    "        print(glob.glob(mobile_paths[j]+'/*')[i])\n",
    "        print(np.load(glob.glob(mobile_paths[j]+'/*')[i]).shape)"
   ]
  },
  {
   "cell_type": "code",
   "execution_count": null,
   "metadata": {},
   "outputs": [
    {
     "name": "stdout",
     "output_type": "stream",
     "text": [
      "fold_0\n",
      "0\n",
      "(128264, 135)\n",
      "(32066, 135)\n",
      "Training until validation scores don't improve for 100 rounds.\n",
      "[100]\ttraining's multi_logloss: 1.10285\tvalid_1's multi_logloss: 1.18026\n",
      "[200]\ttraining's multi_logloss: 0.680044\tvalid_1's multi_logloss: 0.789668\n",
      "[300]\ttraining's multi_logloss: 0.510354\tvalid_1's multi_logloss: 0.649814\n",
      "[400]\ttraining's multi_logloss: 0.424194\tvalid_1's multi_logloss: 0.593471\n",
      "[500]\ttraining's multi_logloss: 0.370371\tvalid_1's multi_logloss: 0.568051\n",
      "[600]\ttraining's multi_logloss: 0.333826\tvalid_1's multi_logloss: 0.555902\n",
      "[700]\ttraining's multi_logloss: 0.307711\tvalid_1's multi_logloss: 0.550305\n",
      "[800]\ttraining's multi_logloss: 0.287802\tvalid_1's multi_logloss: 0.548128\n",
      "[900]\ttraining's multi_logloss: 0.271406\tvalid_1's multi_logloss: 0.548073\n",
      "Early stopping, best iteration is:\n",
      "[857]\ttraining's multi_logloss: 0.278105\tvalid_1's multi_logloss: 0.547841\n",
      "0.8347470841389634\n",
      "fold_1\n",
      "1\n",
      "(128264, 135)\n",
      "(32066, 135)\n",
      "Training until validation scores don't improve for 100 rounds.\n",
      "[100]\ttraining's multi_logloss: 1.10455\tvalid_1's multi_logloss: 1.17656\n",
      "[200]\ttraining's multi_logloss: 0.68137\tvalid_1's multi_logloss: 0.785091\n",
      "[300]\ttraining's multi_logloss: 0.511123\tvalid_1's multi_logloss: 0.644859\n",
      "[400]\ttraining's multi_logloss: 0.42479\tvalid_1's multi_logloss: 0.588149\n",
      "[500]\ttraining's multi_logloss: 0.371358\tvalid_1's multi_logloss: 0.563092\n",
      "[600]\ttraining's multi_logloss: 0.334565\tvalid_1's multi_logloss: 0.551158\n",
      "[700]\ttraining's multi_logloss: 0.308669\tvalid_1's multi_logloss: 0.545756\n",
      "[800]\ttraining's multi_logloss: 0.288814\tvalid_1's multi_logloss: 0.543979\n",
      "[900]\ttraining's multi_logloss: 0.272545\tvalid_1's multi_logloss: 0.543917\n",
      "Early stopping, best iteration is:\n",
      "[871]\ttraining's multi_logloss: 0.277045\tvalid_1's multi_logloss: 0.543736\n",
      "0.8347782698184993\n",
      "fold_2\n",
      "2\n",
      "(128264, 135)\n",
      "(32066, 135)\n",
      "Training until validation scores don't improve for 100 rounds.\n",
      "[100]\ttraining's multi_logloss: 1.10151\tvalid_1's multi_logloss: 1.18959\n"
     ]
    }
   ],
   "source": [
    "test_output = np.zeros((test_set.shape[0], num_classes))\n",
    "for i in range(5):\n",
    "    print('fold_{}'.format(i))\n",
    "    lst = [0,1,2,3,4]\n",
    "    lst.remove(i)\n",
    "\n",
    "    trn_set = np.load(glob.glob(mobile_paths[0]+'/*')[lst[0]])\n",
    "    val_set = np.load(glob.glob(mobile_paths[0]+'/*')[i])\n",
    "    \n",
    "    for j in mobile_paths[1:]:\n",
    "        trn_set = np.append(trn_set, np.load(glob.glob(j+'/*')[lst[0]]), axis=1)\n",
    "        val_set = np.append(val_set, np.load(glob.glob(j+'/*')[i]), axis=1)\n",
    "    #trn_set = trn_set.reshape(trn_set.shape[0], 1)\n",
    "        \n",
    "    for x in lst[1:]:\n",
    "        one_row = np.load(glob.glob(mobile_paths[0]+'/*')[x])\n",
    "        for j in mobile_paths[1:]:\n",
    "            one_row = np.append(one_row, np.load(glob.glob(j+'/*')[x]), axis=1)\n",
    "        trn_set = np.append(trn_set, one_row, axis=0)\n",
    "    \n",
    "    indexes = np.load('np_array/trn_index_m_fold.npy')\n",
    "    index = int(glob.glob(mobile_paths[0] + '/*')[i][-5])\n",
    "    print(index)\n",
    "    val_index = indexes[index]\n",
    "    other_lst = [0,1,2,3,4]\n",
    "    other_lst.remove(index)\n",
    "    trn_index = indexes[other_lst[0]]\n",
    "    other_lst.remove(other_lst[0])\n",
    "    for num in other_lst:\n",
    "        trn_index = np.append(trn_index, indexes[num])\n",
    "        \n",
    "    labels_trn = train.iloc[trn_index, 2]\n",
    "    labels_trn = np.array(labels_trn) - 31\n",
    "\n",
    "    labels_val = train.iloc[val_index, 2]\n",
    "    labels_val = np.array(labels_val) - 31\n",
    "    \n",
    "    print(trn_set.shape)\n",
    "    print(val_set.shape)\n",
    "    lgtrain, lgval = lgb.Dataset(trn_set, labels_trn), lgb.Dataset(val_set, labels_val)\n",
    "    lgbmodel = lgb.train(params, lgtrain, 2000, valid_sets=[lgtrain, lgval], early_stopping_rounds=100, verbose_eval=100)\n",
    "    pred = lgbmodel.predict(val_set)\n",
    "    \n",
    "    predictions = []\n",
    "    for i in pred:\n",
    "        predictions.append(list(i).index(i.max()))\n",
    "    calcualte_acc(predictions, labels_val)\n",
    "    \n",
    "    np.save('first_layer/five_nlp_{}_rf'.format(index), pred)\n",
    "    pred = lgbmodel.predict(test_set)\n",
    "    test_output += pred/5"
   ]
  },
  {
   "cell_type": "code",
   "execution_count": 23,
   "metadata": {},
   "outputs": [],
   "source": [
    "np.save('first_layer/mobile_five_test', test_output)"
   ]
  },
  {
   "cell_type": "code",
   "execution_count": 24,
   "metadata": {},
   "outputs": [
    {
     "data": {
      "text/plain": [
       "(40417, 27)"
      ]
     },
     "execution_count": 24,
     "metadata": {},
     "output_type": "execute_result"
    }
   ],
   "source": [
    "test_output.shape"
   ]
  },
  {
   "cell_type": "code",
   "execution_count": 30,
   "metadata": {},
   "outputs": [
    {
     "name": "stdout",
     "output_type": "stream",
     "text": [
      "0.7924350541724096\n"
     ]
    }
   ],
   "source": [
    "calcualte_acc(predictions, labels_val)"
   ]
  }
 ],
 "metadata": {
  "kernelspec": {
   "display_name": "Python 3",
   "language": "python",
   "name": "python3"
  },
  "language_info": {
   "codemirror_mode": {
    "name": "ipython",
    "version": 3
   },
   "file_extension": ".py",
   "mimetype": "text/x-python",
   "name": "python",
   "nbconvert_exporter": "python",
   "pygments_lexer": "ipython3",
   "version": "3.5.2"
  }
 },
 "nbformat": 4,
 "nbformat_minor": 2
}
