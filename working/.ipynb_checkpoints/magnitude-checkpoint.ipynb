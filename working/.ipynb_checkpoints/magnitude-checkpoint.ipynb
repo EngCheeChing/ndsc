{
 "cells": [
  {
   "cell_type": "code",
   "execution_count": 1,
   "metadata": {},
   "outputs": [
    {
     "data": {
      "text/plain": [
       "0.9550000002008151"
      ]
     },
     "execution_count": 1,
     "metadata": {},
     "output_type": "execute_result"
    }
   ],
   "source": [
    "from pymagnitude import Magnitude\n",
    "vectors = Magnitude(\"../input/quora-insincere-questions-classification/GoogleNews-vectors-negative300.magnitude\")\n",
    "# ImportError: cannot import name 'convert'\n",
    "# please follow instructions in https://github.com/plasticityai/magnitude/issues/41\n",
    "\n",
    "\"uberx\" in vectors # False\n",
    "\"uberxl\" in vectors # False\n",
    "vectors.query(\"uberx\") # array([ 5.07109939e-02, -7.08248823e-02, -2.74812328e-02, ... ])\n",
    "vectors.query(\"uberxl\") # array([ 0.04734962, -0.08237578, -0.0333479, -0.00229564, ... ])\n",
    "vectors.similarity(\"uberx\", \"uberxl\") # 0.955000000200815"
   ]
  },
  {
   "cell_type": "code",
   "execution_count": null,
   "metadata": {},
   "outputs": [],
   "source": []
  }
 ],
 "metadata": {
  "kernelspec": {
   "display_name": "Python 3",
   "language": "python",
   "name": "python3"
  },
  "language_info": {
   "codemirror_mode": {
    "name": "ipython",
    "version": 3
   },
   "file_extension": ".py",
   "mimetype": "text/x-python",
   "name": "python",
   "nbconvert_exporter": "python",
   "pygments_lexer": "ipython3",
   "version": "3.5.3"
  }
 },
 "nbformat": 4,
 "nbformat_minor": 2
}
