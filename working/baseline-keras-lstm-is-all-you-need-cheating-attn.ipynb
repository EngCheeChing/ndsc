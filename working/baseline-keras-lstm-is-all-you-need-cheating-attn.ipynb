{
 "cells": [
  {
   "cell_type": "code",
   "execution_count": 1,
   "metadata": {
    "_cell_guid": "79c7e3d0-c299-4dcb-8224-4455121ee9b0",
    "_uuid": "d629ff2d2480ee46fbb7e2d37f6b5fab8052498a"
   },
   "outputs": [],
   "source": [
    "import os\n",
    "import math\n",
    "from tqdm import tqdm\n",
    "import numpy as np # linear algebra\n",
    "import pandas as pd # data processing, CSV file I/O (e.g. pd.read_csv)\n",
    "from sklearn.model_selection import train_test_split"
   ]
  },
  {
   "cell_type": "markdown",
   "metadata": {
    "_uuid": "21f85dfd5b9bf3d8b27ba29149d52253e5d64049"
   },
   "source": [
    "# Setup"
   ]
  },
  {
   "cell_type": "code",
   "execution_count": 2,
   "metadata": {
    "_uuid": "78578eab64a477d0a5ad6b1c917ae154868a44df"
   },
   "outputs": [
    {
     "data": {
      "text/html": [
       "<div>\n",
       "<style scoped>\n",
       "    .dataframe tbody tr th:only-of-type {\n",
       "        vertical-align: middle;\n",
       "    }\n",
       "\n",
       "    .dataframe tbody tr th {\n",
       "        vertical-align: top;\n",
       "    }\n",
       "\n",
       "    .dataframe thead th {\n",
       "        text-align: right;\n",
       "    }\n",
       "</style>\n",
       "<table border=\"1\" class=\"dataframe\">\n",
       "  <thead>\n",
       "    <tr style=\"text-align: right;\">\n",
       "      <th></th>\n",
       "      <th>itemid</th>\n",
       "      <th>title</th>\n",
       "      <th>Category</th>\n",
       "      <th>image_path</th>\n",
       "      <th>Supercategory</th>\n",
       "    </tr>\n",
       "  </thead>\n",
       "  <tbody>\n",
       "    <tr>\n",
       "      <th>322769</th>\n",
       "      <td>1131017203</td>\n",
       "      <td>gaun maxi wanita dengan model split dan kerah ...</td>\n",
       "      <td>18</td>\n",
       "      <td>fashion_image/67394a11a1ad9071dcf84faa1c4f24a9</td>\n",
       "      <td>f</td>\n",
       "    </tr>\n",
       "    <tr>\n",
       "      <th>475539</th>\n",
       "      <td>1303669217</td>\n",
       "      <td>becca basic top atasan katun polos</td>\n",
       "      <td>26</td>\n",
       "      <td>fashion_image/bb04188452add6436f27db04e60677fe</td>\n",
       "      <td>f</td>\n",
       "    </tr>\n",
       "    <tr>\n",
       "      <th>56357</th>\n",
       "      <td>1704236768</td>\n",
       "      <td>terbaru clinique derma white clarifying bright...</td>\n",
       "      <td>5</td>\n",
       "      <td>beauty_image/f902bbe87b06c7e0f93b1d4b7435f5ff.jpg</td>\n",
       "      <td>b</td>\n",
       "    </tr>\n",
       "    <tr>\n",
       "      <th>276435</th>\n",
       "      <td>1283523346</td>\n",
       "      <td>kylie cosmetics koko kollection matte liquid l...</td>\n",
       "      <td>12</td>\n",
       "      <td>beauty_image/52996c931a0550d56315e7e7047e75be.jpg</td>\n",
       "      <td>b</td>\n",
       "    </tr>\n",
       "    <tr>\n",
       "      <th>451707</th>\n",
       "      <td>1741654741</td>\n",
       "      <td>95 cotton embroidery t shirt female short slee...</td>\n",
       "      <td>26</td>\n",
       "      <td>fashion_image/65e18a9c99578f7f95c697ce9da3a173</td>\n",
       "      <td>f</td>\n",
       "    </tr>\n",
       "  </tbody>\n",
       "</table>\n",
       "</div>"
      ],
      "text/plain": [
       "            itemid      ...      Supercategory\n",
       "322769  1131017203      ...                  f\n",
       "475539  1303669217      ...                  f\n",
       "56357   1704236768      ...                  b\n",
       "276435  1283523346      ...                  b\n",
       "451707  1741654741      ...                  f\n",
       "\n",
       "[5 rows x 5 columns]"
      ]
     },
     "execution_count": 2,
     "metadata": {},
     "output_type": "execute_result"
    }
   ],
   "source": [
    "train_df = pd.read_csv(\"../input/ndsc-beginner/train.csv\")\n",
    "train_df[\"Supercategory\"] = train_df[\"image_path\"].str[0]\n",
    "train_df = train_df.sample(frac=1.)\n",
    "val_df = train_df[:400]\n",
    "val_df.head()"
   ]
  },
  {
   "cell_type": "code",
   "execution_count": 3,
   "metadata": {
    "_uuid": "92ffbf2ef35d2dc5863ee27c61eadd1869ca5440"
   },
   "outputs": [
    {
     "name": "stderr",
     "output_type": "stream",
     "text": [
      "2196018it [03:25, 10696.93it/s]"
     ]
    },
    {
     "name": "stdout",
     "output_type": "stream",
     "text": [
      "Found 2196017 word vectors.\n"
     ]
    },
    {
     "name": "stderr",
     "output_type": "stream",
     "text": [
      "\n"
     ]
    }
   ],
   "source": [
    "# Embdedding setup, save it in a dictionary for easier queries\n",
    "embeddings_index = {}\n",
    "f = open('../input/glove840b300dtxt/glove.840B.300d.txt')\n",
    "for line in tqdm(f):\n",
    "    values = line.split(\" \")\n",
    "    word = values[0]\n",
    "    coefs = np.asarray(values[1:], dtype='float32')\n",
    "    embeddings_index[word] = coefs\n",
    "f.close()\n",
    "\n",
    "print('Found %s word vectors.' % len(embeddings_index))"
   ]
  },
  {
   "cell_type": "code",
   "execution_count": 4,
   "metadata": {
    "_uuid": "656aac528a152225f0150ed2be209003f07ebbc1"
   },
   "outputs": [],
   "source": [
    "# Convert values to embeddings\n",
    "def text_to_array(text):\n",
    "    empyt_emb = np.zeros(300)\n",
    "    text = text[:-1].split()[:100]\n",
    "    embeds = [embeddings_index.get(x, empyt_emb) for x in text]\n",
    "    embeds+= [empyt_emb] * (100 - len(embeds))\n",
    "    return np.array(embeds)"
   ]
  },
  {
   "cell_type": "code",
   "execution_count": 5,
   "metadata": {
    "_uuid": "9cc8b0bcd285225ce651d024f506615d4656b9f7"
   },
   "outputs": [],
   "source": [
    "val_vects = np.array([text_to_array(X_text) for X_text in (val_df[\"title\"][:])])\n",
    "val_y_labels = np.array(val_df[\"Category\"])\n",
    "val_y = np.zeros((len(val_y_labels), 58))\n",
    "val_y[np.arange(len(val_y_labels)), val_y_labels] = 1"
   ]
  },
  {
   "cell_type": "code",
   "execution_count": 6,
   "metadata": {
    "_uuid": "dd1ca77b4e449cd1c0d02c0ea2f1fa616e479117"
   },
   "outputs": [
    {
     "name": "stdout",
     "output_type": "stream",
     "text": [
      "(128, 100, 300)\n",
      "(128, 58)\n",
      "[[[ 0.34834999 -0.03355     0.48804    ...  0.83594    -0.066742\n",
      "   -0.33065   ]\n",
      "  [ 0.43643999 -0.17101    -0.089925   ...  0.46792001  0.32587999\n",
      "   -0.44595   ]\n",
      "  [-0.20595001 -0.02593     0.90377998 ...  0.58156002 -0.38868001\n",
      "   -0.62717003]\n",
      "  ...\n",
      "  [ 0.          0.          0.         ...  0.          0.\n",
      "    0.        ]\n",
      "  [ 0.          0.          0.         ...  0.          0.\n",
      "    0.        ]\n",
      "  [ 0.          0.          0.         ...  0.          0.\n",
      "    0.        ]]\n",
      "\n",
      " [[ 0.0014461   0.39166    -0.087443   ... -0.0046101  -0.34825999\n",
      "   -0.026866  ]\n",
      "  [-0.17470001  0.036289   -0.049236   ... -0.26769     0.13463999\n",
      "    0.14734   ]\n",
      "  [-0.085851    0.12848     0.053524   ... -0.31143999  0.32584\n",
      "    0.042455  ]\n",
      "  ...\n",
      "  [ 0.          0.          0.         ...  0.          0.\n",
      "    0.        ]\n",
      "  [ 0.          0.          0.         ...  0.          0.\n",
      "    0.        ]\n",
      "  [ 0.          0.          0.         ...  0.          0.\n",
      "    0.        ]]\n",
      "\n",
      " [[-0.0047187  -0.46237999  0.42904001 ...  0.31542    -0.29899001\n",
      "   -0.54913998]\n",
      "  [-0.18291     0.67180997 -0.67502999 ... -0.1505      0.24899\n",
      "   -0.24631999]\n",
      "  [ 0.3743     -0.12501    -0.62813997 ...  0.28343001 -0.25187999\n",
      "   -0.19772001]\n",
      "  ...\n",
      "  [ 0.          0.          0.         ...  0.          0.\n",
      "    0.        ]\n",
      "  [ 0.          0.          0.         ...  0.          0.\n",
      "    0.        ]\n",
      "  [ 0.          0.          0.         ...  0.          0.\n",
      "    0.        ]]\n",
      "\n",
      " ...\n",
      "\n",
      " [[ 0.18061     0.085702   -0.095462   ... -0.38416001  0.21286\n",
      "    0.34066001]\n",
      "  [-0.39392    -0.039078   -0.75673997 ...  0.58635002  0.26486999\n",
      "   -0.034024  ]\n",
      "  [ 0.1459     -0.13291    -0.034207   ...  0.33526     0.39212999\n",
      "    0.16968   ]\n",
      "  ...\n",
      "  [ 0.          0.          0.         ...  0.          0.\n",
      "    0.        ]\n",
      "  [ 0.          0.          0.         ...  0.          0.\n",
      "    0.        ]\n",
      "  [ 0.          0.          0.         ...  0.          0.\n",
      "    0.        ]]\n",
      "\n",
      " [[ 0.18561     0.45644999  0.20558999 ...  0.042216    0.18849\n",
      "   -0.17543   ]\n",
      "  [ 0.19847     0.18087    -0.089119   ... -0.24263    -0.035183\n",
      "   -0.29661   ]\n",
      "  [ 0.37843999  0.52875    -0.38637    ... -0.15922999 -0.39247999\n",
      "    0.49274999]\n",
      "  ...\n",
      "  [ 0.          0.          0.         ...  0.          0.\n",
      "    0.        ]\n",
      "  [ 0.          0.          0.         ...  0.          0.\n",
      "    0.        ]\n",
      "  [ 0.          0.          0.         ...  0.          0.\n",
      "    0.        ]]\n",
      "\n",
      " [[ 0.37581     0.4736     -0.07164    ...  0.55448997 -0.41352999\n",
      "    0.66259998]\n",
      "  [ 0.26903999 -0.39397001  0.043868   ...  0.1649     -0.81856\n",
      "    0.43597001]\n",
      "  [ 0.043798    0.024779   -0.20937    ... -0.30098999 -0.14584\n",
      "    0.28187999]\n",
      "  ...\n",
      "  [ 0.          0.          0.         ...  0.          0.\n",
      "    0.        ]\n",
      "  [ 0.          0.          0.         ...  0.          0.\n",
      "    0.        ]\n",
      "  [ 0.          0.          0.         ...  0.          0.\n",
      "    0.        ]]]\n",
      "[[0. 0. 0. ... 0. 0. 0.]\n",
      " [0. 0. 0. ... 0. 0. 0.]\n",
      " [0. 0. 0. ... 0. 0. 0.]\n",
      " ...\n",
      " [0. 0. 0. ... 0. 0. 0.]\n",
      " [0. 0. 0. ... 0. 0. 0.]\n",
      " [0. 0. 0. ... 0. 0. 0.]]\n"
     ]
    }
   ],
   "source": [
    "# Understand what a batch is made of\n",
    "batch_size = 128\n",
    "i = 0\n",
    "texts = train_df.iloc[i*batch_size:(i+1)*batch_size, 1]\n",
    "text_arr = np.array([text_to_array(text) for text in texts])\n",
    "batch_labels = np.array(train_df[\"Category\"][i*batch_size:(i+1)*batch_size])\n",
    "batch_targets = np.zeros((batch_size, 58))\n",
    "batch_targets[np.arange(batch_size), batch_labels] = 1\n",
    "print(np.shape(text_arr))\n",
    "print(np.shape(batch_targets))\n",
    "print(text_arr)\n",
    "print(batch_targets)"
   ]
  },
  {
   "cell_type": "code",
   "execution_count": 7,
   "metadata": {
    "_uuid": "0c950448e0717eaebb920d93cfdc6b4561e21853"
   },
   "outputs": [],
   "source": [
    "# Write generator, which \n",
    "batch_size = 128\n",
    "\n",
    "def batch_gen(train_df):\n",
    "    n_batches = math.floor(len(train_df) / batch_size)\n",
    "    while True: \n",
    "        train_df = train_df.sample(frac=1.)  # Shuffle the data.\n",
    "        for i in range(n_batches):\n",
    "            texts = train_df.iloc[i*batch_size:(i+1)*batch_size, 1]\n",
    "            text_arr = np.array([text_to_array(text) for text in texts])\n",
    "            batch_labels = np.array(train_df[\"Category\"][i*batch_size:(i+1)*batch_size])\n",
    "            batch_targets = np.zeros((batch_size, 58))\n",
    "            batch_targets[np.arange(batch_size), batch_labels] = 1\n",
    "            yield text_arr, batch_targets"
   ]
  },
  {
   "cell_type": "markdown",
   "metadata": {
    "_uuid": "706c0224b6112e5a8f00ad25f35e90fbb9519a5f"
   },
   "source": [
    "# Training"
   ]
  },
  {
   "cell_type": "code",
   "execution_count": 8,
   "metadata": {
    "_uuid": "798c303ec834fb530a60a1e590cfbd9a86f93fde"
   },
   "outputs": [
    {
     "name": "stderr",
     "output_type": "stream",
     "text": [
      "Using TensorFlow backend.\n"
     ]
    }
   ],
   "source": [
    "from keras.models import Sequential\n",
    "from keras.layers import CuDNNLSTM, Dense, Bidirectional, Activation"
   ]
  },
  {
   "cell_type": "code",
   "execution_count": 9,
   "metadata": {
    "_uuid": "9ad418c95b31ab5691d49b72c7c9622ef9ea42cf"
   },
   "outputs": [],
   "source": [
    "from keras.models import Model\n",
    "from keras.layers import CuDNNLSTM, Dense, Bidirectional, Activation, Input, Dropout, Permute, Reshape, concatenate, Flatten\n",
    "from keras.layers import BatchNormalization\n",
    "from keras import regularizers\n",
    "\n",
    "INPUT_DIM = 300\n",
    "TIME_STEPS = 100\n",
    "# if True, the attention vector is shared across the input_dimensions where the attention is applied.\n",
    "SINGLE_ATTENTION_VECTOR = False\n",
    "\n",
    "def attention_3d_block(inputs):\n",
    "    # inputs.shape = (batch_size, time_steps, input_dim)\n",
    "    input_dim = int(inputs.shape[2])\n",
    "    a = Permute((2, 1))(inputs)\n",
    "    a = Reshape((input_dim, TIME_STEPS))(a) # this line is not useful. It's just to know which dimension is what.\n",
    "    a = Dense(TIME_STEPS, activation='softmax')(a)\n",
    "    if SINGLE_ATTENTION_VECTOR:\n",
    "        a = Lambda(lambda x: K.mean(x, axis=1), name='dim_reduction')(a)\n",
    "        a = RepeatVector(input_dim)(a)\n",
    "    a_probs = Permute((2, 1), name='attention_vec')(a)\n",
    "    output_attention_mul = concatenate([inputs, a_probs])\n",
    "    return output_attention_mul\n",
    "\n",
    "inputs_embed = Input((TIME_STEPS, INPUT_DIM))\n",
    "\n",
    "lstm_1 = CuDNNLSTM(64, return_sequences=True)(inputs_embed)\n",
    "lstm_2 = CuDNNLSTM(64, return_sequences=True)(lstm_1)\n",
    "\n",
    "attention = attention_3d_block(lstm_2)\n",
    "attention = Flatten()(attention)\n",
    "\n",
    "fc_layer = Dense(128, activation='relu', kernel_regularizer=regularizers.l2(0.01))(attention)\n",
    "fc_layer = BatchNormalization()(fc_layer)\n",
    "fc_layer = Dropout(0.2)(fc_layer)\n",
    "outputs = Dense(58, activation='softmax')(fc_layer)\n",
    "\n",
    "model = Model(inputs=inputs_embed, outputs=outputs)\n",
    "model.compile(optimizer='adam', loss='categorical_crossentropy', metrics=['accuracy'])"
   ]
  },
  {
   "cell_type": "code",
   "execution_count": 10,
   "metadata": {
    "_uuid": "d95214c0b7d80b6a317bae3c473b9825ed8e7cde"
   },
   "outputs": [],
   "source": [
    "mg = batch_gen(train_df)"
   ]
  },
  {
   "cell_type": "code",
   "execution_count": 11,
   "metadata": {
    "_uuid": "c154dc6a64db266ab09ed4f5724fa7b3cbf8a598"
   },
   "outputs": [
    {
     "name": "stdout",
     "output_type": "stream",
     "text": [
      "Epoch 1/5\n",
      "1000/1000 [==============================] - 85s 85ms/step - loss: 1.5672 - acc: 0.6005 - val_loss: 1.4964 - val_acc: 0.6000\n",
      "Epoch 2/5\n",
      "1000/1000 [==============================] - 80s 80ms/step - loss: 1.2893 - acc: 0.6491 - val_loss: 1.3308 - val_acc: 0.6350\n",
      "Epoch 3/5\n",
      "1000/1000 [==============================] - 79s 79ms/step - loss: 1.2300 - acc: 0.6582 - val_loss: 1.2984 - val_acc: 0.6475\n",
      "Epoch 4/5\n",
      "1000/1000 [==============================] - 79s 79ms/step - loss: 1.1848 - acc: 0.6667 - val_loss: 1.1169 - val_acc: 0.6975\n",
      "Epoch 5/5\n",
      "1000/1000 [==============================] - 78s 78ms/step - loss: 1.1500 - acc: 0.6736 - val_loss: 1.1683 - val_acc: 0.6850\n"
     ]
    },
    {
     "data": {
      "text/plain": [
       "<keras.callbacks.History at 0x7fb7a784ee10>"
      ]
     },
     "execution_count": 11,
     "metadata": {},
     "output_type": "execute_result"
    }
   ],
   "source": [
    "model.fit_generator(mg, epochs=5,\n",
    "                    steps_per_epoch=1000,\n",
    "                    validation_data=(val_vects, val_y),\n",
    "                    verbose=True)"
   ]
  },
  {
   "cell_type": "code",
   "execution_count": 12,
   "metadata": {
    "_uuid": "537060b58f4605e21129d9972e6d09efc4ef85c5"
   },
   "outputs": [
    {
     "name": "stdout",
     "output_type": "stream",
     "text": [
      "Epoch 1/5\n",
      "1000/1000 [==============================] - 81s 81ms/step - loss: 1.1235 - acc: 0.6788 - val_loss: 1.0907 - val_acc: 0.6950\n",
      "Epoch 2/5\n",
      "1000/1000 [==============================] - 80s 80ms/step - loss: 1.1014 - acc: 0.6823 - val_loss: 1.0888 - val_acc: 0.7025\n",
      "Epoch 3/5\n",
      "1000/1000 [==============================] - 81s 81ms/step - loss: 1.0977 - acc: 0.6820 - val_loss: 0.9992 - val_acc: 0.7225\n",
      "Epoch 4/5\n",
      "1000/1000 [==============================] - 81s 81ms/step - loss: 1.0911 - acc: 0.6824 - val_loss: 1.0480 - val_acc: 0.7125\n",
      "Epoch 5/5\n",
      "1000/1000 [==============================] - 80s 80ms/step - loss: 1.0843 - acc: 0.6848 - val_loss: 1.0021 - val_acc: 0.6975\n"
     ]
    },
    {
     "data": {
      "text/plain": [
       "<keras.callbacks.History at 0x7fb7a784ec50>"
      ]
     },
     "execution_count": 12,
     "metadata": {},
     "output_type": "execute_result"
    }
   ],
   "source": [
    "model.fit_generator(mg, epochs=5,\n",
    "                    steps_per_epoch=1000,\n",
    "                    validation_data=(val_vects, val_y),\n",
    "                    verbose=True)"
   ]
  },
  {
   "cell_type": "code",
   "execution_count": 13,
   "metadata": {
    "_uuid": "1df79b8915d5b4ee580041447dff54ea63f58717"
   },
   "outputs": [
    {
     "name": "stdout",
     "output_type": "stream",
     "text": [
      "Epoch 1/5\n",
      "1000/1000 [==============================] - 81s 81ms/step - loss: 1.0638 - acc: 0.6894 - val_loss: 1.0669 - val_acc: 0.6925\n",
      "Epoch 2/5\n",
      "1000/1000 [==============================] - 80s 80ms/step - loss: 1.0524 - acc: 0.6931 - val_loss: 0.9610 - val_acc: 0.7150\n",
      "Epoch 3/5\n",
      "1000/1000 [==============================] - 80s 80ms/step - loss: 1.0496 - acc: 0.6933 - val_loss: 0.9671 - val_acc: 0.7400\n",
      "Epoch 4/5\n",
      "1000/1000 [==============================] - 80s 80ms/step - loss: 1.0517 - acc: 0.6920 - val_loss: 1.0263 - val_acc: 0.6925\n",
      "Epoch 5/5\n",
      "1000/1000 [==============================] - 80s 80ms/step - loss: 1.0436 - acc: 0.6964 - val_loss: 0.9492 - val_acc: 0.7100\n"
     ]
    },
    {
     "data": {
      "text/plain": [
       "<keras.callbacks.History at 0x7fb79587cd30>"
      ]
     },
     "execution_count": 13,
     "metadata": {},
     "output_type": "execute_result"
    }
   ],
   "source": [
    "model.fit_generator(mg, epochs=5,\n",
    "                    steps_per_epoch=1000,\n",
    "                    validation_data=(val_vects, val_y),\n",
    "                    verbose=True)"
   ]
  },
  {
   "cell_type": "code",
   "execution_count": 14,
   "metadata": {
    "_uuid": "fa7da3eb071c732f1a7a05f80ce7aa82475416d3"
   },
   "outputs": [
    {
     "name": "stdout",
     "output_type": "stream",
     "text": [
      "Epoch 1/5\n",
      "1000/1000 [==============================] - 81s 81ms/step - loss: 1.0352 - acc: 0.6951 - val_loss: 0.9176 - val_acc: 0.7175\n",
      "Epoch 2/5\n",
      "1000/1000 [==============================] - 81s 81ms/step - loss: 1.0208 - acc: 0.6992 - val_loss: 1.0088 - val_acc: 0.6825\n",
      "Epoch 3/5\n",
      "1000/1000 [==============================] - 81s 81ms/step - loss: 1.0213 - acc: 0.7000 - val_loss: 0.9413 - val_acc: 0.7225\n",
      "Epoch 4/5\n",
      "1000/1000 [==============================] - 81s 81ms/step - loss: 1.0231 - acc: 0.7004 - val_loss: 0.9455 - val_acc: 0.7175\n",
      "Epoch 5/5\n",
      "1000/1000 [==============================] - 81s 81ms/step - loss: 1.0174 - acc: 0.7017 - val_loss: 0.9393 - val_acc: 0.7350\n"
     ]
    },
    {
     "data": {
      "text/plain": [
       "<keras.callbacks.History at 0x7fb7a784eda0>"
      ]
     },
     "execution_count": 14,
     "metadata": {},
     "output_type": "execute_result"
    }
   ],
   "source": [
    "model.fit_generator(mg, epochs=5,\n",
    "                    steps_per_epoch=1000,\n",
    "                    validation_data=(val_vects, val_y),\n",
    "                    verbose=True)"
   ]
  },
  {
   "cell_type": "code",
   "execution_count": 15,
   "metadata": {
    "_uuid": "3f0b703ded691293450beb4ddf2d903d0e08c737",
    "scrolled": true
   },
   "outputs": [
    {
     "name": "stdout",
     "output_type": "stream",
     "text": [
      "Epoch 1/5\n",
      "1000/1000 [==============================] - 82s 82ms/step - loss: 1.0183 - acc: 0.7015 - val_loss: 0.9537 - val_acc: 0.7225\n",
      "Epoch 2/5\n",
      "1000/1000 [==============================] - 81s 81ms/step - loss: 1.0010 - acc: 0.7081 - val_loss: 0.9096 - val_acc: 0.7400\n",
      "Epoch 3/5\n",
      "1000/1000 [==============================] - 81s 81ms/step - loss: 1.0033 - acc: 0.7068 - val_loss: 0.9558 - val_acc: 0.7075\n",
      "Epoch 4/5\n",
      "1000/1000 [==============================] - 82s 82ms/step - loss: 1.0029 - acc: 0.7049 - val_loss: 0.9345 - val_acc: 0.7125\n",
      "Epoch 5/5\n",
      "1000/1000 [==============================] - 82s 82ms/step - loss: 1.0007 - acc: 0.7056 - val_loss: 0.9628 - val_acc: 0.7375\n"
     ]
    },
    {
     "data": {
      "text/plain": [
       "<keras.callbacks.History at 0x7fb79587cda0>"
      ]
     },
     "execution_count": 15,
     "metadata": {},
     "output_type": "execute_result"
    }
   ],
   "source": [
    "model.fit_generator(mg, epochs=5,\n",
    "                    steps_per_epoch=1000,\n",
    "                    validation_data=(val_vects, val_y),\n",
    "                    verbose=True)"
   ]
  },
  {
   "cell_type": "markdown",
   "metadata": {
    "_uuid": "d6cdda0e301be0b84e826e29f0f3a85c41aa6da9"
   },
   "source": [
    "# Inference"
   ]
  },
  {
   "cell_type": "code",
   "execution_count": 16,
   "metadata": {
    "_uuid": "b1a907c3653f1e5b47c88a7b54fa017cfa993cfc"
   },
   "outputs": [
    {
     "data": {
      "text/html": [
       "<div>\n",
       "<style scoped>\n",
       "    .dataframe tbody tr th:only-of-type {\n",
       "        vertical-align: middle;\n",
       "    }\n",
       "\n",
       "    .dataframe tbody tr th {\n",
       "        vertical-align: top;\n",
       "    }\n",
       "\n",
       "    .dataframe thead th {\n",
       "        text-align: right;\n",
       "    }\n",
       "</style>\n",
       "<table border=\"1\" class=\"dataframe\">\n",
       "  <thead>\n",
       "    <tr style=\"text-align: right;\">\n",
       "      <th></th>\n",
       "      <th>itemid</th>\n",
       "      <th>title</th>\n",
       "      <th>image_path</th>\n",
       "      <th>Supercategory</th>\n",
       "    </tr>\n",
       "  </thead>\n",
       "  <tbody>\n",
       "    <tr>\n",
       "      <th>0</th>\n",
       "      <td>370855998</td>\n",
       "      <td>flormar 7 white cream bb spf 30 40ml</td>\n",
       "      <td>beauty_image/1588591395c5a254bab84042005f2a9f.jpg</td>\n",
       "      <td>b</td>\n",
       "    </tr>\n",
       "    <tr>\n",
       "      <th>1</th>\n",
       "      <td>637234604</td>\n",
       "      <td>maybelline clear smooth all in one bb cream sp...</td>\n",
       "      <td>beauty_image/920985ed9587ea20f58686ea74e20f93.jpg</td>\n",
       "      <td>b</td>\n",
       "    </tr>\n",
       "    <tr>\n",
       "      <th>2</th>\n",
       "      <td>690282890</td>\n",
       "      <td>murah innisfree eco natural green tea bb cream...</td>\n",
       "      <td>beauty_image/90b40e5710f54352b243fcfb0f5d1d7f.jpg</td>\n",
       "      <td>b</td>\n",
       "    </tr>\n",
       "    <tr>\n",
       "      <th>3</th>\n",
       "      <td>930913462</td>\n",
       "      <td>loreal white perfect day cream spf 17 pa white...</td>\n",
       "      <td>beauty_image/289c668ef3d70e1d929d602d52d5d78a.jpg</td>\n",
       "      <td>b</td>\n",
       "    </tr>\n",
       "    <tr>\n",
       "      <th>4</th>\n",
       "      <td>1039280071</td>\n",
       "      <td>hada labo cc cream ultimate anti aging spf 35 ...</td>\n",
       "      <td>beauty_image/d5b3e652c5822d2306f4560488ec30c6.jpg</td>\n",
       "      <td>b</td>\n",
       "    </tr>\n",
       "  </tbody>\n",
       "</table>\n",
       "</div>"
      ],
      "text/plain": [
       "       itemid      ...      Supercategory\n",
       "0   370855998      ...                  b\n",
       "1   637234604      ...                  b\n",
       "2   690282890      ...                  b\n",
       "3   930913462      ...                  b\n",
       "4  1039280071      ...                  b\n",
       "\n",
       "[5 rows x 4 columns]"
      ]
     },
     "execution_count": 16,
     "metadata": {},
     "output_type": "execute_result"
    }
   ],
   "source": [
    "test_df = pd.read_csv(\"../input/ndsc-beginner/test.csv\")\n",
    "test_df[\"Supercategory\"] = test_df[\"image_path\"].str[0]\n",
    "test_df.head()"
   ]
  },
  {
   "cell_type": "code",
   "execution_count": 17,
   "metadata": {
    "_uuid": "b58cd95254f41e5002a17de0c3feab54a5fc3c67"
   },
   "outputs": [
    {
     "name": "stderr",
     "output_type": "stream",
     "text": [
      "1347it [02:14, 10.00it/s]\n"
     ]
    }
   ],
   "source": [
    "# Make the prediction from the model\n",
    "batch_size = 128\n",
    "def batch_gen(test_df):\n",
    "    n_batches = math.ceil(len(test_df) / batch_size)\n",
    "    for i in range(n_batches):\n",
    "        texts = test_df.iloc[i*batch_size:(i+1)*batch_size, 1]\n",
    "        text_arr = np.array([text_to_array(text) for text in texts])\n",
    "        yield text_arr\n",
    "\n",
    "all_preds = []\n",
    "for x in tqdm(batch_gen(test_df)):\n",
    "    all_preds.extend(model.predict(x))"
   ]
  },
  {
   "cell_type": "code",
   "execution_count": 18,
   "metadata": {
    "_uuid": "3e6ed54def110c881f401c6f8a844752baedcfbd"
   },
   "outputs": [
    {
     "name": "stdout",
     "output_type": "stream",
     "text": [
      "(172402, 58)\n"
     ]
    }
   ],
   "source": [
    "print(np.shape(all_preds))\n",
    "supercats = test_df[\"Supercategory\"]\n",
    "supercat_dict = {\n",
    "    \"b\" : np.array([1]*17 + [0]*14 + [0]*27),\n",
    "    \"f\" : np.array([0]*17 + [1]*14 + [0]*27),\n",
    "    \"m\" : np.array([0]*17 + [0]*14 + [1]*27)\n",
    "}\n"
   ]
  },
  {
   "cell_type": "code",
   "execution_count": 19,
   "metadata": {
    "_uuid": "8457fa8d1c9915873e836d250c0b797ac2fa951a"
   },
   "outputs": [
    {
     "name": "stdout",
     "output_type": "stream",
     "text": [
      "(172402, 58)\n"
     ]
    }
   ],
   "source": [
    "print(np.shape(all_preds))\n",
    "y_te = [np.argmax(pred) for pred,supercat in zip(all_preds,supercats)]\n",
    "\n",
    "submit_df = pd.DataFrame({\"itemid\": test_df[\"itemid\"], \"Category\": y_te})\n",
    "submit_df.to_csv(\"submission_no_cheat.csv\", index=False)"
   ]
  },
  {
   "cell_type": "code",
   "execution_count": 20,
   "metadata": {
    "_uuid": "118e18c97098dd2f9b8bb38d82714deb49ff63cf"
   },
   "outputs": [
    {
     "name": "stdout",
     "output_type": "stream",
     "text": [
      "(172402, 58)\n"
     ]
    }
   ],
   "source": [
    "print(np.shape(all_preds))\n",
    "y_te = [np.argmax(pred*supercat_dict[supercat]) for pred,supercat in zip(all_preds,supercats)]\n",
    "\n",
    "submit_df = pd.DataFrame({\"itemid\": test_df[\"itemid\"], \"Category\": y_te})\n",
    "submit_df.to_csv(\"submission.csv\", index=False)"
   ]
  },
  {
   "cell_type": "code",
   "execution_count": 21,
   "metadata": {
    "_uuid": "363548b1cd5de65abae88a3f2bc091ff76f2fc70"
   },
   "outputs": [
    {
     "data": {
      "text/html": [
       "<div>\n",
       "<style scoped>\n",
       "    .dataframe tbody tr th:only-of-type {\n",
       "        vertical-align: middle;\n",
       "    }\n",
       "\n",
       "    .dataframe tbody tr th {\n",
       "        vertical-align: top;\n",
       "    }\n",
       "\n",
       "    .dataframe thead th {\n",
       "        text-align: right;\n",
       "    }\n",
       "</style>\n",
       "<table border=\"1\" class=\"dataframe\">\n",
       "  <thead>\n",
       "    <tr style=\"text-align: right;\">\n",
       "      <th></th>\n",
       "      <th>itemid</th>\n",
       "      <th>Category</th>\n",
       "    </tr>\n",
       "  </thead>\n",
       "  <tbody>\n",
       "    <tr>\n",
       "      <th>0</th>\n",
       "      <td>370855998</td>\n",
       "      <td>5</td>\n",
       "    </tr>\n",
       "    <tr>\n",
       "      <th>1</th>\n",
       "      <td>637234604</td>\n",
       "      <td>5</td>\n",
       "    </tr>\n",
       "    <tr>\n",
       "      <th>2</th>\n",
       "      <td>690282890</td>\n",
       "      <td>5</td>\n",
       "    </tr>\n",
       "    <tr>\n",
       "      <th>3</th>\n",
       "      <td>930913462</td>\n",
       "      <td>9</td>\n",
       "    </tr>\n",
       "    <tr>\n",
       "      <th>4</th>\n",
       "      <td>1039280071</td>\n",
       "      <td>5</td>\n",
       "    </tr>\n",
       "  </tbody>\n",
       "</table>\n",
       "</div>"
      ],
      "text/plain": [
       "       itemid  Category\n",
       "0   370855998         5\n",
       "1   637234604         5\n",
       "2   690282890         5\n",
       "3   930913462         9\n",
       "4  1039280071         5"
      ]
     },
     "execution_count": 21,
     "metadata": {},
     "output_type": "execute_result"
    }
   ],
   "source": [
    "submit_df.head()"
   ]
  },
  {
   "cell_type": "code",
   "execution_count": 22,
   "metadata": {
    "_uuid": "b6bef2cc99773ae5f27789d5c9f7275841fc0bdb"
   },
   "outputs": [
    {
     "data": {
      "text/html": [
       "<div>\n",
       "<style scoped>\n",
       "    .dataframe tbody tr th:only-of-type {\n",
       "        vertical-align: middle;\n",
       "    }\n",
       "\n",
       "    .dataframe tbody tr th {\n",
       "        vertical-align: top;\n",
       "    }\n",
       "\n",
       "    .dataframe thead th {\n",
       "        text-align: right;\n",
       "    }\n",
       "</style>\n",
       "<table border=\"1\" class=\"dataframe\">\n",
       "  <thead>\n",
       "    <tr style=\"text-align: right;\">\n",
       "      <th></th>\n",
       "      <th>itemid</th>\n",
       "      <th>Category</th>\n",
       "    </tr>\n",
       "  </thead>\n",
       "  <tbody>\n",
       "    <tr>\n",
       "      <th>172397</th>\n",
       "      <td>1781957365</td>\n",
       "      <td>38</td>\n",
       "    </tr>\n",
       "    <tr>\n",
       "      <th>172398</th>\n",
       "      <td>1839851276</td>\n",
       "      <td>31</td>\n",
       "    </tr>\n",
       "    <tr>\n",
       "      <th>172399</th>\n",
       "      <td>955369303</td>\n",
       "      <td>35</td>\n",
       "    </tr>\n",
       "    <tr>\n",
       "      <th>172400</th>\n",
       "      <td>1638035772</td>\n",
       "      <td>33</td>\n",
       "    </tr>\n",
       "    <tr>\n",
       "      <th>172401</th>\n",
       "      <td>1498091427</td>\n",
       "      <td>34</td>\n",
       "    </tr>\n",
       "  </tbody>\n",
       "</table>\n",
       "</div>"
      ],
      "text/plain": [
       "            itemid  Category\n",
       "172397  1781957365        38\n",
       "172398  1839851276        31\n",
       "172399   955369303        35\n",
       "172400  1638035772        33\n",
       "172401  1498091427        34"
      ]
     },
     "execution_count": 22,
     "metadata": {},
     "output_type": "execute_result"
    }
   ],
   "source": [
    "submit_df.tail()"
   ]
  },
  {
   "cell_type": "code",
   "execution_count": 23,
   "metadata": {
    "_uuid": "b995b38143a4e2bf17abe5bfc8f1e8d135f5572c"
   },
   "outputs": [],
   "source": []
  }
 ],
 "metadata": {
  "kernelspec": {
   "display_name": "Python 3",
   "language": "python",
   "name": "python3"
  },
  "language_info": {
   "codemirror_mode": {
    "name": "ipython",
    "version": 3
   },
   "file_extension": ".py",
   "mimetype": "text/x-python",
   "name": "python",
   "nbconvert_exporter": "python",
   "pygments_lexer": "ipython3",
   "version": "3.6.6"
  }
 },
 "nbformat": 4,
 "nbformat_minor": 1
}
