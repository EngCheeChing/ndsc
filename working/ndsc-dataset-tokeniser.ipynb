{
 "cells": [
  {
   "cell_type": "markdown",
   "metadata": {
    "_uuid": "6f5ea96dfcc682c232d6cbb6cebd8b48ecabf8fe"
   },
   "source": [
    "### Preface\n",
    "\n",
    "Hello . This is basically cutting and pasting from the amazing kernels of this competition. Please notify me if I don't attribute something correctly.\n",
    "\n",
    "* https://www.kaggle.com/gmhost/gru-capsule\n",
    "* How to: Preprocessing when using embeddings\n",
    "https://www.kaggle.com/christofhenkel/how-to-preprocessing-when-using-embeddings\n",
    "* Improve your Score with some Text Preprocessing https://www.kaggle.com/theoviel/improve-your-score-with-some-text-preprocessing\n",
    "* Simple attention layer taken from https://github.com/mttk/rnn-classifier/blob/master/model.py\n",
    "* https://www.kaggle.com/ziliwang/baseline-pytorch-bilstm\n",
    "* https://www.kaggle.com/hengzheng/pytorch-starter"
   ]
  },
  {
   "cell_type": "markdown",
   "metadata": {
    "_uuid": "710ed17d0c57bd287be0ee3b2782a53a54510561"
   },
   "source": [
    "## IMPORTS "
   ]
  },
  {
   "cell_type": "code",
   "execution_count": 1,
   "metadata": {
    "_uuid": "abb7e3c30b8a412a50c6b451c49939e3cf4bc11b",
    "scrolled": true
   },
   "outputs": [
    {
     "name": "stderr",
     "output_type": "stream",
     "text": [
      "Using TensorFlow backend.\n"
     ]
    }
   ],
   "source": [
    "import time\n",
    "start_time_ = time.time()\n",
    "import random\n",
    "import pandas as pd\n",
    "import numpy as np\n",
    "import gc\n",
    "import re\n",
    "# import torch\n",
    "# from torchtext import data\n",
    "# import spacy\n",
    "from tqdm import tqdm_notebook, tnrange\n",
    "from tqdm.auto import tqdm\n",
    "\n",
    "tqdm.pandas(desc='Progress')\n",
    "from collections import Counter\n",
    "# from textblob import TextBlob\n",
    "from nltk import word_tokenize\n",
    "\n",
    "# import torch.nn as nn\n",
    "# import torch.optim as optim\n",
    "# import torch.nn.functional as F\n",
    "# from torch.utils.data import Dataset, DataLoader\n",
    "# from torch.nn.utils.rnn import pack_padded_sequence, pad_packed_sequence\n",
    "# from torch.autograd import Variable\n",
    "# from torchtext.data import Example\n",
    "from sklearn.metrics import f1_score\n",
    "# import torchtext\n",
    "import os \n",
    "\n",
    "from keras.preprocessing.text import Tokenizer\n",
    "from keras.preprocessing.sequence import pad_sequences\n",
    "\n",
    "# cross validation and metrics\n",
    "from sklearn.model_selection import StratifiedKFold\n",
    "from sklearn.metrics import f1_score\n",
    "# from torch.optim.optimizer import Optimizer\n",
    "from unidecode import unidecode"
   ]
  },
  {
   "cell_type": "markdown",
   "metadata": {
    "_uuid": "9a4ff5590a6f152dc1bec5aeca79aef10218f7de"
   },
   "source": [
    "### Basic Parameters"
   ]
  },
  {
   "cell_type": "code",
   "execution_count": 2,
   "metadata": {
    "_uuid": "deee49df5ca1c4413f71677939e26aa1ff784e44",
    "scrolled": true
   },
   "outputs": [],
   "source": [
    "embed_size = 300 # how big is each word vector\n",
    "max_features = 120000 # how many unique words to use (i.e num rows in embedding vector)\n",
    "maxlen = 100 # max number of words in a question to use\n",
    "batch_size = 512 # how many samples to process at once\n",
    "n_epochs = 5 # how many times to iterate over all samples\n",
    "n_splits = 5 # Number of K-fold Splits\n",
    "\n",
    "SEED = 1029"
   ]
  },
  {
   "cell_type": "markdown",
   "metadata": {
    "_uuid": "654cbe3c8a1f2a618a2441afe00df3b4a89e0a58"
   },
   "source": [
    "### Ensure determinism in the results\n",
    "\n",
    "A common headache in this competition is the lack of determinism in the results due to cudnn. The following Kernel has a solution in Pytorch.\n",
    "\n",
    "See https://www.kaggle.com/hengzheng/pytorch-starter. "
   ]
  },
  {
   "cell_type": "code",
   "execution_count": 3,
   "metadata": {
    "_uuid": "58bbf87335799247586aaed16531f4d28d10ed4a",
    "scrolled": true
   },
   "outputs": [],
   "source": [
    "def seed_everything(seed=1029):\n",
    "    random.seed(seed)\n",
    "    os.environ['PYTHONHASHSEED'] = str(seed)\n",
    "    np.random.seed(seed)\n",
    "#     torch.manual_seed(seed)\n",
    "#     torch.cuda.manual_seed(seed)\n",
    "#     torch.backends.cudnn.deterministic = True\n",
    "seed_everything()"
   ]
  },
  {
   "cell_type": "markdown",
   "metadata": {
    "_uuid": "c890692644acce2dc4f6e2f929d6d294faca4ad2"
   },
   "source": [
    "### Code for Loading Embeddings\n",
    "\n",
    "Functions taken from the kernel:https://www.kaggle.com/gmhost/gru-capsule\n"
   ]
  },
  {
   "cell_type": "code",
   "execution_count": 4,
   "metadata": {},
   "outputs": [],
   "source": [
    "from pymagnitude import Magnitude\n",
    "\n",
    "vectors1 = Magnitude(\"../MUSE/wiki.multi.en.magnitude\")\n",
    "vectors2 = Magnitude(\"../input/magnitudes/glove.840B.300d.magnitude\")\n",
    "vectors = Magnitude(vectors1,vectors2)\n",
    "\n",
    "## FUNCTIONS TAKEN FROM https://www.kaggle.com/gmhost/gru-capsule\n",
    "\n",
    "def load_pymag(word_index):\n",
    "#     EMBEDDING_FILE = '../input/quora-insincere-questions-classification/glove.840B.300d/glove.840B.300d.txt'\n",
    "#     def get_coefs(word,*arr): return word, np.asarray(arr, dtype='float32')[:300]\n",
    "#     embeddings_index = dict(get_coefs(*o.split(\" \")) for o in open(EMBEDDING_FILE))\n",
    "    \n",
    "#     all_embs = np.stack(embeddings_index.values())\n",
    "    emb_mean,emb_std = -0., 0.48782197\n",
    "#     embed_size = all_embs.shape[1]\n",
    "    embed_size = 600\n",
    "\n",
    "    # word_index = tokenizer.word_index\n",
    "    nb_words = min(max_features, len(word_index))\n",
    "    embedding_matrix_ = np.random.normal(emb_mean, emb_std, (nb_words + 1, embed_size))\n",
    "    print(np.shape(embedding_matrix_))\n",
    "    for word, i in tqdm(word_index.items()):\n",
    "        if i >= max_features: continue\n",
    "        embedding_matrix_[i] = vectors.query(word)\n",
    "#         elif word in vectors1 and word in vectors2:\n",
    "#             embedding_matrix_[i] = np.mean((vectors1.query(word), vectors2.query(word)))\n",
    "#         elif word in vectors1:\n",
    "#             embedding_matrix_[i] = vectors1.query(word)\n",
    "#         elif word in vectors2:\n",
    "#             embedding_matrix_[i] = vectors2.query(word)\n",
    "#         else:\n",
    "#             embedding_matrix_[i] = np.mean((vectors1.query(word), vectors2.query(word)))\n",
    "            \n",
    "    return embedding_matrix_"
   ]
  },
  {
   "cell_type": "code",
   "execution_count": 5,
   "metadata": {
    "_uuid": "7026ee1d913f54dd4b560f654efdb9f833581cd3",
    "scrolled": true
   },
   "outputs": [],
   "source": [
    "# def load_glove(word_index):\n",
    "#     EMBEDDING_FILE = '../input/quora-insincere-questions-classification/glove.840B.300d/glove.840B.300d.txt'\n",
    "#     def get_coefs(word,*arr): return word, np.asarray(arr, dtype='float32')[:300]\n",
    "#     embeddings_index = dict(get_coefs(*o.split(\" \")) for o in open(EMBEDDING_FILE))\n",
    "    \n",
    "#     all_embs = np.stack(embeddings_index.values())\n",
    "#     emb_mean,emb_std = -0.005838499,0.48782197\n",
    "#     embed_size = all_embs.shape[1]\n",
    "\n",
    "#     # word_index = tokenizer.word_index\n",
    "#     nb_words = min(max_features, len(word_index))\n",
    "#     embedding_matrix = np.random.normal(emb_mean, emb_std, (nb_words, embed_size))\n",
    "#     for word, i in word_index.items():\n",
    "#         if i >= max_features: continue\n",
    "#         embedding_vector = embeddings_index.get(word)\n",
    "#         if embedding_vector is not None: embedding_matrix[i] = embedding_vector\n",
    "            \n",
    "#     return embedding_matrix \n",
    "    \n",
    "# def load_fasttext(word_index):    \n",
    "#     EMBEDDING_FILE = '../input/quora-insincere-questions-classification/wiki-news-300d-1M/wiki-news-300d-1M.vec'\n",
    "#     def get_coefs(word,*arr): return word, np.asarray(arr, dtype='float32')\n",
    "#     embeddings_index = dict(get_coefs(*o.split(\" \")) for o in open(EMBEDDING_FILE) if len(o)>100)\n",
    "\n",
    "#     all_embs = np.stack(embeddings_index.values())\n",
    "#     emb_mean,emb_std = all_embs.mean(), all_embs.std()\n",
    "#     embed_size = all_embs.shape[1]\n",
    "\n",
    "#     # word_index = tokenizer.word_index\n",
    "#     nb_words = min(max_features, len(word_index))\n",
    "#     embedding_matrix = np.random.normal(emb_mean, emb_std, (nb_words, embed_size))\n",
    "#     for word, i in word_index.items():\n",
    "#         if i >= max_features: continue\n",
    "#         embedding_vector = embeddings_index.get(word)\n",
    "#         if embedding_vector is not None: embedding_matrix[i] = embedding_vector\n",
    "\n",
    "#     return embedding_matrix\n",
    "\n",
    "# def load_para(word_index):\n",
    "#     EMBEDDING_FILE = '../input/quora-insincere-questions-classification/paragram_300_sl999/paragram_300_sl999.txt'\n",
    "#     def get_coefs(word,*arr): return word, np.asarray(arr, dtype='float32')\n",
    "#     embeddings_index = dict(get_coefs(*o.split(\" \")) for o in open(EMBEDDING_FILE, encoding=\"utf8\", errors='ignore') if len(o)>100)\n",
    "\n",
    "#     all_embs = np.stack(embeddings_index.values())\n",
    "#     emb_mean,emb_std = -0.0053247833,0.49346462\n",
    "#     embed_size = all_embs.shape[1]\n",
    "\n",
    "#     # word_index = tokenizer.word_index\n",
    "#     nb_words = min(max_features, len(word_index))\n",
    "#     embedding_matrix = np.random.normal(emb_mean, emb_std, (nb_words, embed_size))\n",
    "#     for word, i in word_index.items():\n",
    "#         if i >= max_features: continue\n",
    "#         embedding_vector = embeddings_index.get(word)\n",
    "#         if embedding_vector is not None: embedding_matrix[i] = embedding_vector\n",
    "    \n",
    "#     return embedding_matrix"
   ]
  },
  {
   "cell_type": "markdown",
   "metadata": {
    "_uuid": "ea10c8e218a1280faa9802bcb7f1117c89ec96f9"
   },
   "source": [
    "## LOAD PROCESSED TRAINING DATA FROM DISK"
   ]
  },
  {
   "cell_type": "code",
   "execution_count": 6,
   "metadata": {
    "_uuid": "173753f0178464d2ba26baf22899884d76d1c83d",
    "scrolled": true
   },
   "outputs": [],
   "source": [
    "df_train = pd.read_csv(\"../input/ndsc-beginner/train.csv\")\n",
    "df_test = pd.read_csv(\"../input/ndsc-beginner/test.csv\")\n",
    "df = pd.concat([df_train, df_test],sort=True)"
   ]
  },
  {
   "cell_type": "code",
   "execution_count": 7,
   "metadata": {
    "_uuid": "0f75559b6fa28c27ecbf145121309378afc884ee",
    "scrolled": true
   },
   "outputs": [],
   "source": [
    "def build_vocab(texts):\n",
    "    sentences = texts.apply(lambda x: x.split()).values\n",
    "    vocab = {}\n",
    "    for sentence in sentences:\n",
    "        for word in sentence:\n",
    "            try:\n",
    "                vocab[word] += 1\n",
    "            except KeyError:\n",
    "                vocab[word] = 1\n",
    "    return vocab\n",
    "vocab = build_vocab(df['title'])"
   ]
  },
  {
   "cell_type": "code",
   "execution_count": 8,
   "metadata": {
    "_uuid": "5cb425ffbf1f79c1edc4cad3da15a1c1aa53edca",
    "scrolled": true
   },
   "outputs": [
    {
     "name": "stdout",
     "output_type": "stream",
     "text": [
      "# Sincere questions: 3,772(11.63%) and # Insincere questions: 28,670(88.37%)\n",
      "# Test samples: 172,402(0.259 of train samples)\n"
     ]
    }
   ],
   "source": [
    "sin = len(df_train[df_train[\"Category\"]==0])\n",
    "insin = len(df_train[df_train[\"Category\"]==1])\n",
    "persin = (sin/(sin+insin))*100\n",
    "perinsin = (insin/(sin+insin))*100            \n",
    "print(\"# Sincere questions: {:,}({:.2f}%) and # Insincere questions: {:,}({:.2f}%)\".format(sin,persin,insin,perinsin))\n",
    "# print(\"Sinsere:{}% Insincere: {}%\".format(round(persin,2),round(perinsin,2)))\n",
    "print(\"# Test samples: {:,}({:.3f} of train samples)\".format(len(df_test),len(df_test)/len(df_train)))"
   ]
  },
  {
   "cell_type": "markdown",
   "metadata": {
    "_uuid": "07e9890ec0b490cef57565f7dff953aa56ebd3dc"
   },
   "source": [
    "## Normalization\n",
    "\n",
    "Borrowed from:\n",
    "* How to: Preprocessing when using embeddings\n",
    "https://www.kaggle.com/christofhenkel/how-to-preprocessing-when-using-embeddings\n",
    "* Improve your Score with some Text Preprocessing https://www.kaggle.com/theoviel/improve-your-score-with-some-text-preprocessing"
   ]
  },
  {
   "cell_type": "code",
   "execution_count": 9,
   "metadata": {
    "_uuid": "28ebb28ba78972bb8d4fee9b53437045542d20fb",
    "scrolled": true
   },
   "outputs": [],
   "source": [
    "def build_vocab(texts):\n",
    "    sentences = texts.apply(lambda x: x.split()).values\n",
    "    vocab = {}\n",
    "    for sentence in sentences:\n",
    "        for word in sentence:\n",
    "            try:\n",
    "                vocab[word] += 1\n",
    "            except KeyError:\n",
    "                vocab[word] = 1\n",
    "    return vocab\n",
    "\n",
    "def known_contractions(embed):\n",
    "    known = []\n",
    "    for contract in contraction_mapping:\n",
    "        if contract in embed:\n",
    "            known.append(contract)\n",
    "    return known\n",
    "\n",
    "def clean_contractions(text, mapping):\n",
    "    specials = [\"’\", \"‘\", \"´\", \"`\"]\n",
    "    for s in specials:\n",
    "        text = text.replace(s, \"'\")\n",
    "    text = ' '.join([mapping[t] if t in mapping else t for t in text.split(\" \")])\n",
    "    return text\n",
    "\n",
    "def correct_spelling(x, dic):\n",
    "    for word in dic.keys():\n",
    "        x = x.replace(word, dic[word])\n",
    "    return x\n",
    "\n",
    "def unknown_punct(embed, punct):\n",
    "    unknown = ''\n",
    "    for p in punct:\n",
    "        if p not in embed:\n",
    "            unknown += p\n",
    "            unknown += ' '\n",
    "    return unknown\n",
    "\n",
    "def clean_numbers(x):\n",
    "    x = re.sub('[0-9]{5,}', '#####', x)\n",
    "    x = re.sub('[0-9]{4}', '####', x)\n",
    "    x = re.sub('[0-9]{3}', '###', x)\n",
    "    x = re.sub('[0-9]{2}', '##', x)\n",
    "    return x\n",
    "\n",
    "def clean_special_chars(text, punct, mapping):\n",
    "    for p in mapping:\n",
    "        text = text.replace(p, mapping[p])\n",
    "    \n",
    "    for p in punct:\n",
    "        text = text.replace(p, ' {p} ')\n",
    "    \n",
    "    specials = {'\\u200b': ' ', '…': ' ... ', '\\ufeff': '', 'करना': '', 'है': ''}  # Other special characters that I have to deal with in last\n",
    "    for s in specials:\n",
    "        text = text.replace(s, specials[s])\n",
    "    \n",
    "    return text\n",
    "\n",
    "def add_lower(embedding, vocab):\n",
    "    count = 0\n",
    "    for word in vocab:\n",
    "        if word in embedding and word.lower() not in embedding:  \n",
    "            embedding[word.lower()] = embedding[word]\n",
    "            count += 1\n",
    "    print(\"Added {count} words to embedding\")    "
   ]
  },
  {
   "cell_type": "code",
   "execution_count": 10,
   "metadata": {
    "_uuid": "abeab4c80d6829cf2eae706bfa7929e2871af81f",
    "scrolled": true
   },
   "outputs": [],
   "source": [
    "puncts = [',', '.', '\"', ':', ')', '(', '-', '!', '?', '|', ';', \"'\", '$', '&', '/', '[', ']', '>', '%', '=', '#', '*', '+', '\\\\', '•',  '~', '@', '£', \n",
    " '·', '_', '{', '}', '©', '^', '®', '`',  '<', '→', '°', '€', '™', '›',  '♥', '←', '×', '§', '″', '′', 'Â', '█', '½', 'à', '…', \n",
    " '“', '★', '”', '–', '●', 'â', '►', '−', '¢', '²', '¬', '░', '¶', '↑', '±', '¿', '▾', '═', '¦', '║', '―', '¥', '▓', '—', '‹', '─', \n",
    " '▒', '：', '¼', '⊕', '▼', '▪', '†', '■', '’', '▀', '¨', '▄', '♫', '☆', 'é', '¯', '♦', '¤', '▲', 'è', '¸', '¾', 'Ã', '⋅', '‘', '∞', \n",
    " '∙', '）', '↓', '、', '│', '（', '»', '，', '♪', '╩', '╚', '³', '・', '╦', '╣', '╔', '╗', '▬', '❤', 'ï', 'Ø', '¹', '≤', '‡', '√', ]\n",
    "\n",
    "def clean_text(x):\n",
    "    x = str(x)\n",
    "    for punct in puncts:\n",
    "        x = x.replace(punct, ' {punct} ')\n",
    "    return x\n",
    "\n",
    "def clean_numbers(x):\n",
    "    x = re.sub(r\"([0-9]+(\\.[0-9]+)?)\",r\" \\1 \", x).strip()\n",
    "#     x = re.sub('[0-9]{5,}', '#####', x)\n",
    "#     x = re.sub('[0-9]{4}', '####', x)\n",
    "#     x = re.sub('[0-9]{3}', '###', x)\n",
    "#     x = re.sub('[0-9]{2}', '##', x)\n",
    "    return x\n",
    "\n",
    "mispell_dict = {\"ain't\": \"is not\", \"aren't\": \"are not\",\"can't\": \"cannot\", \"'cause\": \"because\", \"could've\": \"could have\", \"couldn't\": \"could not\", \"didn't\": \"did not\",  \"doesn't\": \"does not\", \"don't\": \"do not\", \"hadn't\": \"had not\", \"hasn't\": \"has not\", \"haven't\": \"have not\", \"he'd\": \"he would\",\"he'll\": \"he will\", \"he's\": \"he is\", \"how'd\": \"how did\", \"how'd'y\": \"how do you\", \"how'll\": \"how will\", \"how's\": \"how is\",  \"I'd\": \"I would\", \"I'd've\": \"I would have\", \"I'll\": \"I will\", \"I'll've\": \"I will have\",\"I'm\": \"I am\", \"I've\": \"I have\", \"i'd\": \"i would\", \"i'd've\": \"i would have\", \"i'll\": \"i will\",  \"i'll've\": \"i will have\",\"i'm\": \"i am\", \"i've\": \"i have\", \"isn't\": \"is not\", \"it'd\": \"it would\", \"it'd've\": \"it would have\", \"it'll\": \"it will\", \"it'll've\": \"it will have\",\"it's\": \"it is\", \"let's\": \"let us\", \"ma'am\": \"madam\", \"mayn't\": \"may not\", \"might've\": \"might have\",\"mightn't\": \"might not\",\"mightn't've\": \"might not have\", \"must've\": \"must have\", \"mustn't\": \"must not\", \"mustn't've\": \"must not have\", \"needn't\": \"need not\", \"needn't've\": \"need not have\",\"o'clock\": \"of the clock\", \"oughtn't\": \"ought not\", \"oughtn't've\": \"ought not have\", \"shan't\": \"shall not\", \"sha'n't\": \"shall not\", \"shan't've\": \"shall not have\", \"she'd\": \"she would\", \"she'd've\": \"she would have\", \"she'll\": \"she will\", \"she'll've\": \"she will have\", \"she's\": \"she is\", \"should've\": \"should have\", \"shouldn't\": \"should not\", \"shouldn't've\": \"should not have\", \"so've\": \"so have\",\"so's\": \"so as\", \"this's\": \"this is\",\"that'd\": \"that would\", \"that'd've\": \"that would have\", \"that's\": \"that is\", \"there'd\": \"there would\", \"there'd've\": \"there would have\", \"there's\": \"there is\", \"here's\": \"here is\",\"they'd\": \"they would\", \"they'd've\": \"they would have\", \"they'll\": \"they will\", \"they'll've\": \"they will have\", \"they're\": \"they are\", \"they've\": \"they have\", \"to've\": \"to have\", \"wasn't\": \"was not\", \"we'd\": \"we would\", \"we'd've\": \"we would have\", \"we'll\": \"we will\", \"we'll've\": \"we will have\", \"we're\": \"we are\", \"we've\": \"we have\", \"weren't\": \"were not\", \"what'll\": \"what will\", \"what'll've\": \"what will have\", \"what're\": \"what are\",  \"what's\": \"what is\", \"what've\": \"what have\", \"when's\": \"when is\", \"when've\": \"when have\", \"where'd\": \"where did\", \"where's\": \"where is\", \"where've\": \"where have\", \"who'll\": \"who will\", \"who'll've\": \"who will have\", \"who's\": \"who is\", \"who've\": \"who have\", \"why's\": \"why is\", \"why've\": \"why have\", \"will've\": \"will have\", \"won't\": \"will not\", \"won't've\": \"will not have\", \"would've\": \"would have\", \"wouldn't\": \"would not\", \"wouldn't've\": \"would not have\", \"y'all\": \"you all\", \"y'all'd\": \"you all would\",\"y'all'd've\": \"you all would have\",\"y'all're\": \"you all are\",\"y'all've\": \"you all have\",\"you'd\": \"you would\", \"you'd've\": \"you would have\", \"you'll\": \"you will\", \"you'll've\": \"you will have\", \"you're\": \"you are\", \"you've\": \"you have\", 'colour': 'color', 'centre': 'center', 'favourite': 'favorite', 'travelling': 'traveling', 'counselling': 'counseling', 'theatre': 'theater', 'cancelled': 'canceled', 'labour': 'labor', 'organisation': 'organization', 'wwii': 'world war 2', 'citicise': 'criticize', 'youtu ': 'youtube ', 'Qoura': 'Quora', 'sallary': 'salary', 'Whta': 'What', 'narcisist': 'narcissist', 'howdo': 'how do', 'whatare': 'what are', 'howcan': 'how can', 'howmuch': 'how much', 'howmany': 'how many', 'whydo': 'why do', 'doI': 'do I', 'theBest': 'the best', 'howdoes': 'how does', 'mastrubation': 'masturbation', 'mastrubate': 'masturbate', \"mastrubating\": 'masturbating', 'pennis': 'penis', 'Etherium': 'Ethereum', 'narcissit': 'narcissist', 'bigdata': 'big data', '2k17': '2017', '2k18': '2018', 'qouta': 'quota', 'exboyfriend': 'ex boyfriend', 'airhostess': 'air hostess', \"whst\": 'what', 'watsapp': 'whatsapp', 'demonitisation': 'demonetization', 'demonitization': 'demonetization', 'demonetisation': 'demonetization'}\n",
    "\n",
    "def _get_mispell(mispell_dict):\n",
    "    mispell_re = re.compile('(%s)' % '|'.join(mispell_dict.keys()))\n",
    "    return mispell_dict, mispell_re\n",
    "\n",
    "mispellings, mispellings_re = _get_mispell(mispell_dict)\n",
    "def replace_typical_misspell(text):\n",
    "    def replace(match):\n",
    "        return mispellings[match.group(0)]\n",
    "    return mispellings_re.sub(replace, text)"
   ]
  },
  {
   "cell_type": "markdown",
   "metadata": {
    "_uuid": "3c09d981ae674e6a373189a04dba8d0932b0765b"
   },
   "source": [
    "Extra feature part taken from https://github.com/wongchunghang/toxic-comment-challenge-lstm/blob/master/toxic_comment_9872_model.ipynb"
   ]
  },
  {
   "cell_type": "code",
   "execution_count": 11,
   "metadata": {
    "_uuid": "63cb21525251b060aeb309e7be4b48772f8720f5",
    "scrolled": true
   },
   "outputs": [],
   "source": [
    "from sklearn.preprocessing import StandardScaler\n",
    "\n",
    "\n",
    "def add_features(df):\n",
    "    \n",
    "    df['title'] = df['title'].progress_apply(lambda x:str(x))\n",
    "    df['total_length'] = df['title'].progress_apply(len)\n",
    "    df['capitals'] = df['title'].progress_apply(lambda comment: sum(1 for c in comment if c.isupper()))\n",
    "    df['caps_vs_length'] = df.progress_apply(lambda row: float(row['capitals'])/float(row['total_length']),\n",
    "                                axis=1)\n",
    "    df['num_words'] = df.title.str.count('\\S+')\n",
    "    df['num_unique_words'] = df['title'].progress_apply(lambda comment: len(set(w for w in comment.split())))\n",
    "    df['words_vs_unique'] = df['num_unique_words'] / df['num_words']  \n",
    "\n",
    "    return df\n",
    "\n",
    "def load_and_prec():\n",
    "    train_df = pd.read_csv(\"../input/ndsc-beginner/train.csv\")\n",
    "    test_df = pd.read_csv(\"../input/ndsc-beginner/test.csv\")\n",
    "    print(\"Train shape : \",train_df.shape)\n",
    "    print(\"Test shape : \",test_df.shape)\n",
    "    \n",
    "    # lower\n",
    "    train_df[\"title\"] = train_df[\"title\"].progress_apply(lambda x: x.lower())\n",
    "    test_df[\"title\"] = test_df[\"title\"].apply(lambda x: x.lower())\n",
    "\n",
    "    # Clean the text\n",
    "    train_df[\"title\"] = train_df[\"title\"].progress_apply(lambda x: clean_text(x))\n",
    "    test_df[\"title\"] = test_df[\"title\"].apply(lambda x: clean_text(x))\n",
    "    \n",
    "    # Clean numbers\n",
    "    train_df[\"title\"] = train_df[\"title\"].progress_apply(lambda x: clean_numbers(x))\n",
    "    test_df[\"title\"] = test_df[\"title\"].apply(lambda x: clean_numbers(x))\n",
    "    \n",
    "    # Clean spellings\n",
    "    train_df[\"title\"] = train_df[\"title\"].progress_apply(lambda x: replace_typical_misspell(x))\n",
    "    test_df[\"title\"] = test_df[\"title\"].apply(lambda x: replace_typical_misspell(x))\n",
    "    \n",
    "    ## fill up the missing values\n",
    "    train_X = train_df[\"title\"].fillna(\"_##_\").values\n",
    "    test_X = test_df[\"title\"].fillna(\"_##_\").values\n",
    "\n",
    "\n",
    "    \n",
    "    ###################### Add Features ###############################\n",
    "    #  https://github.com/wongchunghang/toxic-comment-challenge-lstm/blob/master/toxic_comment_9872_model.ipynb\n",
    "    train = add_features(train_df)\n",
    "    test = add_features(test_df)\n",
    "\n",
    "    features = train[['caps_vs_length', 'words_vs_unique']].fillna(0)\n",
    "    test_features = test[['caps_vs_length', 'words_vs_unique']].fillna(0)\n",
    "\n",
    "    ss = StandardScaler()\n",
    "    ss.fit(np.vstack((features, test_features)))\n",
    "    features = ss.transform(features)\n",
    "    test_features = ss.transform(test_features)\n",
    "    ###########################################################################\n",
    "\n",
    "    ## Tokenize the sentences\n",
    "    tokenizer = Tokenizer(num_words=max_features)\n",
    "    tokenizer.fit_on_texts(list(train_X))\n",
    "    train_X = tokenizer.texts_to_sequences(train_X)\n",
    "    test_X = tokenizer.texts_to_sequences(test_X)\n",
    "\n",
    "    ## Pad the sentences \n",
    "    train_X = pad_sequences(train_X, maxlen=maxlen)\n",
    "    test_X = pad_sequences(test_X, maxlen=maxlen)\n",
    "\n",
    "    ## Get the Category values\n",
    "    train_y = train_df['Category'].values\n",
    "    \n",
    "#     # Splitting to training and a final test set    \n",
    "#     train_X, x_test_f, train_y, y_test_f = train_test_split(list(zip(train_X,features)), train_y, test_size=0.2, random_state=SEED)    \n",
    "#     train_X, features = zip(*train_X)\n",
    "#     x_test_f, features_t = zip(*x_test_f)    \n",
    "    \n",
    "    #shuffling the data\n",
    "#     np.random.seed(SEED)\n",
    "#     trn_idx = np.random.permutation(len(train_X))\n",
    "# \n",
    "#     train_X = train_X[trn_idx]\n",
    "#     train_y = train_y[trn_idx]\n",
    "    \n",
    "    return train_X, test_X, train_y, features, test_features, tokenizer.word_index\n",
    "#     return train_X, test_X, train_y, x_test_f,y_test_f,features, test_features, features_t, tokenizer.word_index\n",
    "#     return train_X, test_X, train_y, tokenizer.word_index"
   ]
  },
  {
   "cell_type": "code",
   "execution_count": 12,
   "metadata": {
    "_uuid": "3c72fcddb4f680879e231c3dbfc0c71e27fc424c",
    "scrolled": false
   },
   "outputs": [
    {
     "name": "stdout",
     "output_type": "stream",
     "text": [
      "Train shape :  (666615, 4)\n",
      "Test shape :  (172402, 3)\n"
     ]
    },
    {
     "data": {
      "application/vnd.jupyter.widget-view+json": {
       "model_id": "7d1957d11b72406c9664c809c5d5aeeb",
       "version_major": 2,
       "version_minor": 0
      },
      "text/plain": [
       "HBox(children=(IntProgress(value=0, description='Progress', max=666615, style=ProgressStyle(description_width=…"
      ]
     },
     "metadata": {},
     "output_type": "display_data"
    },
    {
     "name": "stdout",
     "output_type": "stream",
     "text": [
      "\n"
     ]
    },
    {
     "data": {
      "application/vnd.jupyter.widget-view+json": {
       "model_id": "aeebacc5d7ec406e925d0430b762a395",
       "version_major": 2,
       "version_minor": 0
      },
      "text/plain": [
       "HBox(children=(IntProgress(value=0, description='Progress', max=666615, style=ProgressStyle(description_width=…"
      ]
     },
     "metadata": {},
     "output_type": "display_data"
    },
    {
     "name": "stdout",
     "output_type": "stream",
     "text": [
      "\n"
     ]
    },
    {
     "data": {
      "application/vnd.jupyter.widget-view+json": {
       "model_id": "0841d10a2ae04a5cbdf3c4d8798f59fd",
       "version_major": 2,
       "version_minor": 0
      },
      "text/plain": [
       "HBox(children=(IntProgress(value=0, description='Progress', max=666615, style=ProgressStyle(description_width=…"
      ]
     },
     "metadata": {},
     "output_type": "display_data"
    },
    {
     "name": "stdout",
     "output_type": "stream",
     "text": [
      "\n"
     ]
    },
    {
     "data": {
      "application/vnd.jupyter.widget-view+json": {
       "model_id": "dfd65bb1009c42a7ac781033002a6d7e",
       "version_major": 2,
       "version_minor": 0
      },
      "text/plain": [
       "HBox(children=(IntProgress(value=0, description='Progress', max=666615, style=ProgressStyle(description_width=…"
      ]
     },
     "metadata": {},
     "output_type": "display_data"
    },
    {
     "name": "stdout",
     "output_type": "stream",
     "text": [
      "\n"
     ]
    },
    {
     "data": {
      "application/vnd.jupyter.widget-view+json": {
       "model_id": "a558b8e0a05a4ecfb0bb19e8e2fc00de",
       "version_major": 2,
       "version_minor": 0
      },
      "text/plain": [
       "HBox(children=(IntProgress(value=0, description='Progress', max=666615, style=ProgressStyle(description_width=…"
      ]
     },
     "metadata": {},
     "output_type": "display_data"
    },
    {
     "name": "stdout",
     "output_type": "stream",
     "text": [
      "\n"
     ]
    },
    {
     "data": {
      "application/vnd.jupyter.widget-view+json": {
       "model_id": "f8a4eb06cca84a28bb49566c07bfcee4",
       "version_major": 2,
       "version_minor": 0
      },
      "text/plain": [
       "HBox(children=(IntProgress(value=0, description='Progress', max=666615, style=ProgressStyle(description_width=…"
      ]
     },
     "metadata": {},
     "output_type": "display_data"
    },
    {
     "name": "stdout",
     "output_type": "stream",
     "text": [
      "\n"
     ]
    },
    {
     "data": {
      "application/vnd.jupyter.widget-view+json": {
       "model_id": "c7214c2b342b49b4a404dd5a86afc3da",
       "version_major": 2,
       "version_minor": 0
      },
      "text/plain": [
       "HBox(children=(IntProgress(value=0, description='Progress', max=666615, style=ProgressStyle(description_width=…"
      ]
     },
     "metadata": {},
     "output_type": "display_data"
    },
    {
     "name": "stdout",
     "output_type": "stream",
     "text": [
      "\n"
     ]
    },
    {
     "data": {
      "application/vnd.jupyter.widget-view+json": {
       "model_id": "ba1ae56618da4017b55ecc4561977959",
       "version_major": 2,
       "version_minor": 0
      },
      "text/plain": [
       "HBox(children=(IntProgress(value=0, description='Progress', max=666615, style=ProgressStyle(description_width=…"
      ]
     },
     "metadata": {},
     "output_type": "display_data"
    },
    {
     "name": "stdout",
     "output_type": "stream",
     "text": [
      "\n"
     ]
    },
    {
     "data": {
      "application/vnd.jupyter.widget-view+json": {
       "model_id": "14d527a642b548f6a62e6e061c7c5477",
       "version_major": 2,
       "version_minor": 0
      },
      "text/plain": [
       "HBox(children=(IntProgress(value=0, description='Progress', max=666615, style=ProgressStyle(description_width=…"
      ]
     },
     "metadata": {},
     "output_type": "display_data"
    },
    {
     "name": "stdout",
     "output_type": "stream",
     "text": [
      "\n"
     ]
    },
    {
     "data": {
      "application/vnd.jupyter.widget-view+json": {
       "model_id": "82276e99ec8c486c8652867161c40fdc",
       "version_major": 2,
       "version_minor": 0
      },
      "text/plain": [
       "HBox(children=(IntProgress(value=0, description='Progress', max=172402, style=ProgressStyle(description_width=…"
      ]
     },
     "metadata": {},
     "output_type": "display_data"
    },
    {
     "name": "stdout",
     "output_type": "stream",
     "text": [
      "\n"
     ]
    },
    {
     "data": {
      "application/vnd.jupyter.widget-view+json": {
       "model_id": "b215300773f24c769d153f43bd44ccb5",
       "version_major": 2,
       "version_minor": 0
      },
      "text/plain": [
       "HBox(children=(IntProgress(value=0, description='Progress', max=172402, style=ProgressStyle(description_width=…"
      ]
     },
     "metadata": {},
     "output_type": "display_data"
    },
    {
     "name": "stdout",
     "output_type": "stream",
     "text": [
      "\n"
     ]
    },
    {
     "data": {
      "application/vnd.jupyter.widget-view+json": {
       "model_id": "476b67ff289a4f0b84482cc6e0b7dee1",
       "version_major": 2,
       "version_minor": 0
      },
      "text/plain": [
       "HBox(children=(IntProgress(value=0, description='Progress', max=172402, style=ProgressStyle(description_width=…"
      ]
     },
     "metadata": {},
     "output_type": "display_data"
    },
    {
     "name": "stdout",
     "output_type": "stream",
     "text": [
      "\n"
     ]
    },
    {
     "data": {
      "application/vnd.jupyter.widget-view+json": {
       "model_id": "7c56903475fb48e4813c2a3fdd02c791",
       "version_major": 2,
       "version_minor": 0
      },
      "text/plain": [
       "HBox(children=(IntProgress(value=0, description='Progress', max=172402, style=ProgressStyle(description_width=…"
      ]
     },
     "metadata": {},
     "output_type": "display_data"
    },
    {
     "name": "stdout",
     "output_type": "stream",
     "text": [
      "\n"
     ]
    },
    {
     "data": {
      "application/vnd.jupyter.widget-view+json": {
       "model_id": "f967c398c437490db3d205375c74aae7",
       "version_major": 2,
       "version_minor": 0
      },
      "text/plain": [
       "HBox(children=(IntProgress(value=0, description='Progress', max=172402, style=ProgressStyle(description_width=…"
      ]
     },
     "metadata": {},
     "output_type": "display_data"
    },
    {
     "name": "stdout",
     "output_type": "stream",
     "text": [
      "\n"
     ]
    }
   ],
   "source": [
    "\n",
    "# fill up the missing values\n",
    "# x_train, x_test, y_train, word_index = load_and_prec()\n",
    "x_train, x_test, y_train, features, test_features, word_index = load_and_prec() \n",
    "# x_train, x_test, y_train, x_test_f,y_test_f,features, test_features,features_t, word_index = load_and_prec() \n"
   ]
  },
  {
   "cell_type": "markdown",
   "metadata": {
    "_uuid": "5264b1a511613e0cb9cffc11e93e906f932be191"
   },
   "source": [
    "### SAVE DATASET TO DISK"
   ]
  },
  {
   "cell_type": "code",
   "execution_count": 13,
   "metadata": {},
   "outputs": [
    {
     "name": "stdout",
     "output_type": "stream",
     "text": [
      "mkdir: cannot create directory 'ndsc-loaded': File exists\r\n"
     ]
    }
   ],
   "source": [
    "!mkdir ndsc-loaded"
   ]
  },
  {
   "cell_type": "code",
   "execution_count": 14,
   "metadata": {
    "_uuid": "7dc2704001695c0d691fec74cc111308da3fc340",
    "scrolled": true
   },
   "outputs": [],
   "source": [
    "np.save(\"ndsc-loaded/x_train\",x_train)\n",
    "np.save(\"ndsc-loaded/x_test\",x_test)\n",
    "np.save(\"ndsc-loaded/y_train\",y_train)\n",
    "\n",
    "np.save(\"ndsc-loaded/features\",features)\n",
    "np.save(\"ndsc-loaded/test_features\",test_features)\n",
    "np.save(\"ndsc-loaded/word_index.npy\",word_index)"
   ]
  },
  {
   "cell_type": "markdown",
   "metadata": {
    "_uuid": "ef622350c3ac00bcbea516ccf7dffbeca7b4cc39"
   },
   "source": [
    "### LOAD DATASET FROM DISK"
   ]
  },
  {
   "cell_type": "code",
   "execution_count": 15,
   "metadata": {
    "_uuid": "6e1f33f0d744e86cfbcc21b8e696bb568ba1c454",
    "scrolled": true
   },
   "outputs": [],
   "source": [
    "x_train = np.load(\"ndsc-loaded/x_train.npy\")\n",
    "x_test = np.load(\"ndsc-loaded/x_test.npy\")\n",
    "y_train = np.load(\"ndsc-loaded/y_train.npy\")\n",
    "features = np.load(\"ndsc-loaded/features.npy\")\n",
    "test_features = np.load(\"ndsc-loaded/test_features.npy\")\n",
    "word_index = np.load(\"ndsc-loaded/word_index.npy\").item()"
   ]
  },
  {
   "cell_type": "code",
   "execution_count": 30,
   "metadata": {
    "_uuid": "6db7b1d3f22a6e35699d9f0dbb51343e249d9ee7",
    "scrolled": true
   },
   "outputs": [
    {
     "data": {
      "text/plain": [
       "{'embun': 15092,\n",
       " 'lcgbg': 41342,\n",
       " 'shifon': 12001,\n",
       " 'walls': 27214,\n",
       " 'woojoo': 50305,\n",
       " 'i': 277,\n",
       " 'tsoca': 49661,\n",
       " 'centac': 3578,\n",
       " 'cost': 13262,\n",
       " 'baran': 55576,\n",
       " 'bandeu': 44762,\n",
       " 'thro': 46128,\n",
       " '840': 4227,\n",
       " '264': 11900,\n",
       " 'charcoal': 2303,\n",
       " 'casamento': 15158,\n",
       " '0667': 16048,\n",
       " '289': 13631,\n",
       " 'kiseki': 58191,\n",
       " 'appetite': 33707,\n",
       " '16514': 27655,\n",
       " 'makkah': 43757,\n",
       " 'sports': 2870,\n",
       " 'preppy': 3933,\n",
       " 'autunm': 54026,\n",
       " 'should': 15437,\n",
       " 'pembaikan': 4512,\n",
       " 'sava': 15214,\n",
       " 'ejt': 8805,\n",
       " 'antibacterial': 6724,\n",
       " 'asmagic': 14684,\n",
       " 'coklatis': 51480,\n",
       " '6644': 9881,\n",
       " '1908': 27772,\n",
       " 'blh': 13818,\n",
       " 'istri': 4071,\n",
       " '4181': 51209,\n",
       " 'sily': 35186,\n",
       " 'bangeett': 34979,\n",
       " '1267': 17860,\n",
       " '6526': 56417,\n",
       " 'pls': 15534,\n",
       " '6491': 47904,\n",
       " 'bluee': 13244,\n",
       " '0381': 16481,\n",
       " '0721': 35735,\n",
       " 'final': 18584,\n",
       " '642': 10626,\n",
       " 'cleopatra': 18507,\n",
       " 'lulaa': 13640,\n",
       " 'beig': 11119,\n",
       " 'buny': 46085,\n",
       " 'fox': 5896,\n",
       " 'sliming': 11047,\n",
       " '0544': 20848,\n",
       " 'handfree': 8745,\n",
       " 'acara': 4459,\n",
       " '235': 6067,\n",
       " 'idn': 16212,\n",
       " 'galuh': 8854,\n",
       " 'nuhha': 52060,\n",
       " 'zenvone': 55167,\n",
       " '081280426645': 14226,\n",
       " 'deteksi': 23917,\n",
       " '2565': 35737,\n",
       " 'presse': 35620,\n",
       " 'baihou': 46119,\n",
       " '083137647800': 12287,\n",
       " '083136145723': 13199,\n",
       " '34402': 51236,\n",
       " 'mping': 46883,\n",
       " 'perada': 42190,\n",
       " 'anatal': 10196,\n",
       " 'lui': 26499,\n",
       " 'afe': 50381,\n",
       " '18317': 44953,\n",
       " 'musilim': 43051,\n",
       " 'pejaten': 58061,\n",
       " '42036': 46259,\n",
       " 'wefha': 40714,\n",
       " 'frog': 28197,\n",
       " 'elora': 21779,\n",
       " 'alt': 24179,\n",
       " 'eggs': 13270,\n",
       " 'bigbigshops': 14007,\n",
       " 'sanny': 19009,\n",
       " 'tertinggi': 19648,\n",
       " 'exfoliation': 18684,\n",
       " '3880': 38244,\n",
       " 'but': 786,\n",
       " 'orion': 20144,\n",
       " 'kompetisi': 52019,\n",
       " 'dess': 12036,\n",
       " 'salebaju': 27980,\n",
       " 'exslusif': 38822,\n",
       " 'lop': 38989,\n",
       " 'ato': 18829,\n",
       " 'mahogony': 36994,\n",
       " 'enchanteur': 26138,\n",
       " 'cleansig': 33422,\n",
       " '4026': 29737,\n",
       " 'thefaceshoo': 37050,\n",
       " 'blend': 2611,\n",
       " 'reseler': 11252,\n",
       " 'sensual': 10103,\n",
       " 'lightening': 304,\n",
       " 'dynmic': 33604,\n",
       " 'saira': 43060,\n",
       " 'insurance': 37882,\n",
       " 'kuku': 6041,\n",
       " '7894': 38684,\n",
       " 'bwpink': 50220,\n",
       " 'dslr': 4706,\n",
       " 'neofume': 24776,\n",
       " 'bagas': 41956,\n",
       " 'hoode': 22505,\n",
       " 'uninamu': 10183,\n",
       " 'especially': 57749,\n",
       " 'just': 3157,\n",
       " 'porsche': 4709,\n",
       " '6000274': 9066,\n",
       " 'featuring': 43581,\n",
       " 'option': 26079,\n",
       " '083123412441': 57795,\n",
       " 'arge': 51935,\n",
       " '33019': 27558,\n",
       " '5966': 32447,\n",
       " 'alessa': 49042,\n",
       " 'bewell': 49072,\n",
       " 'beautif': 36930,\n",
       " 'nilkin': 5161,\n",
       " 'cela': 21519,\n",
       " '6758': 39800,\n",
       " 'websong': 30993,\n",
       " 'ajuku': 51930,\n",
       " 'island': 16515,\n",
       " '2334': 25586,\n",
       " '81209': 50489,\n",
       " 'cs': 1622,\n",
       " 'arr': 6697,\n",
       " 'valipious': 15061,\n",
       " 'hpblangka': 54349,\n",
       " 'jiang': 18293,\n",
       " 'cgg': 33301,\n",
       " 'charon': 41756,\n",
       " 'alshifa': 37807,\n",
       " 'eleagnt': 47291,\n",
       " 'whitelily': 37059,\n",
       " '1694': 48858,\n",
       " 'meilan': 54703,\n",
       " 'lifetime': 20392,\n",
       " 'semu': 33413,\n",
       " 'memperlancar': 24718,\n",
       " 'baw': 30812,\n",
       " '35123': 27947,\n",
       " '083150687788': 23964,\n",
       " 'dpan': 30586,\n",
       " '770845': 41632,\n",
       " '143831': 25074,\n",
       " 'ldo': 30578,\n",
       " 'berjaya': 17727,\n",
       " 'treclq': 55573,\n",
       " 'etw': 29241,\n",
       " 'boar': 37257,\n",
       " '19402938': 23713,\n",
       " 'zansea': 52746,\n",
       " 'brightenng': 36544,\n",
       " 'sparkler': 24921,\n",
       " '081218997182': 12256,\n",
       " 'navaro': 25103,\n",
       " 'region': 23985,\n",
       " 'mediatex': 54770,\n",
       " '24258': 52448,\n",
       " 'kondagan': 44101,\n",
       " 'ooc': 49820,\n",
       " 'tdr': 30519,\n",
       " '0290': 13372,\n",
       " 'orgiinal': 26446,\n",
       " 'acc': 2992,\n",
       " '9990': 40872,\n",
       " 'projektor': 57892,\n",
       " 'koado': 58351,\n",
       " 'skirtgir': 28277,\n",
       " 'lerfey': 23398,\n",
       " 'vocher': 57220,\n",
       " 'selatan': 7030,\n",
       " 'thaun': 56953,\n",
       " '8410': 30572,\n",
       " 'palazo': 40303,\n",
       " 'denis': 53253,\n",
       " 'mediterrane': 18616,\n",
       " 'byt': 23569,\n",
       " 'scenner': 55097,\n",
       " 'btnow': 49210,\n",
       " 'dpr': 44254,\n",
       " 'cylinder': 56315,\n",
       " 'pemerashopeeibir': 39664,\n",
       " 'kamis': 22719,\n",
       " 'swatches': 18751,\n",
       " 'krystal': 6446,\n",
       " 'bakpow': 37408,\n",
       " '7420': 54765,\n",
       " 'bsi': 30318,\n",
       " '24969': 45784,\n",
       " 'consealing': 20677,\n",
       " 'bulet': 14494,\n",
       " 'gergeous': 22100,\n",
       " 'highligher': 18668,\n",
       " 'hettu': 38199,\n",
       " 'pinkies': 36669,\n",
       " 'fruty': 30360,\n",
       " 'kinali': 36854,\n",
       " 'crayolan': 25246,\n",
       " 'amore': 2772,\n",
       " '47275': 22998,\n",
       " 'bow': 1001,\n",
       " 'cn': 1060,\n",
       " 'cleans': 37364,\n",
       " 'germain': 22133,\n",
       " 'dngn': 40443,\n",
       " 'tent': 11965,\n",
       " '281': 12071,\n",
       " '3467': 12215,\n",
       " 'sde': 46962,\n",
       " 'oon': 27539,\n",
       " '9133': 18353,\n",
       " 'faid': 29974,\n",
       " 'stringly': 48035,\n",
       " 'blackmores': 20652,\n",
       " 'yto': 46382,\n",
       " 'flouncing': 5508,\n",
       " 'limonous': 35028,\n",
       " 'sweetheart': 2783,\n",
       " '339': 11776,\n",
       " 'mpxw': 31762,\n",
       " '13254': 53986,\n",
       " 'padded': 3978,\n",
       " 'wanbelle': 46467,\n",
       " '0364': 14696,\n",
       " 'biospray': 4056,\n",
       " 'gbgrs': 55671,\n",
       " '060917': 29948,\n",
       " 'jettttt': 57686,\n",
       " '22500': 54898,\n",
       " 'chysanthenum': 39515,\n",
       " 'dermalite': 25184,\n",
       " '2757': 29702,\n",
       " 'dahsyat': 3393,\n",
       " 'eyelet': 6505,\n",
       " '11685': 28056,\n",
       " '0275': 26666,\n",
       " '0618': 12411,\n",
       " 'dallas': 5571,\n",
       " 'shops': 2174,\n",
       " 'tdc': 37029,\n",
       " 'rduj': 44142,\n",
       " 'berkumpul': 53471,\n",
       " '140570': 43013,\n",
       " 'rosan': 57792,\n",
       " 'acial': 33796,\n",
       " 'roomiest': 38832,\n",
       " '6354': 41596,\n",
       " '2511': 30426,\n",
       " 'astec': 45055,\n",
       " 'polisi': 30242,\n",
       " '083152942547': 12304,\n",
       " 'redmi': 324,\n",
       " '3201': 27464,\n",
       " '520': 1735,\n",
       " 'tifaya': 51164,\n",
       " '33815': 53807,\n",
       " 'lovey': 25088,\n",
       " '17465': 43928,\n",
       " 'eot': 23753,\n",
       " 'honor': 1384,\n",
       " '6136': 39435,\n",
       " 'jlov': 40513,\n",
       " '46280': 42779,\n",
       " 'jer': 24739,\n",
       " 'aas': 40868,\n",
       " 'currant': 22047,\n",
       " 'propessional': 13836,\n",
       " 'hoolaa': 32920,\n",
       " '083137527666': 17638,\n",
       " 'ulthyme': 35842,\n",
       " 'champ': 7245,\n",
       " '2101': 53925,\n",
       " 'sequined': 3454,\n",
       " 'ozzu': 34192,\n",
       " 'waste': 18985,\n",
       " 'adress': 41066,\n",
       " 'shimmerring': 33296,\n",
       " '648': 10525,\n",
       " 'action': 2141,\n",
       " 'fuklina': 48002,\n",
       " 'hills': 775,\n",
       " 'lighter': 8923,\n",
       " 'putifying': 35080,\n",
       " 'regenerist': 3234,\n",
       " 'itouch': 14291,\n",
       " 'ditambah': 2552,\n",
       " 'fito': 12391,\n",
       " 'tmksh': 31543,\n",
       " 'ivvi': 7967,\n",
       " 'laudia': 13936,\n",
       " 'cimahi': 26394,\n",
       " '1542': 21727,\n",
       " 'hpbekas': 58570,\n",
       " '30087': 43245,\n",
       " 'ywz': 9338,\n",
       " 'dro': 8156,\n",
       " 'reinvent': 2115,\n",
       " 'acakan': 44454,\n",
       " 'towels': 19019,\n",
       " 'bibiq': 3326,\n",
       " 'pockie': 41144,\n",
       " 'zion': 15456,\n",
       " '67713': 43103,\n",
       " 'idlp': 18110,\n",
       " '533': 10591,\n",
       " '7997': 56278,\n",
       " 'penyimpangan': 44204,\n",
       " 'plu': 7167,\n",
       " '005': 2523,\n",
       " 'framboise': 39096,\n",
       " 'bestdeal': 4516,\n",
       " '46663': 50439,\n",
       " 'porta': 58852,\n",
       " 'goh': 26718,\n",
       " 'brasso': 39825,\n",
       " 'zenfone': 206,\n",
       " 'angelista': 25188,\n",
       " 'batujajar': 31012,\n",
       " 'exclude': 34292,\n",
       " 'floralpleated': 41693,\n",
       " 'tailaco': 24286,\n",
       " 'kirani': 19127,\n",
       " 'trahir': 12199,\n",
       " 'kepala': 2108,\n",
       " '082199309469': 54778,\n",
       " 'cravog': 46504,\n",
       " 'sulam': 2419,\n",
       " 'biz': 53259,\n",
       " '224154': 46188,\n",
       " 'tokolobo': 23544,\n",
       " 'hwang': 27090,\n",
       " 'maybelinne': 20801,\n",
       " 'eretria': 48646,\n",
       " 'sekitar': 13531,\n",
       " 'oneprice': 20142,\n",
       " 'harimau': 5420,\n",
       " 'amorepacific': 16205,\n",
       " '146': 7986,\n",
       " '677': 17022,\n",
       " 'ost': 25011,\n",
       " 'flip': 1057,\n",
       " 'yellow': 736,\n",
       " '8970': 53895,\n",
       " 'raline': 13907,\n",
       " 'reliable': 21055,\n",
       " 'usan': 19040,\n",
       " 'sunyoo': 8974,\n",
       " 'ofi': 13299,\n",
       " 'daralis': 39798,\n",
       " '0506': 15910,\n",
       " 'socci': 10684,\n",
       " 'cnu': 53520,\n",
       " 'lasts': 16194,\n",
       " 'chock': 51241,\n",
       " 'mafighona': 40256,\n",
       " 'kobeinc': 50722,\n",
       " 'kalem': 30260,\n",
       " 'nabtik': 28540,\n",
       " 'prelibed': 38090,\n",
       " 'synnex': 32373,\n",
       " '2996': 11348,\n",
       " 'mahany': 43180,\n",
       " 'pinah': 43831,\n",
       " 'traveling': 13726,\n",
       " 'dianan': 50082,\n",
       " 'leeyoa': 29850,\n",
       " 'amanda': 5794,\n",
       " 'yvy': 49972,\n",
       " 'cba': 54701,\n",
       " 'arbi': 43347,\n",
       " '9481': 47966,\n",
       " 'kepa': 46925,\n",
       " 'zebra': 4266,\n",
       " '193437': 27702,\n",
       " 'carved': 22868,\n",
       " 'linette': 29355,\n",
       " 'sost': 33228,\n",
       " 'jumpsuite': 47109,\n",
       " '181820006': 52518,\n",
       " 'produck': 1951,\n",
       " '785': 16780,\n",
       " 'deu': 30194,\n",
       " 'packged': 34743,\n",
       " 'exclusivee': 6217,\n",
       " 'generic': 43984,\n",
       " 'aleo': 12344,\n",
       " 'missufe': 10234,\n",
       " '26848': 16908,\n",
       " 'mudik': 54673,\n",
       " 'glg': 58258,\n",
       " 'sugarbox': 16387,\n",
       " '20677': 17322,\n",
       " 'athirah': 23095,\n",
       " '4777': 19645,\n",
       " '409029': 39281,\n",
       " 'miki': 45510,\n",
       " 'filt': 35846,\n",
       " 'lasercut': 23396,\n",
       " '082188060194': 9812,\n",
       " 'ckage': 35967,\n",
       " 'sophist': 39767,\n",
       " 'somebyme': 18623,\n",
       " 'agneau': 42813,\n",
       " 'andra': 47848,\n",
       " '47077899': 20152,\n",
       " '085240727089': 25554,\n",
       " 'tawar': 17973,\n",
       " 'pwbs': 37336,\n",
       " 'effevtor': 33557,\n",
       " 'rahasia': 15944,\n",
       " 'handcarrybangkok': 48614,\n",
       " '404607': 34201,\n",
       " 'dkincare': 26036,\n",
       " 'laque': 39422,\n",
       " 'asuka': 23629,\n",
       " 'realtree': 17733,\n",
       " 'cheng': 33273,\n",
       " '600': 1684,\n",
       " 'delivery': 4617,\n",
       " 'zalora': 13918,\n",
       " 'bxfs': 45696,\n",
       " 'belanja': 5892,\n",
       " 'vario': 47312,\n",
       " 'meningkat': 40392,\n",
       " 'hardcover': 20066,\n",
       " '0441': 16180,\n",
       " 'voombox': 31628,\n",
       " 'sarafan': 42828,\n",
       " 'ideos': 32374,\n",
       " '4047': 25860,\n",
       " 'pnjg': 13000,\n",
       " 'eefector': 34082,\n",
       " '35': 433,\n",
       " 'alsjeblief': 19109,\n",
       " 'oeb': 47007,\n",
       " 'colorescience': 8279,\n",
       " 'wezly': 53880,\n",
       " 'deligght': 33411,\n",
       " '081398724178': 24609,\n",
       " 'signe': 33205,\n",
       " 'menoqo': 19024,\n",
       " 'belvira': 46383,\n",
       " 'mport': 54129,\n",
       " 'well': 12506,\n",
       " 'gingseng': 11072,\n",
       " 'quadqore': 54803,\n",
       " 'asymetric': 17047,\n",
       " 'appetit': 7764,\n",
       " 'corgi': 23892,\n",
       " 'indronesia': 20450,\n",
       " '320489': 37228,\n",
       " '0518008': 33684,\n",
       " 'mus': 4995,\n",
       " 'creamglowing': 34780,\n",
       " '41259393': 29336,\n",
       " 'larva': 5461,\n",
       " 'printpleated': 41849,\n",
       " 'shuuemura': 16313,\n",
       " 'olai': 21176,\n",
       " 'unta': 12000,\n",
       " '4408': 53461,\n",
       " 'sbmhs': 38029,\n",
       " 'elagant': 43364,\n",
       " 'chocolat': 40724,\n",
       " 'shineskin': 3795,\n",
       " 'pollover': 28230,\n",
       " 'crezha': 22233,\n",
       " 'womanizer': 36914,\n",
       " 'magentaq': 51308,\n",
       " 'opium': 11896,\n",
       " 'cnt': 25331,\n",
       " '5833': 10339,\n",
       " 'conditiong': 24811,\n",
       " 'htcm': 37908,\n",
       " 'ful': 7449,\n",
       " 'vannila': 39733,\n",
       " '6531': 31164,\n",
       " 'iwn': 46011,\n",
       " 'strappy': 2096,\n",
       " '5044': 43216,\n",
       " 'urbanite': 55917,\n",
       " 'joe': 7401,\n",
       " 'flowy': 3459,\n",
       " 'sticker': 3355,\n",
       " 'bandingkan': 55808,\n",
       " 'falre': 47679,\n",
       " 'aescondo': 53853,\n",
       " 'papaw': 11940,\n",
       " 'neighbor': 51373,\n",
       " 'ts': 1616,\n",
       " '3242': 52627,\n",
       " 'jadul': 2751,\n",
       " 'cerahkan': 18072,\n",
       " 'internet': 3316,\n",
       " '130411': 53636,\n",
       " 'nxh': 17346,\n",
       " 'berbie': 35121,\n",
       " 'candyladystore': 52611,\n",
       " 'atlanticphone': 11533,\n",
       " '182221': 42537,\n",
       " 'activator': 4377,\n",
       " 'manat': 14312,\n",
       " 'crossy': 27469,\n",
       " 'teduh': 36205,\n",
       " 'illnew': 43422,\n",
       " 'mythic': 24931,\n",
       " '6220': 30056,\n",
       " 'dace': 35440,\n",
       " 'berlin': 7045,\n",
       " 'punpung': 31089,\n",
       " 'ulzza': 49347,\n",
       " '4019': 30325,\n",
       " 'lsleeve': 51060,\n",
       " '010119': 22419,\n",
       " '3083': 52584,\n",
       " 'matts': 39033,\n",
       " 'aliza': 47213,\n",
       " 'podwer': 12347,\n",
       " 'gravity': 5495,\n",
       " '494': 13564,\n",
       " 'amplop': 53422,\n",
       " 'nuxellence': 37835,\n",
       " 'waka': 9061,\n",
       " '6387': 45196,\n",
       " 'disco': 11622,\n",
       " '24405': 17505,\n",
       " 'aubeau': 9576,\n",
       " '47924': 40527,\n",
       " '95591': 35804,\n",
       " 'hots': 11185,\n",
       " '9220': 7302,\n",
       " 'rfp': 16092,\n",
       " 'capdase': 4647,\n",
       " 'tambah': 5838,\n",
       " '9096': 50383,\n",
       " '30702': 47551,\n",
       " 'moizkin': 38108,\n",
       " 'tebal': 956,\n",
       " 'penebalan': 6375,\n",
       " '2555': 51058,\n",
       " 'lipstick': 171,\n",
       " 'dresta': 22753,\n",
       " 'amadea': 45269,\n",
       " 'eunbi': 7678,\n",
       " 'keer': 45185,\n",
       " 'sisah': 24316,\n",
       " 'acirnigbiba': 36590,\n",
       " 'meiking': 13280,\n",
       " '31657': 29051,\n",
       " 'tuyob': 44054,\n",
       " 'glee': 22135,\n",
       " 'tadi': 31756,\n",
       " 'sekon': 24186,\n",
       " 'corta': 38079,\n",
       " 'considerate': 31313,\n",
       " '1940293': 53030,\n",
       " 'setetelan': 28588,\n",
       " 'fbaju': 19276,\n",
       " 'farcry': 49389,\n",
       " '3550': 28112,\n",
       " 'nrwc': 41406,\n",
       " 'xlusive': 26039,\n",
       " 'optimus': 7971,\n",
       " 'sriu': 20137,\n",
       " 'aloera': 36741,\n",
       " '1693': 26281,\n",
       " 'concave': 46757,\n",
       " '0981': 38259,\n",
       " 'useful': 14928,\n",
       " 'creating': 24745,\n",
       " 'stephy': 27503,\n",
       " 'okee': 56836,\n",
       " '32843': 54189,\n",
       " 'girdle': 15218,\n",
       " 'corsage': 41336,\n",
       " 'powerbox': 56501,\n",
       " '010': 1396,\n",
       " '34839': 43695,\n",
       " 'worko': 42874,\n",
       " 'minigood': 36680,\n",
       " 'seconf': 32165,\n",
       " 'onepad': 56423,\n",
       " 'alergi': 11098,\n",
       " 'originalstuff': 33148,\n",
       " 'drawstring': 2434,\n",
       " 'toucshcreen': 55673,\n",
       " '24257': 52145,\n",
       " 'mga': 44864,\n",
       " 'minuman': 4848,\n",
       " 'phpr': 37093,\n",
       " 'realpicture': 23580,\n",
       " 'mainboard': 10835,\n",
       " 'pembuangan': 24530,\n",
       " 'kmii': 32096,\n",
       " 'tsb': 14129,\n",
       " '2777': 4505,\n",
       " 'laminated': 56112,\n",
       " 'azz': 19525,\n",
       " 'physiciants': 38393,\n",
       " 'blossometime': 37880,\n",
       " 'jumei': 13646,\n",
       " 'gudamg': 56349,\n",
       " 'tensa': 29442,\n",
       " '5428': 27490,\n",
       " '4518': 6265,\n",
       " 'excessive': 36007,\n",
       " 'fixy': 24879,\n",
       " 'icloud': 4645,\n",
       " 'ifcane': 57840,\n",
       " 'format': 56883,\n",
       " '0000195': 21568,\n",
       " 'foubdation': 38037,\n",
       " 'murad': 18109,\n",
       " '18495360': 8684,\n",
       " 'yanhee': 37403,\n",
       " '9441': 43918,\n",
       " 'cottonletter': 47757,\n",
       " '1409': 20541,\n",
       " '7079': 24893,\n",
       " '3953': 51348,\n",
       " 'spasial': 56049,\n",
       " 'picking': 39684,\n",
       " 'keputihan': 35924,\n",
       " 'stellia': 29805,\n",
       " 'shne': 32914,\n",
       " 'snsrxd': 47507,\n",
       " 'spl': 1812,\n",
       " 'tidal': 19451,\n",
       " 'xiaumi': 15551,\n",
       " '21478': 47417,\n",
       " 'brain': 20644,\n",
       " '325486': 52116,\n",
       " 'berih': 55674,\n",
       " '8287': 43106,\n",
       " 'saluran': 23900,\n",
       " 'sms': 8473,\n",
       " 'rubbie': 42764,\n",
       " 'eggwhite': 7807,\n",
       " 'umroh': 3993,\n",
       " 'whitr': 41412,\n",
       " 'lembayung': 42414,\n",
       " 'ives': 7146,\n",
       " 'maxis': 31410,\n",
       " 'poreiess': 33779,\n",
       " '0145': 13256,\n",
       " 'pukulan': 29745,\n",
       " 'dw': 11885,\n",
       " 'erros': 16585,\n",
       " 'xacne': 26335,\n",
       " 'whiten': 13379,\n",
       " 'tao': 22892,\n",
       " 'najma': 42274,\n",
       " 'pengendalian': 21050,\n",
       " 'lansting': 38719,\n",
       " 'blackberrr': 57621,\n",
       " 'cewek': 369,\n",
       " 'nar': 8523,\n",
       " 'azrina': 18070,\n",
       " 'velifra': 41527,\n",
       " 'adalah': 5143,\n",
       " '082348306114': 13076,\n",
       " '08038': 46777,\n",
       " 'serit': 38002,\n",
       " 'uss': 35252,\n",
       " 'chicken': 9994,\n",
       " '43415': 48793,\n",
       " '18091200603': 37883,\n",
       " 'xnr': 9915,\n",
       " 'stk': 34807,\n",
       " 'xm': 5676,\n",
       " 'menanti': 54665,\n",
       " 'neckband': 17222,\n",
       " 'hway': 28125,\n",
       " 'salicyl': 16332,\n",
       " 'leads': 45365,\n",
       " 'tech': 6216,\n",
       " 'prelovedng': 57229,\n",
       " 'mumer': 2388,\n",
       " 'matifying': 10419,\n",
       " '9951': 19252,\n",
       " 'wtd': 54002,\n",
       " 'wilujjengshoop': 27704,\n",
       " 'olivia': 3975,\n",
       " 'nbc': 11833,\n",
       " 'pusheen': 30724,\n",
       " '21694': 50288,\n",
       " 'tle': 42075,\n",
       " 'trucker': 23005,\n",
       " 'ob': 11919,\n",
       " 'longwearing': 16029,\n",
       " 'interi': 55380,\n",
       " 'berbonus': 20134,\n",
       " 'boxyko': 52846,\n",
       " 'garabsi': 23966,\n",
       " 'bumil': 3077,\n",
       " 'meccanisme': 33467,\n",
       " 'fiber': 1688,\n",
       " 'romanes': 26632,\n",
       " 'bestquality': 28000,\n",
       " '5333': 9822,\n",
       " 'tfg': 32280,\n",
       " 'soriee': 41618,\n",
       " 'jepit': 8237,\n",
       " 'rekomended': 2666,\n",
       " 'cotour': 11095,\n",
       " '7535': 52894,\n",
       " 'hphidesign': 44544,\n",
       " '4005': 13966,\n",
       " '5536': 56003,\n",
       " 'manister': 21206,\n",
       " 'zahida': 46947,\n",
       " 'uhf': 17715,\n",
       " 'vuitton': 30159,\n",
       " 'sucopindo': 34023,\n",
       " 'daiso': 9974,\n",
       " 'asuz': 8747,\n",
       " '0216': 18686,\n",
       " 'nope': 17377,\n",
       " 'catdiv': 17556,\n",
       " 'siput': 10561,\n",
       " 'laniege': 13343,\n",
       " 'neutral': 1046,\n",
       " 'berpotongan': 8413,\n",
       " 'eleganf': 47807,\n",
       " 'sml': 9301,\n",
       " 'changing': 8340,\n",
       " 'merciafashion': 23496,\n",
       " 'esenses': 3084,\n",
       " 'freeman': 3957,\n",
       " '2577': 13222,\n",
       " 'dnd': 29005,\n",
       " 'ycbkenzo': 45678,\n",
       " 'berries': 11904,\n",
       " 'krh': 13858,\n",
       " 'hosted': 29144,\n",
       " '45777': 49254,\n",
       " 'koujing': 26890,\n",
       " 'shawl': 2044,\n",
       " 'swoon': 9593,\n",
       " 'wid': 12131,\n",
       " '8510': 58840,\n",
       " 'yiju': 46730,\n",
       " '02657': 34992,\n",
       " 'nak': 40331,\n",
       " 'perricone': 33283,\n",
       " 'practice': 30051,\n",
       " 'readybig': 52773,\n",
       " 'hacking': 31847,\n",
       " 'positif': 52915,\n",
       " '27806': 46690,\n",
       " 'veil': 2306,\n",
       " '6737': 9413,\n",
       " 'memei': 11107,\n",
       " 'rdd': 23202,\n",
       " 'sio': 12928,\n",
       " 'undereye': 8013,\n",
       " 'erase': 3953,\n",
       " 'vco': 11050,\n",
       " 'ngetren': 3085,\n",
       " '3993': 26256,\n",
       " 'embroidefloral': 45576,\n",
       " 'lemonskin': 43598,\n",
       " 'brt': 29603,\n",
       " 'dressv': 4691,\n",
       " 'iae': 41147,\n",
       " '082192027388': 20244,\n",
       " 'broklace': 46000,\n",
       " 'gives': 35657,\n",
       " 'welcos': 35877,\n",
       " 'fon': 23619,\n",
       " '112': 3966,\n",
       " '1331': 14496,\n",
       " 'indahsonia': 32558,\n",
       " '37200': 51609,\n",
       " 'calvienklien': 40994,\n",
       " 'iced': 39775,\n",
       " '1984': 23721,\n",
       " 'tlpn': 24333,\n",
       " '4366': 30450,\n",
       " '253': 6115,\n",
       " 'revitalash': 36276,\n",
       " 'sliky': 35647,\n",
       " 'editiono': 55800,\n",
       " 'hervana': 10418,\n",
       " 'browgal': 32812,\n",
       " 'shalom': 27588,\n",
       " 'unbox': 8524,\n",
       " 'lambskin': 21150,\n",
       " 'eeqfashion': 49610,\n",
       " 'efinny': 46979,\n",
       " '776358': 46895,\n",
       " 'kerah': 152,\n",
       " 'seriesiphone': 56926,\n",
       " '2004': 8502,\n",
       " '52413': 46245,\n",
       " 'lanyard': 17626,\n",
       " 'bioderma': 3596,\n",
       " 'lat': 29818,\n",
       " '44775': 19978,\n",
       " 'hmt': 6515,\n",
       " '34715': 43540,\n",
       " '821': 3730,\n",
       " '1324': 11839,\n",
       " 'sxfrsk': 41133,\n",
       " 'egm': 47998,\n",
       " 'redminote': 1953,\n",
       " 'ayunan': 4688,\n",
       " 'frizz': 35999,\n",
       " '51002755': 39923,\n",
       " 'osl': 15413,\n",
       " 'tensung': 8612,\n",
       " 'kleancolor': 6409,\n",
       " '4046': 23705,\n",
       " 'knapsack': 44262,\n",
       " 'dol': 21879,\n",
       " 'jbzu': 41972,\n",
       " '083137567646': 13153,\n",
       " 'demure': 27148,\n",
       " 'gagaopt': 14062,\n",
       " 'player': 6519,\n",
       " '571686': 29881,\n",
       " 'im': 2924,\n",
       " 'fhl': 28391,\n",
       " '35826': 39094,\n",
       " '373': 12755,\n",
       " 'liostick': 38983,\n",
       " '0257': 17813,\n",
       " 'fdynamic': 36192,\n",
       " 'creme': 649,\n",
       " 'kimuse': 9587,\n",
       " 'pompom': 12019,\n",
       " 'micropc': 31698,\n",
       " 'garansii': 18811,\n",
       " 'termia': 40093,\n",
       " 'minakawaii': 35114,\n",
       " '9228': 19928,\n",
       " 'lybra': 13029,\n",
       " 'sashet': 20873,\n",
       " 'diabetes': 20591,\n",
       " 'inside': 4938,\n",
       " 'elegdream': 53386,\n",
       " 'rnk': 35615,\n",
       " 'tmpt': 36449,\n",
       " 'sleting': 3411,\n",
       " 'peont': 22630,\n",
       " '0484': 14608,\n",
       " '0869': 11775,\n",
       " 'blason': 32364,\n",
       " '407': 7201,\n",
       " 'coca': 7786,\n",
       " 'bws': 34413,\n",
       " '2127': 27835,\n",
       " 'pakage': 35540,\n",
       " 'meizi': 35292,\n",
       " '8427': 12223,\n",
       " '8025': 41399,\n",
       " '08834': 22981,\n",
       " 'igarskin': 55116,\n",
       " 'nda': 22255,\n",
       " 'dfor': 39211,\n",
       " 'wear': 608,\n",
       " 'joss': 6644,\n",
       " '065': 12627,\n",
       " 'galong': 33041,\n",
       " 'creamspf': 36802,\n",
       " 'powerfull': 10098,\n",
       " '081934445559': 20065,\n",
       " 'clat': 7200,\n",
       " 'oaxaca': 36478,\n",
       " 'berbelanja': 8376,\n",
       " 'beg': 50542,\n",
       " 'compat': 8507,\n",
       " '6200': 5212,\n",
       " 'pell': 14772,\n",
       " 'mojokerto': 25300,\n",
       " '0960': 18214,\n",
       " '482': 25535,\n",
       " '9292': 44268,\n",
       " 'kncing': 46303,\n",
       " '2545582': 57998,\n",
       " 'txclovt': 42331,\n",
       " 'mold': 7876,\n",
       " 'dayanti': 27170,\n",
       " 'kasablus': 53196,\n",
       " '568': 19587,\n",
       " 'idols': 49265,\n",
       " 'nni': 19650,\n",
       " 'creations': 2262,\n",
       " 'sarasara': 6854,\n",
       " 'gagalook': 52470,\n",
       " '30366': 42387,\n",
       " 'kiip': 55211,\n",
       " 'ciate': 38268,\n",
       " '085240084477': 12219,\n",
       " '2430': 14122,\n",
       " '0228': 13504,\n",
       " 'kantung': 4104,\n",
       " 'praque': 16723,\n",
       " 'softshell': 3468,\n",
       " '94': 2481,\n",
       " 'waterpfoof': 34513,\n",
       " 'blutoote': 24426,\n",
       " 'locitane': 39446,\n",
       " 'glite': 31371,\n",
       " '778139': 40049,\n",
       " 'kadalado': 39449,\n",
       " 'blousepolos': 48320,\n",
       " 'beautistyle': 36364,\n",
       " 'baruh': 4721,\n",
       " 'mixi': 19515,\n",
       " 'cane': 35468,\n",
       " 'leebp': 19055,\n",
       " '43251': 48712,\n",
       " 'ropa': 51487,\n",
       " 'gauze': 2295,\n",
       " 'majestically': 52427,\n",
       " '2948': 37149,\n",
       " 'tanjay': 22954,\n",
       " 'gake': 34016,\n",
       " '083136257789': 57508,\n",
       " '0648': 37930,\n",
       " 'semple': 35920,\n",
       " 'meybeline': 26678,\n",
       " '4394': 46643,\n",
       " 'beverley': 39380,\n",
       " 'projects': 53074,\n",
       " '083152333686': 31346,\n",
       " 'turqis': 49676,\n",
       " 'afka': 28970,\n",
       " 'hitsm': 30967,\n",
       " 'nania': 22731,\n",
       " 'ldi': 49385,\n",
       " 'booked': 6740,\n",
       " 'rromo': 31881,\n",
       " '087841396552': 20243,\n",
       " 'bdu': 38580,\n",
       " 'mai': 27115,\n",
       " '62': 1357,\n",
       " 'sink': 13023,\n",
       " 'nobrand': 51583,\n",
       " 'soundsport': 31292,\n",
       " 'repack': 8576,\n",
       " 'shopp': 17349,\n",
       " '978131': 23893,\n",
       " 'fipaky': 57965,\n",
       " 'spice': 13569,\n",
       " 'bazaleas': 51246,\n",
       " '1705': 15009,\n",
       " '4549': 57858,\n",
       " '870': 5895,\n",
       " '39023': 48279,\n",
       " '3947': 33480,\n",
       " 'nfone': 56667,\n",
       " '17905': 28892,\n",
       " 'dapatnya': 57339,\n",
       " 'bouncer': 13310,\n",
       " 'kwr': 40950,\n",
       " 'affixed': 48800,\n",
       " '9442': 19271,\n",
       " 'classik': 55174,\n",
       " 'pemuda': 30976,\n",
       " 'grns': 12254,\n",
       " 'kubis': 30645,\n",
       " '40': 357,\n",
       " 'batrisyia': 4093,\n",
       " '8367': 45409,\n",
       " 'known': 25914,\n",
       " 'satto': 6401,\n",
       " '2799000': 55705,\n",
       " 'siy': 23037,\n",
       " 'hj': 11062,\n",
       " 'pendekbeach': 41372,\n",
       " '083137077454': 7747,\n",
       " 'honneur': 41395,\n",
       " 'multimedia': 10871,\n",
       " 'aliyah': 47902,\n",
       " 'hamluc': 25538,\n",
       " 'supkos': 16337,\n",
       " 'haloo': 25692,\n",
       " '082297999140': 6033,\n",
       " 'dj': 5766,\n",
       " 'bareadi': 50298,\n",
       " 'bajutidur': 15139,\n",
       " 'improt': 21872,\n",
       " '3117': 44515,\n",
       " ...}"
      ]
     },
     "execution_count": 30,
     "metadata": {},
     "output_type": "execute_result"
    }
   ],
   "source": [
    "word_index"
   ]
  },
  {
   "cell_type": "markdown",
   "metadata": {
    "_uuid": "e5c51a8329d569d13b9f0369ebb98ca8e2e55440"
   },
   "source": [
    "### Load Embeddings\n",
    "\n",
    "Two embedding matrices have been used. Glove, and paragram. The mean of the two is used as the final embedding matrix"
   ]
  },
  {
   "cell_type": "code",
   "execution_count": 17,
   "metadata": {
    "_uuid": "6a5f4502324d369ff6faa3692accee4f8a233005",
    "scrolled": true
   },
   "outputs": [
    {
     "name": "stdout",
     "output_type": "stream",
     "text": [
      "(58869, 600)\n"
     ]
    },
    {
     "data": {
      "application/vnd.jupyter.widget-view+json": {
       "model_id": "0cace8529f8b4d8e9fe840b7573319ae",
       "version_major": 2,
       "version_minor": 0
      },
      "text/plain": [
       "HBox(children=(IntProgress(value=0, max=58868), HTML(value='')))"
      ]
     },
     "metadata": {},
     "output_type": "display_data"
    },
    {
     "name": "stdout",
     "output_type": "stream",
     "text": [
      "\n"
     ]
    },
    {
     "data": {
      "text/plain": [
       "(58869, 600)"
      ]
     },
     "execution_count": 17,
     "metadata": {},
     "output_type": "execute_result"
    }
   ],
   "source": [
    "# missing entries in the embedding are set using np.random.normal so we have to seed here too\n",
    "# seed_everything()\n",
    "\n",
    "# glove_embeddings = load_glove(word_index)\n",
    "paragram_embeddings = load_pymag(word_index)\n",
    "\n",
    "# embedding_matrix = np.mean([glove_embeddings, paragram_embeddings], axis=0)\n",
    "embedding_matrix = paragram_embeddings\n",
    "\n",
    "# vocab = build_vocab(df['title'])\n",
    "# add_lower(embedding_matrix, vocab)\n",
    "# del glove_embeddings, paragram_embeddings\n",
    "del paragram_embeddings\n",
    "gc.collect()\n",
    "\n",
    "np.shape(embedding_matrix)"
   ]
  },
  {
   "cell_type": "code",
   "execution_count": 18,
   "metadata": {
    "_uuid": "2484f29f159af679af7d7745e522221e31e42ce0"
   },
   "outputs": [],
   "source": [
    "np.save(\"ndsc-loaded/embedding_matrix.npy\",embedding_matrix)"
   ]
  },
  {
   "cell_type": "code",
   "execution_count": 19,
   "metadata": {},
   "outputs": [],
   "source": [
    "embedding_matrix = np.load(\"ndsc-loaded/embedding_matrix.npy\")"
   ]
  },
  {
   "cell_type": "markdown",
   "metadata": {},
   "source": [
    "# Viewing the data"
   ]
  },
  {
   "cell_type": "code",
   "execution_count": 20,
   "metadata": {},
   "outputs": [
    {
     "name": "stdout",
     "output_type": "stream",
     "text": [
      "(666615, 100)\n"
     ]
    },
    {
     "data": {
      "text/plain": [
       "array([[   0,    0,    0,    0,    0,    0,    0,    0,    0,    0,    0,\n",
       "           0,    0,    0,    0,    0,    0,    0,    0,    0,    0,    0,\n",
       "           0,    0,    0,    0,    0,    0,    0,    0,    0,    0,    0,\n",
       "           0,    0,    0,    0,    0,    0,    0,    0,    0,    0,    0,\n",
       "           0,    0,    0,    0,    0,    0,    0,    0,    0,    0,    0,\n",
       "           0,    0,    0,    0,    0,    0,    0,    0,    0,    0,    0,\n",
       "           0,    0,    0,    0,    0,    0,    0,    0,    0,    0,    0,\n",
       "           0,    0,    0,    0,    0,    0,    0,    0,    0,    0,    0,\n",
       "           0,    0,    0,    0,    0,    0,  176, 8498, 5533, 1056,   83,\n",
       "         330],\n",
       "       [   0,    0,    0,    0,    0,    0,    0,    0,    0,    0,    0,\n",
       "           0,    0,    0,    0,    0,    0,    0,    0,    0,    0,    0,\n",
       "           0,    0,    0,    0,    0,    0,    0,    0,    0,    0,    0,\n",
       "           0,    0,    0,    0,    0,    0,    0,    0,    0,    0,    0,\n",
       "           0,    0,    0,    0,    0,    0,    0,    0,    0,    0,    0,\n",
       "           0,    0,    0,    0,    0,    0,    0,    0,    0,    0,    0,\n",
       "           0,    0,    0,    0,    0,    0,    0,    0,    0,    0,    0,\n",
       "           0,    0,    0,    0,    0,    0,    0,    0,    0,    0,    0,\n",
       "           0,    0,    0,   95,  117,  334,  147,  935,   30, 1260, 1354,\n",
       "         680]], dtype=int32)"
      ]
     },
     "execution_count": 20,
     "metadata": {},
     "output_type": "execute_result"
    }
   ],
   "source": [
    "print(np.shape(x_train))\n",
    "x_train[:2] "
   ]
  },
  {
   "cell_type": "code",
   "execution_count": 21,
   "metadata": {},
   "outputs": [
    {
     "name": "stdout",
     "output_type": "stream",
     "text": [
      "(666615,)\n"
     ]
    },
    {
     "data": {
      "text/plain": [
       "array([0, 1])"
      ]
     },
     "execution_count": 21,
     "metadata": {},
     "output_type": "execute_result"
    }
   ],
   "source": [
    "print(np.shape(y_train))\n",
    "y_train[:2] "
   ]
  },
  {
   "cell_type": "code",
   "execution_count": 22,
   "metadata": {},
   "outputs": [
    {
     "name": "stdout",
     "output_type": "stream",
     "text": [
      "(172402, 100)\n"
     ]
    },
    {
     "data": {
      "text/plain": [
       "array([[   0,    0,    0,    0,    0,    0,    0,    0,    0,    0,    0,\n",
       "           0,    0,    0,    0,    0,    0,    0,    0,    0,    0,    0,\n",
       "           0,    0,    0,    0,    0,    0,    0,    0,    0,    0,    0,\n",
       "           0,    0,    0,    0,    0,    0,    0,    0,    0,    0,    0,\n",
       "           0,    0,    0,    0,    0,    0,    0,    0,    0,    0,    0,\n",
       "           0,    0,    0,    0,    0,    0,    0,    0,    0,    0,    0,\n",
       "           0,    0,    0,    0,    0,    0,    0,    0,    0,    0,    0,\n",
       "           0,    0,    0,    0,    0,    0,    0,    0,    0,    0,    0,\n",
       "           0,    0,    0, 2420,   54,   82,    6,   22,   43,  110,  357,\n",
       "          68],\n",
       "       [   0,    0,    0,    0,    0,    0,    0,    0,    0,    0,    0,\n",
       "           0,    0,    0,    0,    0,    0,    0,    0,    0,    0,    0,\n",
       "           0,    0,    0,    0,    0,    0,    0,    0,    0,    0,    0,\n",
       "           0,    0,    0,    0,    0,    0,    0,    0,    0,    0,    0,\n",
       "           0,    0,    0,    0,    0,    0,    0,    0,    0,    0,    0,\n",
       "           0,    0,    0,    0,    0,    0,    0,    0,    0,    0,    0,\n",
       "           0,    0,    0,    0,    0,    0,    0,    0,    0,    0,    0,\n",
       "           0,    0,    0,    0,    0,    0,    0,    0,    0,    0,    0,\n",
       "           0,    0,  136,  320,  289,  301,  112,  352,   22,    6,   43,\n",
       "         535]], dtype=int32)"
      ]
     },
     "execution_count": 22,
     "metadata": {},
     "output_type": "execute_result"
    }
   ],
   "source": [
    "print(np.shape(x_test))\n",
    "x_test[:2]"
   ]
  },
  {
   "cell_type": "code",
   "execution_count": 23,
   "metadata": {},
   "outputs": [
    {
     "name": "stdout",
     "output_type": "stream",
     "text": [
      "(666615, 2)\n"
     ]
    },
    {
     "data": {
      "text/plain": [
       "array([[0.        , 0.24602183],\n",
       "       [0.        , 0.24602183]])"
      ]
     },
     "execution_count": 23,
     "metadata": {},
     "output_type": "execute_result"
    }
   ],
   "source": [
    "print(np.shape(features))\n",
    "features[:2]"
   ]
  },
  {
   "cell_type": "code",
   "execution_count": 24,
   "metadata": {},
   "outputs": [
    {
     "name": "stdout",
     "output_type": "stream",
     "text": [
      "(172402, 2)\n"
     ]
    },
    {
     "data": {
      "text/plain": [
       "array([[0.        , 0.24602183],\n",
       "       [0.        , 0.24602183]])"
      ]
     },
     "execution_count": 24,
     "metadata": {},
     "output_type": "execute_result"
    }
   ],
   "source": [
    "print(np.shape(test_features))\n",
    "test_features[:2]"
   ]
  },
  {
   "cell_type": "code",
   "execution_count": 25,
   "metadata": {},
   "outputs": [
    {
     "name": "stdout",
     "output_type": "stream",
     "text": [
      "<class 'dict'>\n",
      "58868\n",
      "('embun', 15092)\n",
      "{}\n",
      "{}\n",
      "{'punct': 1}\n",
      "{'posti': 48861}\n",
      "{'jumbobahan': 48862}\n",
      "33\n",
      "3364\n",
      "11\n"
     ]
    }
   ],
   "source": [
    "print(type(word_index))\n",
    "print(len(word_index))\n",
    "print(list(word_index.items())[0])\n",
    "print({k:v for k, v in word_index.items() if v == 0})\n",
    "print({k:v for k, v in word_index.items() if v == -1})\n",
    "print({k:v for k, v in word_index.items() if v == 1})\n",
    "print({k:v for k, v in word_index.items() if v == 48861})\n",
    "print({k:v for k, v in word_index.items() if v == 48862})\n",
    "print(word_index[\"a\"])\n",
    "print(word_index[\"pikachu\"])\n",
    "print(word_index[\"1\"])\n",
    "# print(word_index[\"uberxxxLLL\"])"
   ]
  },
  {
   "cell_type": "code",
   "execution_count": 26,
   "metadata": {},
   "outputs": [
    {
     "name": "stdout",
     "output_type": "stream",
     "text": [
      "(58869, 600)\n",
      "58868\n"
     ]
    },
    {
     "data": {
      "text/plain": [
       "array([[-0.04860086, -0.24720996,  0.42521456, ..., -0.21847048,\n",
       "        -1.05296884, -0.03328344],\n",
       "       [-0.04762892,  0.07946643, -0.11856825, ..., -0.0309577 ,\n",
       "         0.0197866 , -0.0033842 ],\n",
       "       [ 0.04673836, -0.0223379 , -0.12092261, ...,  0.13406077,\n",
       "         0.01473542, -0.04085712],\n",
       "       ...,\n",
       "       [-0.04274246, -0.06111113, -0.07806378, ...,  0.04977079,\n",
       "        -0.09392625, -0.01690135],\n",
       "       [-0.00693522, -0.02030947,  0.03552538, ...,  0.0967916 ,\n",
       "        -0.0194647 , -0.045369  ],\n",
       "       [ 0.04198201,  0.05842341, -0.06973547, ...,  0.11522331,\n",
       "         0.03642724, -0.05825302]])"
      ]
     },
     "execution_count": 26,
     "metadata": {},
     "output_type": "execute_result"
    }
   ],
   "source": [
    "print(np.shape(embedding_matrix))\n",
    "print(len(word_index)) # i don't understand why different\n",
    "embedding_matrix[:]"
   ]
  },
  {
   "cell_type": "markdown",
   "metadata": {},
   "source": [
    "# THE TOKENISER ENDS HERE"
   ]
  },
  {
   "cell_type": "markdown",
   "metadata": {
    "_uuid": "d3b707858357eec18403f97368a40c43987b40e8"
   },
   "source": [
    "### Use Stratified K Fold to improve results"
   ]
  },
  {
   "cell_type": "code",
   "execution_count": null,
   "metadata": {
    "_uuid": "fa55c64890964220ded1762236e091e59e502e53",
    "scrolled": true
   },
   "outputs": [],
   "source": [
    "splits = list(StratifiedKFold(n_splits=n_splits, shuffle=True, random_state=SEED).split(x_train, y_train))\n",
    "splits[:3]"
   ]
  },
  {
   "cell_type": "code",
   "execution_count": null,
   "metadata": {
    "_uuid": "0d60b4b08c9cf86d7d4dac80be1dd184004f84d1"
   },
   "outputs": [],
   "source": [
    "splits[0]"
   ]
  },
  {
   "cell_type": "code",
   "execution_count": null,
   "metadata": {
    "_uuid": "9b8854b696e53c4bc7ee31849478c933bd94f080"
   },
   "outputs": [],
   "source": [
    "np.shape(splits)"
   ]
  },
  {
   "cell_type": "markdown",
   "metadata": {
    "_uuid": "8098bea0cee9117ff9dc4e11feba53e49b80cb55"
   },
   "source": [
    "### Cyclic CLR\n",
    "Code taken from https://www.kaggle.com/dannykliu/lstm-with-attention-clr-in-pytorch"
   ]
  },
  {
   "cell_type": "code",
   "execution_count": null,
   "metadata": {
    "_uuid": "9d531a7454923f90d0e7443b1ed1373d008c2e88",
    "scrolled": true
   },
   "outputs": [],
   "source": [
    "# code inspired from: https://github.com/anandsaha/pytorch.cyclic.learning.rate/blob/master/cls.py\n",
    "class CyclicLR(object):\n",
    "    def __init__(self, optimizer, base_lr=1e-3, max_lr=6e-3,\n",
    "                 step_size=2000, mode='triangular', gamma=1.,\n",
    "                 scale_fn=None, scale_mode='cycle', last_batch_iteration=-1):\n",
    "\n",
    "        if not isinstance(optimizer, Optimizer):\n",
    "            raise TypeError('{} is not an Optimizer'.format(\n",
    "                type(optimizer).__name__))\n",
    "        self.optimizer = optimizer\n",
    "\n",
    "        if isinstance(base_lr, list) or isinstance(base_lr, tuple):\n",
    "            if len(base_lr) != len(optimizer.param_groups):\n",
    "                raise ValueError(\"expected {} base_lr, got {}\".format(\n",
    "                    len(optimizer.param_groups), len(base_lr)))\n",
    "            self.base_lrs = list(base_lr)\n",
    "        else:\n",
    "            self.base_lrs = [base_lr] * len(optimizer.param_groups)\n",
    "\n",
    "        if isinstance(max_lr, list) or isinstance(max_lr, tuple):\n",
    "            if len(max_lr) != len(optimizer.param_groups):\n",
    "                raise ValueError(\"expected {} max_lr, got {}\".format(\n",
    "                    len(optimizer.param_groups), len(max_lr)))\n",
    "            self.max_lrs = list(max_lr)\n",
    "        else:\n",
    "            self.max_lrs = [max_lr] * len(optimizer.param_groups)\n",
    "\n",
    "        self.step_size = step_size\n",
    "\n",
    "        if mode not in ['triangular', 'triangular2', 'exp_range'] \\\n",
    "                and scale_fn is None:\n",
    "            raise ValueError('mode is invalid and scale_fn is None')\n",
    "\n",
    "        self.mode = mode\n",
    "        self.gamma = gamma\n",
    "\n",
    "        if scale_fn is None:\n",
    "            if self.mode == 'triangular':\n",
    "                self.scale_fn = self._triangular_scale_fn\n",
    "                self.scale_mode = 'cycle'\n",
    "            elif self.mode == 'triangular2':\n",
    "                self.scale_fn = self._triangular2_scale_fn\n",
    "                self.scale_mode = 'cycle'\n",
    "            elif self.mode == 'exp_range':\n",
    "                self.scale_fn = self._exp_range_scale_fn\n",
    "                self.scale_mode = 'iterations'\n",
    "        else:\n",
    "            self.scale_fn = scale_fn\n",
    "            self.scale_mode = scale_mode\n",
    "\n",
    "        self.batch_step(last_batch_iteration + 1)\n",
    "        self.last_batch_iteration = last_batch_iteration\n",
    "\n",
    "    def batch_step(self, batch_iteration=None):\n",
    "        if batch_iteration is None:\n",
    "            batch_iteration = self.last_batch_iteration + 1\n",
    "        self.last_batch_iteration = batch_iteration\n",
    "        for param_group, lr in zip(self.optimizer.param_groups, self.get_lr()):\n",
    "            param_group['lr'] = lr\n",
    "\n",
    "    def _triangular_scale_fn(self, x):\n",
    "        return 1.\n",
    "\n",
    "    def _triangular2_scale_fn(self, x):\n",
    "        return 1 / (2. ** (x - 1))\n",
    "\n",
    "    def _exp_range_scale_fn(self, x):\n",
    "        return self.gamma**(x)\n",
    "\n",
    "    def get_lr(self):\n",
    "        step_size = float(self.step_size)\n",
    "        cycle = np.floor(1 + self.last_batch_iteration / (2 * step_size))\n",
    "        x = np.abs(self.last_batch_iteration / step_size - 2 * cycle + 1)\n",
    "\n",
    "        lrs = []\n",
    "        param_lrs = zip(self.optimizer.param_groups, self.base_lrs, self.max_lrs)\n",
    "        for param_group, base_lr, max_lr in param_lrs:\n",
    "            base_height = (max_lr - base_lr) * np.maximum(0, (1 - x))\n",
    "            if self.scale_mode == 'cycle':\n",
    "                lr = base_lr + base_height * self.scale_fn(cycle)\n",
    "            else:\n",
    "                lr = base_lr + base_height * self.scale_fn(self.last_batch_iteration)\n",
    "            lrs.append(lr)\n",
    "        return lrs\n"
   ]
  },
  {
   "cell_type": "markdown",
   "metadata": {
    "_uuid": "b8caecb207a12d4a5524fe16e4524b31c7da8bac"
   },
   "source": [
    "### Model Architecture\n",
    "\n",
    "Binary LSTM with an attention layer and an additional fully connected layer. Also added extra features taken from a winning kernel of the toxic comments competition. Also using CLR and a capsule Layer. Blended together in concatentation.\n",
    "\n",
    "Initial idea borrowed from: https://www.kaggle.com/ziliwang/baseline-pytorch-bilstm"
   ]
  },
  {
   "cell_type": "code",
   "execution_count": null,
   "metadata": {
    "_uuid": "8f7e1d15451201efbac2741b03d4b0dfd3b9bfe0"
   },
   "outputs": [],
   "source": [
    "import torch as t\n",
    "import torch.nn as nn\n",
    "import torch.nn.functional as F\n",
    "\n",
    "embedding_dim = 300\n",
    "embedding_path = '../save/embedding_matrix.npy'  # or False, not use pre-trained-matrix\n",
    "use_pretrained_embedding = True\n",
    "\n",
    "hidden_size = 60\n",
    "gru_len = hidden_size\n",
    "\n",
    "Routings = 4 #5\n",
    "Num_capsule = 5\n",
    "Dim_capsule = 5#16\n",
    "dropout_p = 0.25\n",
    "rate_drop_dense = 0.28\n",
    "LR = 0.001\n",
    "T_epsilon = 1e-7\n",
    "num_classes = 30\n",
    "\n",
    "\n",
    "class Embed_Layer(nn.Module):\n",
    "    def __init__(self, embedding_matrix=None, vocab_size=None, embedding_dim=300):\n",
    "        super(Embed_Layer, self).__init__()\n",
    "        self.encoder = nn.Embedding(vocab_size + 1, embedding_dim)\n",
    "        if use_pretrained_embedding:\n",
    "            # self.encoder.weight.data.copy_(t.from_numpy(np.load(embedding_path))) # 方法一，加载np.save的npy文件\n",
    "            self.encoder.weight.data.copy_(t.from_numpy(embedding_matrix))  # 方法二\n",
    "\n",
    "    def forward(self, x, dropout_p=0.25):\n",
    "        return nn.Dropout(p=dropout_p)(self.encoder(x))\n",
    "\n",
    "\n",
    "class GRU_Layer(nn.Module):\n",
    "    def __init__(self):\n",
    "        super(GRU_Layer, self).__init__()\n",
    "        self.gru = nn.GRU(input_size=300,\n",
    "                          hidden_size=gru_len,\n",
    "                          bidirectional=True)\n",
    "        '''\n",
    "        自己修改GRU里面的激活函数及加dropout和recurrent_dropout\n",
    "        如果要使用，把rnn_revised import进来，但好像是使用cpu跑的，比较慢\n",
    "       '''\n",
    "        # # if you uncomment /*from rnn_revised import * */, uncomment following code aswell\n",
    "        # self.gru = RNNHardSigmoid('GRU', input_size=300,\n",
    "        #                           hidden_size=gru_len,\n",
    "        #                           bidirectional=True)\n",
    "\n",
    "    # 这步很关键，需要像keras一样用glorot_uniform和orthogonal_uniform初始化参数\n",
    "    def init_weights(self):\n",
    "        ih = (param.data for name, param in self.named_parameters() if 'weight_ih' in name)\n",
    "        hh = (param.data for name, param in self.named_parameters() if 'weight_hh' in name)\n",
    "        b = (param.data for name, param in self.named_parameters() if 'bias' in name)\n",
    "        for k in ih:\n",
    "            nn.init.xavier_uniform_(k)\n",
    "        for k in hh:\n",
    "            nn.init.orthogonal_(k)\n",
    "        for k in b:\n",
    "            nn.init.constant_(k, 0)\n",
    "\n",
    "    def forward(self, x):\n",
    "        return self.gru(x)\n",
    "\n",
    "\n",
    "# core caps_layer with squash func\n",
    "class Caps_Layer(nn.Module):\n",
    "    def __init__(self, input_dim_capsule=gru_len * 2, num_capsule=Num_capsule, dim_capsule=Dim_capsule, \\\n",
    "                 routings=Routings, kernel_size=(9, 1), share_weights=True,\n",
    "                 activation='default', **kwargs):\n",
    "        super(Caps_Layer, self).__init__(**kwargs)\n",
    "\n",
    "        self.num_capsule = num_capsule\n",
    "        self.dim_capsule = dim_capsule\n",
    "        self.routings = routings\n",
    "        self.kernel_size = kernel_size  # 暂时没用到\n",
    "        self.share_weights = share_weights\n",
    "        if activation == 'default':\n",
    "            self.activation = self.squash\n",
    "        else:\n",
    "            self.activation = nn.ReLU(inplace=True)\n",
    "\n",
    "        if self.share_weights:\n",
    "            self.W = nn.Parameter(\n",
    "                nn.init.xavier_normal_(t.empty(1, input_dim_capsule, self.num_capsule * self.dim_capsule)))\n",
    "        else:\n",
    "            self.W = nn.Parameter(\n",
    "                t.randn(BATCH_SIZE, input_dim_capsule, self.num_capsule * self.dim_capsule))  # 64即batch_size\n",
    "\n",
    "    def forward(self, x):\n",
    "\n",
    "        if self.share_weights:\n",
    "            u_hat_vecs = t.matmul(x, self.W)\n",
    "        else:\n",
    "            print('add later')\n",
    "\n",
    "        batch_size = x.size(0)\n",
    "        input_num_capsule = x.size(1)\n",
    "        u_hat_vecs = u_hat_vecs.view((batch_size, input_num_capsule,\n",
    "                                      self.num_capsule, self.dim_capsule))\n",
    "        u_hat_vecs = u_hat_vecs.permute(0, 2, 1, 3)  # 转成(batch_size,num_capsule,input_num_capsule,dim_capsule)\n",
    "        b = t.zeros_like(u_hat_vecs[:, :, :, 0])  # (batch_size,num_capsule,input_num_capsule)\n",
    "\n",
    "        for i in range(self.routings):\n",
    "            b = b.permute(0, 2, 1)\n",
    "            c = F.softmax(b, dim=2)\n",
    "            c = c.permute(0, 2, 1)\n",
    "            b = b.permute(0, 2, 1)\n",
    "            outputs = self.activation(t.einsum('bij,bijk->bik', (c, u_hat_vecs)))  # batch matrix multiplication\n",
    "            # outputs shape (batch_size, num_capsule, dim_capsule)\n",
    "            if i < self.routings - 1:\n",
    "                b = t.einsum('bik,bijk->bij', (outputs, u_hat_vecs))  # batch matrix multiplication\n",
    "        return outputs  # (batch_size, num_capsule, dim_capsule)\n",
    "\n",
    "    # text version of squash, slight different from original one\n",
    "    def squash(self, x, axis=-1):\n",
    "        s_squared_norm = (x ** 2).sum(axis, keepdim=True)\n",
    "        scale = t.sqrt(s_squared_norm + T_epsilon)\n",
    "        return x / scale\n",
    "    \n",
    "class Capsule_Main(nn.Module):\n",
    "    def __init__(self, embedding_matrix=None, vocab_size=None):\n",
    "        super(Capsule_Main, self).__init__()\n",
    "        self.embed_layer = Embed_Layer(embedding_matrix, vocab_size)\n",
    "        self.gru_layer = GRU_Layer()\n",
    "        # 【重要】初始化GRU权重操作，这一步非常关键，acc上升到0.98，如果用默认的uniform初始化则acc一直在0.5左右\n",
    "        self.gru_layer.init_weights()\n",
    "        self.caps_layer = Caps_Layer()\n",
    "        self.dense_layer = Dense_Layer()\n",
    "\n",
    "    def forward(self, content):\n",
    "        content1 = self.embed_layer(content)\n",
    "        content2, _ = self.gru_layer(\n",
    "            content1)  # 这个输出是个tuple，一个output(seq_len, batch_size, num_directions * hidden_size)，一个hn\n",
    "        content3 = self.caps_layer(content2)\n",
    "        output = self.dense_layer(content3)\n",
    "        return output\n",
    "    \n"
   ]
  },
  {
   "cell_type": "code",
   "execution_count": null,
   "metadata": {
    "_uuid": "170b27f66c7e546d8e84c79357d40f86c6b1ec42",
    "scrolled": true
   },
   "outputs": [],
   "source": [
    "class Attention(nn.Module):\n",
    "    def __init__(self, feature_dim, step_dim, bias=True, **kwargs):\n",
    "        super(Attention, self).__init__(**kwargs)\n",
    "        \n",
    "        self.supports_masking = True\n",
    "\n",
    "        self.bias = bias\n",
    "        self.feature_dim = feature_dim\n",
    "        self.step_dim = step_dim\n",
    "        self.features_dim = 0\n",
    "        \n",
    "        weight = torch.zeros(feature_dim, 1)\n",
    "        nn.init.xavier_uniform_(weight)\n",
    "        self.weight = nn.Parameter(weight)\n",
    "        \n",
    "        if bias:\n",
    "            self.b = nn.Parameter(torch.zeros(step_dim))\n",
    "        \n",
    "    def forward(self, x, mask=None):\n",
    "        feature_dim = self.feature_dim\n",
    "        step_dim = self.step_dim\n",
    "\n",
    "        eij = torch.mm(\n",
    "            x.contiguous().view(-1, feature_dim), \n",
    "            self.weight\n",
    "        ).view(-1, step_dim)\n",
    "        \n",
    "        if self.bias:\n",
    "            eij = eij + self.b\n",
    "            \n",
    "        eij = torch.tanh(eij)\n",
    "        a = torch.exp(eij)\n",
    "        \n",
    "        if mask is not None:\n",
    "            a = a * mask\n",
    "\n",
    "        a = a / torch.sum(a, 1, keepdim=True) + 1e-10\n",
    "\n",
    "        weighted_input = x * torch.unsqueeze(a, -1)\n",
    "        return torch.sum(weighted_input, 1)\n",
    "    \n",
    "class NeuralNet(nn.Module):\n",
    "    def __init__(self):\n",
    "        super(NeuralNet, self).__init__()\n",
    "        \n",
    "        fc_layer = 16\n",
    "        fc_layer1 = 16\n",
    "\n",
    "        self.embedding = nn.Embedding(max_features, embed_size)\n",
    "        self.embedding.weight = nn.Parameter(torch.tensor(embedding_matrix, dtype=torch.float32))\n",
    "        self.embedding.weight.requires_grad = False\n",
    "        \n",
    "        self.embedding_dropout = nn.Dropout2d(0.1)\n",
    "        self.lstm = nn.LSTM(embed_size, hidden_size, bidirectional=True, batch_first=True)\n",
    "        self.gru = nn.GRU(hidden_size * 2, hidden_size, bidirectional=True, batch_first=True)\n",
    "\n",
    "        self.lstm2 = nn.LSTM(hidden_size * 2, hidden_size, bidirectional=True, batch_first=True)\n",
    "\n",
    "        self.lstm_attention = Attention(hidden_size * 2, maxlen)\n",
    "        self.gru_attention = Attention(hidden_size * 2, maxlen)\n",
    "        \n",
    "        self.linear = nn.Linear(hidden_size*8+34, fc_layer1) #643:80 - 483:60 - 323:40\n",
    "        self.relu = nn.ReLU()\n",
    "        self.dropout = nn.Dropout(0.1)\n",
    "        self.fc = nn.Linear(fc_layer**2,fc_layer)\n",
    "        self.out = nn.Linear(fc_layer, 1)\n",
    "        self.lincaps = nn.Linear(Num_capsule * Dim_capsule, 32)\n",
    "        self.caps_layer = Caps_Layer()\n",
    "    \n",
    "    def forward(self, x):\n",
    "        \n",
    "#         Capsule(num_capsule=10, dim_capsule=10, routings=4, share_weights=True)(x)\n",
    "\n",
    "        h_embedding = self.embedding(x[0])\n",
    "        h_embedding = torch.squeeze(\n",
    "            self.embedding_dropout(torch.unsqueeze(h_embedding, 0)))\n",
    "        \n",
    "        h_lstm, _ = self.lstm(h_embedding)\n",
    "        h_gru, _ = self.gru(h_lstm)\n",
    "\n",
    "        ##Capsule Layer        \n",
    "        content3 = self.caps_layer(h_gru)\n",
    "        content3 = self.dropout(content3)\n",
    "        batch_size = content3.size(0)\n",
    "        content3 = content3.view(batch_size, -1)\n",
    "        content3 = self.relu(self.lincaps(content3))\n",
    "\n",
    "        ##Attention Layer\n",
    "        h_lstm_atten = self.lstm_attention(h_lstm)\n",
    "        h_gru_atten = self.gru_attention(h_gru)\n",
    "        \n",
    "        # global average pooling\n",
    "        avg_pool = torch.mean(h_gru, 1)\n",
    "        # global max pooling\n",
    "        max_pool, _ = torch.max(h_gru, 1)\n",
    "        \n",
    "        f = torch.tensor(x[1], dtype=torch.float).cuda()\n",
    "\n",
    "                #[512,160]\n",
    "        conc = torch.cat((h_lstm_atten, h_gru_atten,content3, avg_pool, max_pool,f), 1)\n",
    "        conc = self.relu(self.linear(conc))\n",
    "        conc = self.dropout(conc)\n",
    "\n",
    "        out = self.out(conc)\n",
    "        \n",
    "        return out"
   ]
  },
  {
   "cell_type": "markdown",
   "metadata": {
    "_uuid": "e4e47597cde552a41cdd8ec2531aa6a861e491ae"
   },
   "source": [
    "### Training\n",
    "\n",
    "The method is borrowed from https://www.kaggle.com/hengzheng/pytorch-starter"
   ]
  },
  {
   "cell_type": "code",
   "execution_count": null,
   "metadata": {
    "_uuid": "0c6339acdc14e6688ed47e9f439e81cd7cfca57f"
   },
   "outputs": [],
   "source": [
    "def sigmoid(x):\n",
    "    return 1 / (1 + np.exp(-x))\n",
    "\n",
    "# matrix for the out-of-fold predictions\n",
    "train_preds = np.zeros((len(x_train)))\n",
    "# matrix for the predictions on the test set\n",
    "test_preds = np.zeros((len(df_test)))\n",
    "\n",
    "# always call this before training for deterministic results\n",
    "seed_everything()\n",
    "\n",
    "# x_test_cuda_f = torch.tensor(x_test_f, dtype=torch.long).cuda()\n",
    "# test_f = torch.utils.data.TensorDataset(x_test_cuda_f)\n",
    "# test_loader_f = torch.utils.data.DataLoader(test_f, batch_size=batch_size, shuffle=False)\n",
    "\n",
    "\n",
    "x_test_cuda = torch.tensor(x_test, dtype=torch.long).cuda()\n",
    "test = torch.utils.data.TensorDataset(x_test_cuda)\n",
    "test_loader = torch.utils.data.DataLoader(test, batch_size=batch_size, shuffle=False)\n",
    "\n",
    "avg_losses_f = []\n",
    "avg_val_losses_f = []\n",
    "print('Time elapsed : {}'.format(start_time_-time.time()))"
   ]
  },
  {
   "cell_type": "code",
   "execution_count": null,
   "metadata": {
    "_uuid": "2cfdd46b117a11af54ed01f1f9511782e50a00fa",
    "scrolled": true
   },
   "outputs": [],
   "source": [
    "for i, (train_idx, valid_idx) in enumerate(splits):    \n",
    "    # split data in train / validation according to the KFold indeces\n",
    "    # also, convert them to a torch tensor and store them on the GPU (done with .cuda())\n",
    "    x_train = np.array(x_train)\n",
    "    y_train = np.array(y_train)\n",
    "    features = np.array(features)\n",
    "\n",
    "    x_train_fold = torch.tensor(x_train[train_idx.astype(int)], dtype=torch.long).cuda()\n",
    "    y_train_fold = torch.tensor(y_train[train_idx.astype(int), np.newaxis], dtype=torch.float32).cuda()\n",
    "    \n",
    "    kfold_X_features = features[train_idx.astype(int)]\n",
    "    kfold_X_valid_features = features[valid_idx.astype(int)]\n",
    "    x_val_fold = torch.tensor(x_train[valid_idx.astype(int)], dtype=torch.long).cuda()\n",
    "    y_val_fold = torch.tensor(y_train[valid_idx.astype(int), np.newaxis], dtype=torch.float32).cuda()\n",
    "    \n",
    "#     model = BiLSTM(lstm_layer=2,hidden_dim=40,dropout=DROPOUT).cuda()\n",
    "    model = NeuralNet()\n",
    "\n",
    "    # make sure everything in the model is running on the GPU\n",
    "    model.cuda()\n",
    "\n",
    "    # define binary cross entropy loss\n",
    "    # note that the model returns logit to take advantage of the log-sum-exp trick \n",
    "    # for numerical stability in the loss\n",
    "    loss_fn = torch.nn.BCEWithLogitsLoss(reduction='sum')\n",
    "\n",
    "    step_size = 300\n",
    "    base_lr, max_lr = 0.001, 0.003   \n",
    "    optimizer = torch.optim.Adam(filter(lambda p: p.requires_grad, model.parameters()), \n",
    "                             lr=max_lr)\n",
    "    \n",
    "    ################################################################################################\n",
    "    scheduler = CyclicLR(optimizer, base_lr=base_lr, max_lr=max_lr,\n",
    "               step_size=step_size, mode='exp_range',\n",
    "               gamma=0.99994)\n",
    "    scheduler = None\n",
    "    ###############################################################################################\n",
    "\n",
    "    train = torch.utils.data.TensorDataset(x_train_fold, y_train_fold)\n",
    "    valid = torch.utils.data.TensorDataset(x_val_fold, y_val_fold)\n",
    "    \n",
    "    train_loader = torch.utils.data.DataLoader(train, batch_size=batch_size, shuffle=True)\n",
    "    valid_loader = torch.utils.data.DataLoader(valid, batch_size=batch_size, shuffle=False)\n",
    "\n",
    "    print(f'Fold {i + 1}')\n",
    "    for epoch in range(n_epochs):\n",
    "        # set train mode of the model. This enables operations which are only applied during training like dropout\n",
    "        start_time = time.time()\n",
    "        model.train()\n",
    "\n",
    "        avg_loss = 0.  \n",
    "        for i, (x_batch, y_batch) in enumerate(train_loader):\n",
    "            # Forward pass: compute predicted y by passing x to the model.\n",
    "            ################################################################################################            \n",
    "            f = kfold_X_features[i * batch_size:(i+1) * batch_size]\n",
    "            y_pred = model([x_batch,f])\n",
    "            ################################################################################################\n",
    "\n",
    "            ################################################################################################\n",
    "\n",
    "            if scheduler:\n",
    "                scheduler.batch_step()\n",
    "            ################################################################################################\n",
    "\n",
    "\n",
    "            # Compute and print loss.\n",
    "            loss = loss_fn(y_pred, y_batch)\n",
    "\n",
    "            # Before the backward pass, use the optimizer object to zero all of the\n",
    "            # gradients for the Tensors it will update (which are the learnable weights\n",
    "            # of the model)\n",
    "            optimizer.zero_grad()\n",
    "\n",
    "            # Backward pass: compute gradient of the loss with respect to model parameters\n",
    "            loss.backward()\n",
    "\n",
    "            # Calling the step function on an Optimizer makes an update to its parameters\n",
    "            optimizer.step()\n",
    "            avg_loss += loss.item() / len(train_loader)\n",
    "            \n",
    "        # set evaluation mode of the model. This disabled operations which are only applied during training like dropout\n",
    "        model.eval()\n",
    "        \n",
    "        # predict all the samples in y_val_fold batch per batch\n",
    "        valid_preds_fold = np.zeros((x_val_fold.size(0)))\n",
    "        test_preds_fold = np.zeros((len(df_test)))\n",
    "        \n",
    "        avg_val_loss = 0.\n",
    "        for i, (x_batch, y_batch) in enumerate(valid_loader):\n",
    "            f = kfold_X_valid_features[i * batch_size:(i+1) * batch_size]            \n",
    "            y_pred = model([x_batch,f]).detach()\n",
    "            \n",
    "            avg_val_loss += loss_fn(y_pred, y_batch).item() / len(valid_loader)\n",
    "            valid_preds_fold[i * batch_size:(i+1) * batch_size] = sigmoid(y_pred.cpu().numpy())[:, 0]\n",
    "        \n",
    "        elapsed_time = time.time() - start_time \n",
    "        print('Epoch {}/{} \\t loss={:.4f} \\t val_loss={:.4f} \\t time={:.2f}s'.format(\n",
    "            epoch + 1, n_epochs, avg_loss, avg_val_loss, elapsed_time))\n",
    "    avg_losses_f.append(avg_loss)\n",
    "    avg_val_losses_f.append(avg_val_loss) \n",
    "    # predict all samples in the test set batch per batch\n",
    "    for i, (x_batch,) in enumerate(test_loader):\n",
    "        f = test_features[i * batch_size:(i+1) * batch_size]\n",
    "        y_pred = model([x_batch,f]).detach()\n",
    "\n",
    "        test_preds_fold[i * batch_size:(i+1) * batch_size] = sigmoid(y_pred.cpu().numpy())[:, 0]\n",
    "        \n",
    "    train_preds[valid_idx] = valid_preds_fold\n",
    "    test_preds += test_preds_fold / len(splits)\n",
    "\n",
    "print('All \\t loss={:.4f} \\t val_loss={:.4f} \\t '.format(np.average(avg_losses_f),np.average(avg_val_losses_f)))\n",
    "\n",
    "# x_train, x_test_f, y_train, y_test_f"
   ]
  },
  {
   "cell_type": "markdown",
   "metadata": {
    "_uuid": "1d2187d4bbf48350eaf365b6dd8b027d5be69e0c"
   },
   "source": [
    "### Find final Thresshold\n",
    "\n",
    "Borrowed from: https://www.kaggle.com/ziliwang/baseline-pytorch-bilstm"
   ]
  },
  {
   "cell_type": "code",
   "execution_count": null,
   "metadata": {
    "_uuid": "dc4a4c681294ba06526fed4e871cfe8639cf25e4",
    "scrolled": true
   },
   "outputs": [],
   "source": [
    "def bestThresshold(y_train,train_preds):\n",
    "    # since we know that the function in concave\n",
    "    bd = (0.0, 0.5, 1.0) # left, middle, right\n",
    "    val = (0.0, f1_score(y_train, np.array(train_preds)>bd[1]), 0.0)\n",
    "    for _ in tqdm(range(20)):\n",
    "        left_mid = 0.5*(bd[0]+bd[1])\n",
    "        right_mid = 0.5*(bd[1]+bd[2])\n",
    "        left_mid_val = f1_score(y_train, np.array(train_preds)>left_mid)\n",
    "        right_mid_val = f1_score(y_train, np.array(train_preds)>right_mid)\n",
    "        if left_mid_val > right_mid_val:\n",
    "            bd = (bd[0], left_mid, bd[1])\n",
    "            print('when threshold is {:.6f}, F1 score is {:.6f}'.format(bd[1], left_mid_val))\n",
    "        else:\n",
    "            bd = (bd[1], right_mid, bd[2])\n",
    "            print('when threshold is {:.6f}, F1 score is {:.6f}'.format(bd[1], right_mid_val))\n",
    "    return bd[1]\n",
    "\n",
    "delta = bestThresshold(y_train,train_preds)"
   ]
  },
  {
   "cell_type": "code",
   "execution_count": null,
   "metadata": {
    "_uuid": "d17dd7b0a92ec98134bf8996fd210edaadf7bed6",
    "scrolled": true
   },
   "outputs": [],
   "source": [
    "print('Time elapsed : {}'.format(start_time_-time.time()))\n",
    "submission = df_test[['qid']].copy()\n",
    "submission['prediction'] = (test_preds > delta).astype(int)\n",
    "submission.to_csv('submission.csv', index=False)"
   ]
  },
  {
   "cell_type": "code",
   "execution_count": null,
   "metadata": {
    "_uuid": "a1a07a65e47b5dcefaac040f3f633dc077e8f61e",
    "scrolled": true
   },
   "outputs": [],
   "source": [
    "!head submission.csv"
   ]
  },
  {
   "cell_type": "code",
   "execution_count": null,
   "metadata": {
    "_uuid": "877e136bff87b72486555718acb4255c4a2b6d7c"
   },
   "outputs": [],
   "source": []
  }
 ],
 "metadata": {
  "kernelspec": {
   "display_name": "Python 3",
   "language": "python",
   "name": "python3"
  },
  "language_info": {
   "codemirror_mode": {
    "name": "ipython",
    "version": 3
   },
   "file_extension": ".py",
   "mimetype": "text/x-python",
   "name": "python",
   "nbconvert_exporter": "python",
   "pygments_lexer": "ipython3",
   "version": "3.5.3"
  }
 },
 "nbformat": 4,
 "nbformat_minor": 1
}
